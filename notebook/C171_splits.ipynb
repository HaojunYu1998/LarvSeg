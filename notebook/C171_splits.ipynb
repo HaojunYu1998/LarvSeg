{
 "cells": [
  {
   "cell_type": "code",
   "execution_count": 8,
   "metadata": {},
   "outputs": [],
   "source": [
    "split1_novel_dids = [3, 6, 10, 11, 18, 19, 26, 27, 31, 34, 37, 38, 40, 41, 50, 53, 55, 59, 61, 68, 76, 82, 85, 90, 92,\n",
    "                     94, 103, 106, 108, 112, 113, 117, 120, 127, 129, 131, 141, 146, 155, 156, 159, 166, 169]\n",
    "\n",
    "# SPLIT 2\n",
    "split2_novel_dids = [1, 3, 6, 7, 9, 10, 13, 27, 31, 35, 38, 40, 43, 44, 53, 62, 68, 74, 77, 80, 82, 84, 86, 99, 101,\n",
    "                     108, 110, 111, 116, 118, 121, 122, 125, 131, 137, 141, 148, 153, 155, 156, 160, 161, 166]\n",
    "\n",
    "# SPLIT 3\n",
    "split3_novel_dids = [0, 5, 10, 13, 15, 16, 20, 23, 25, 27, 28, 31, 33, 34, 35, 36, 40, 43, 47, 50, 51, 58, 62, 69, 80,\n",
    "                     81, 83, 84, 87, 90, 101, 105, 119, 121, 124, 126, 137, 138, 150, 154, 157, 158, 164]\n",
    "\n",
    "randp = [170, 112, 3, 26, 121, 69, 50, 87, 14, 13, 58, 106, 17, 134, 164, 161, 100, 151, 24, 114, 25, 92, 12, 61, 102,\n",
    "         113, 89, 110, 76, 128, 149, 57, 144, 137, 46, 27, 83, 133, 162, 37, 109, 33, 40, 82, 47, 0, 31, 111, 66, 91,\n",
    "         120, 136, 39, 157, 163, 45, 28, 131, 9, 49, 19, 155, 150, 1, 4, 68, 130, 42, 132, 75, 71, 48, 7, 85, 116, 96,\n",
    "         93, 159, 139, 115, 95, 105, 78, 156, 54, 5, 11, 44, 65, 88, 62, 60, 41, 104, 107, 8, 168, 117, 98, 143]\n",
    "\n",
    "# SPLIT 4\n",
    "novel_num = round(171 / 4)\n",
    "split4_novel_dids = randp[:novel_num]"
   ]
  },
  {
   "cell_type": "code",
   "execution_count": 9,
   "metadata": {},
   "outputs": [
    {
     "data": {
      "text/plain": [
       "(43, 43, 43, 43)"
      ]
     },
     "execution_count": 9,
     "metadata": {},
     "output_type": "execute_result"
    }
   ],
   "source": [
    "len(split1_novel_dids), len(split2_novel_dids), len(split3_novel_dids), len(split4_novel_dids)"
   ]
  },
  {
   "cell_type": "code",
   "execution_count": 15,
   "metadata": {},
   "outputs": [
    {
     "name": "stdout",
     "output_type": "stream",
     "text": [
      "170, 112, 3, 26, 121, 69, 50, 87, 14, 13, 58, 106, 17, 134, 164, 161, 100, 151, 24, 114, 25, 92, 12, 61, 102, 113, 89, 110, 76, 128, 149, 57, 144, 137, 46, 27, 83, 133, 162, 37, 109, 33, 40, "
     ]
    }
   ],
   "source": [
    "for i in split4_novel_dids:\n",
    "    print(i, end=\", \")"
   ]
  },
  {
   "cell_type": "code",
   "execution_count": null,
   "metadata": {},
   "outputs": [],
   "source": []
  }
 ],
 "metadata": {
  "kernelspec": {
   "display_name": "openseg",
   "language": "python",
   "name": "python3"
  },
  "language_info": {
   "codemirror_mode": {
    "name": "ipython",
    "version": 3
   },
   "file_extension": ".py",
   "mimetype": "text/x-python",
   "name": "python",
   "nbconvert_exporter": "python",
   "pygments_lexer": "ipython3",
   "version": "3.8.13 (default, Mar 28 2022, 11:38:47) \n[GCC 7.5.0]"
  },
  "orig_nbformat": 4,
  "vscode": {
   "interpreter": {
    "hash": "eb1b0331be7fe2a4d3bed66587d9247426bb7c92ddb75f50ff73b13b9866312b"
   }
  }
 },
 "nbformat": 4,
 "nbformat_minor": 2
}
