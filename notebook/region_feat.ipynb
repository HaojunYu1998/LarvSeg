{
 "cells": [
  {
   "cell_type": "code",
   "execution_count": 5,
   "metadata": {},
   "outputs": [
    {
     "data": {
      "text/plain": [
       "tensor([0, 1, 2, 0, 1, 3, 0, 0, 1, 0, 0, 0, 1, 1, 0, 3, 0, 0, 1, 2, 1, 2, 0, 5,\n",
       "        0, 0, 5, 1, 0, 1, 0, 0, 0, 4, 0, 2, 0, 0, 0, 3, 0, 1, 0, 0, 0, 0, 0, 3,\n",
       "        0, 0, 0, 0, 0, 0, 2, 0, 1, 1, 0, 0, 0, 1, 1, 0, 1, 1, 3, 3, 0, 0, 0, 3,\n",
       "        0, 2, 3, 0, 1, 0, 1, 0, 1, 0, 2, 0, 0, 2, 1, 0, 3, 2, 0, 5, 3, 0, 1, 0,\n",
       "        0, 3, 1, 1, 0, 2, 2, 5, 0, 0, 0, 0, 0, 0, 0, 1, 0, 0, 1, 1, 0, 2, 1, 3,\n",
       "        0, 0, 0, 0, 0, 0, 0, 1, 0, 0, 0, 0, 4, 0, 0, 0, 0, 2, 1, 3, 1, 0, 0, 0,\n",
       "        0, 2, 2, 2, 0, 0, 0, 0, 2, 0, 2, 0, 2, 0, 0, 0, 1, 0, 5, 2, 2, 0, 3, 1,\n",
       "        0, 2, 4, 1, 0, 0, 2, 2, 0, 0, 1, 0, 0, 2, 0, 0, 2, 0, 0, 0, 2, 0, 0, 0,\n",
       "        1, 1, 0, 0, 2, 3, 2, 1, 2, 1, 0, 0, 1, 0, 4, 3, 0, 0, 2, 0, 0, 0, 0, 1,\n",
       "        0, 0, 0, 0, 0, 0, 0, 0, 1, 2, 0, 0, 1, 0, 1, 3, 1])"
      ]
     },
     "execution_count": 5,
     "metadata": {},
     "output_type": "execute_result"
    }
   ],
   "source": [
    "import torch\n",
    "# model = torch.load(\n",
    "#     \"/mnt/haojun/itpsea4data/mmseg/work_dirs/20221018_vitb16_attn4_cosine_160k_bs16_coco171_in130_seed0.1_coseg0.4/iter_160000.pth\",\n",
    "#     map_location=\"cpu\"\n",
    "# )\n",
    "model2 = torch.load(\n",
    "    \"/mnt/haojun/itpsea4data/mmseg/work_dirs/vitb16_attn4_cosine_160k_bs16_coco171_in130_seed0.1_coseg0.2_mean/iter_100.pth\",\n",
    "    map_location=\"cpu\"\n",
    ")\n",
    "model2[\"state_dict\"][\"decode_head.ptr\"]"
   ]
  },
  {
   "cell_type": "code",
   "execution_count": null,
   "metadata": {},
   "outputs": [],
   "source": [
    "for k in model2[\"state_dict\"]:\n",
    "    if \"queue\" in k:\n",
    "        ptr = f\"decode_head.ptr{k.lstrip('decode_head.queue')}\"\n",
    "        ptr = model2[\"state_dict\"][ptr]\n",
    "        queue = model2[\"state_dict\"][k]\n",
    "        queue = queue / queue.norm(dim=-1, keepdim=True)\n",
    "        cos = queue @ queue.T\n",
    "        mask = ~(torch.eye(len(cos)).bool())\n",
    "        cos = cos[mask]\n",
    "        print(k, cos.mean(), cos.max(), cos.min(), ptr)"
   ]
  },
  {
   "cell_type": "code",
   "execution_count": 12,
   "metadata": {},
   "outputs": [],
   "source": [
    "from glob import glob\n",
    "\n",
    "files = glob(\"./embeddings/*.pth\")"
   ]
  },
  {
   "cell_type": "code",
   "execution_count": 14,
   "metadata": {},
   "outputs": [],
   "source": [
    "file_pairs = {}\n",
    "for f in files:\n",
    "    img_cls = f.split(\"/\")[-1].split(\"_\")[1]\n",
    "    if img_cls not in file_pairs:\n",
    "        file_pairs[img_cls] = []\n",
    "    file_pairs[img_cls].append(f)"
   ]
  },
  {
   "cell_type": "code",
   "execution_count": 25,
   "metadata": {},
   "outputs": [
    {
     "data": {
      "text/plain": [
       "(torch.Size([520, 768]), torch.Size([540, 768]))"
      ]
     },
     "execution_count": 25,
     "metadata": {},
     "output_type": "execute_result"
    }
   ],
   "source": [
    "a = torch.load(file_pairs[\"n03085602\"][0], map_location=\"cpu\").reshape(768, -1).permute(1,0)\n",
    "b = torch.load(file_pairs[\"n04446276\"][0], map_location=\"cpu\").reshape(768, -1).permute(1,0)\n",
    "a.shape, b.shape"
   ]
  },
  {
   "cell_type": "code",
   "execution_count": 26,
   "metadata": {},
   "outputs": [
    {
     "name": "stdout",
     "output_type": "stream",
     "text": [
      "tensor(0.1687) tensor(0.1444) tensor(0.7368) tensor(-0.1785)\n"
     ]
    }
   ],
   "source": [
    "cos = a @ b.T\n",
    "print(cos.mean(), cos.std(), cos.max(), cos.min())"
   ]
  },
  {
   "cell_type": "code",
   "execution_count": 31,
   "metadata": {},
   "outputs": [
    {
     "name": "stdout",
     "output_type": "stream",
     "text": [
      "tensor(0.6521) tensor(nan) tensor(0.6521) tensor(0.6521)\n"
     ]
    }
   ],
   "source": [
    "for img_cls in file_pairs:\n",
    "    fs = file_pairs[img_cls]\n",
    "    e1 = torch.load(fs[0], map_location=\"cpu\").reshape(768, -1).permute(1,0)\n",
    "    e2 = torch.load(fs[1], map_location=\"cpu\").reshape(768, -1).permute(1,0)\n",
    "    e1 = e1.mean(dim=0)\n",
    "    e2 = e2.mean(dim=0)\n",
    "    e1 = e1 / e1.norm(dim=-1, keepdim=True)\n",
    "    e2 = e2 / e2.norm(dim=-1, keepdim=True)\n",
    "    cos = e1 @ e2.T\n",
    "    print(cos.mean(), cos.std(), cos.max(), cos.min())\n",
    "    break"
   ]
  },
  {
   "cell_type": "code",
   "execution_count": null,
   "metadata": {},
   "outputs": [],
   "source": []
  }
 ],
 "metadata": {
  "kernelspec": {
   "display_name": "openseg",
   "language": "python",
   "name": "python3"
  },
  "language_info": {
   "codemirror_mode": {
    "name": "ipython",
    "version": 3
   },
   "file_extension": ".py",
   "mimetype": "text/x-python",
   "name": "python",
   "nbconvert_exporter": "python",
   "pygments_lexer": "ipython3",
   "version": "3.8.13 (default, Mar 28 2022, 11:38:47) \n[GCC 7.5.0]"
  },
  "orig_nbformat": 4,
  "vscode": {
   "interpreter": {
    "hash": "eb1b0331be7fe2a4d3bed66587d9247426bb7c92ddb75f50ff73b13b9866312b"
   }
  }
 },
 "nbformat": 4,
 "nbformat_minor": 2
}
