{
 "cells": [
  {
   "cell_type": "code",
   "execution_count": 3,
   "metadata": {},
   "outputs": [],
   "source": [
    "with open(\"pc459_labels.txt\") as f:\n",
    "    lines = f.readlines()\n",
    "\n",
    "lines = [l.split(\":\")[-1].strip() for l in lines]"
   ]
  },
  {
   "cell_type": "code",
   "execution_count": 6,
   "metadata": {},
   "outputs": [
    {
     "name": "stdout",
     "output_type": "stream",
     "text": [
      "'accordion', 'aeroplane', 'air conditioner', 'antenna', 'artillery', 'ashtray', 'atrium', \n",
      "'baby carriage', 'bag', 'ball', 'balloon', 'bamboo weaving', 'barrel', 'baseball bat', \n",
      "'basket', 'basketball backboard', 'bathtub', 'bed', 'bedclothes', 'beer', 'bell', \n",
      "'bench', 'bicycle', 'binoculars', 'bird', 'bird cage', 'bird feeder', 'bird nest', \n",
      "'blackboard', 'board', 'boat', 'bone', 'book', 'bottle', 'bottle opener', \n",
      "'bowl', 'box', 'bracelet', 'brick', 'bridge', 'broom', 'brush', \n",
      "'bucket', 'building', 'bus', 'cabinet', 'cabinet door', 'cage', 'cake', \n",
      "'calculator', 'calendar', 'camel', 'camera', 'camera lens', 'can', 'candle', \n",
      "'candle holder', 'cap', 'car', 'card', 'cart', 'case', 'casette recorder', \n",
      "'cash register', 'cat', 'cd', 'cd player', 'ceiling', 'cell phone', 'cello', \n",
      "'chain', 'chair', 'chessboard', 'chicken', 'chopstick', 'clip', 'clippers', \n",
      "'clock', 'closet', 'cloth', 'clothes tree', 'coffee', 'coffee machine', 'comb', \n",
      "'computer', 'concrete', 'cone', 'container', 'control booth', 'controller', 'cooker', \n",
      "'copying machine', 'coral', 'cork', 'corkscrew', 'counter', 'court', 'cow', \n",
      "'crabstick', 'crane', 'crate', 'cross', 'crutch', 'cup', 'curtain', \n",
      "'cushion', 'cutting board', 'dais', 'disc', 'disc case', 'dishwasher', 'dock', \n",
      "'dog', 'dolphin', 'door', 'drainer', 'dray', 'drink dispenser', 'drinking machine', \n",
      "'drop', 'drug', 'drum', 'drum kit', 'duck', 'dumbbell', 'earphone', \n",
      "'earrings', 'egg', 'electric fan', 'electric iron', 'electric pot', 'electric saw', 'electronic keyboard', \n",
      "'engine', 'envelope', 'equipment', 'escalator', 'exhibition booth', 'extinguisher', 'eyeglass', \n",
      "'fan', 'faucet', 'fax machine', 'fence', 'ferris wheel', 'fire extinguisher', 'fire hydrant', \n",
      "'fire place', 'fish', 'fish tank', 'fishbowl', 'fishing net', 'fishing pole', 'flag', \n",
      "'flagstaff', 'flame', 'flashlight', 'floor', 'flower', 'fly', 'foam', \n",
      "'food', 'footbridge', 'forceps', 'fork', 'forklift', 'fountain', 'fox', \n",
      "'frame', 'fridge', 'frog', 'fruit', 'funnel', 'furnace', 'game controller', \n",
      "'game machine', 'gas cylinder', 'gas hood', 'gas stove', 'gift box', 'glass', 'glass marble', \n",
      "'globe', 'glove', 'goal', 'grandstand', 'grass', 'gravestone', 'ground', \n",
      "'guardrail', 'guitar', 'gun', 'hammer', 'hand cart', 'handle', 'handrail', \n",
      "'hanger', 'hard disk drive', 'hat', 'hay', 'headphone', 'heater', 'helicopter', \n",
      "'helmet', 'holder', 'hook', 'horse', 'horse-drawn carriage', 'hot-air balloon', 'hydrovalve', \n",
      "'ice', 'inflator pump', 'ipod', 'iron', 'ironing board', 'jar', 'kart', \n",
      "'kettle', 'key', 'keyboard', 'kitchen range', 'kite', 'knife', 'knife block', \n",
      "'ladder', 'ladder truck', 'ladle', 'laptop', 'leaves', 'lid', 'life buoy', \n",
      "'light', 'light bulb', 'lighter', 'line', 'lion', 'lobster', 'lock', \n",
      "'machine', 'mailbox', 'mannequin', 'map', 'mask', 'mat', 'match book', \n",
      "'mattress', 'menu', 'metal', 'meter box', 'microphone', 'microwave', 'mirror', \n",
      "'missile', 'model', 'money', 'monkey', 'mop', 'motorbike', 'mountain', \n",
      "'mouse', 'mouse pad', 'musical instrument', 'napkin', 'net', 'newspaper', 'oar', \n",
      "'ornament', 'outlet', 'oven', 'oxygen bottle', 'pack', 'pan', 'paper', \n",
      "'paper box', 'paper cutter', 'parachute', 'parasol', 'parterre', 'patio', 'pelage', \n",
      "'pen', 'pen container', 'pencil', 'person', 'photo', 'piano', 'picture', \n",
      "'pig', 'pillar', 'pillow', 'pipe', 'pitcher', 'plant', 'plastic', \n",
      "'plate', 'platform', 'player', 'playground', 'pliers', 'plume', 'poker', \n",
      "'poker chip', 'pole', 'pool table', 'postcard', 'poster', 'pot', 'pottedplant', \n",
      "'printer', 'projector', 'pumpkin', 'rabbit', 'racket', 'radiator', 'radio', \n",
      "'rail', 'rake', 'ramp', 'range hood', 'receiver', 'recorder', 'recreational machines', \n",
      "'remote control', 'road', 'robot', 'rock', 'rocket', 'rocking horse', 'rope', \n",
      "'rug', 'ruler', 'runway', 'saddle', 'sand', 'saw', 'scale', \n",
      "'scanner', 'scissors', 'scoop', 'screen', 'screwdriver', 'sculpture', 'scythe', \n",
      "'sewer', 'sewing machine', 'shed', 'sheep', 'shell', 'shelves', 'shoe', \n",
      "'shopping cart', 'shovel', 'sidecar', 'sidewalk', 'sign', 'signal light', 'sink', \n",
      "'skateboard', 'ski', 'sky', 'sled', 'slippers', 'smoke', 'snail', \n",
      "'snake', 'snow', 'snowmobiles', 'sofa', 'spanner', 'spatula', 'speaker', \n",
      "'speed bump', 'spice container', 'spoon', 'sprayer', 'squirrel', 'stage', 'stair', \n",
      "'stapler', 'stick', 'sticky note', 'stone', 'stool', 'stove', 'straw', \n",
      "'stretcher', 'sun', 'sunglass', 'sunshade', 'surveillance camera', 'swan', 'sweeper', \n",
      "'swim ring', 'swimming pool', 'swing', 'switch', 'table', 'tableware', 'tank', \n",
      "'tap', 'tape', 'tarp', 'telephone', 'telephone booth', 'tent', 'tire', \n",
      "'toaster', 'toilet', 'tong', 'tool', 'toothbrush', 'towel', 'toy', \n",
      "'toy car', 'track', 'train', 'trampoline', 'trash bin', 'tray', 'tree', \n",
      "'tricycle', 'tripod', 'trophy', 'truck', 'tube', 'turtle', 'tvmonitor', \n",
      "'tweezers', 'typewriter', 'umbrella', 'unknown', 'vacuum cleaner', 'vending machine', 'video camera', \n",
      "'video game console', 'video player', 'video tape', 'violin', 'wakeboard', 'wall', 'wallet', \n",
      "'wardrobe', 'washing machine', 'watch', 'water', 'water dispenser', 'water pipe', 'water skate board', \n",
      "'watermelon', 'whale', 'wharf', 'wheel', 'wheelchair', 'window', 'window blinds', \n",
      "'wineglass', 'wire', 'wood', 'wool', "
     ]
    }
   ],
   "source": [
    "for i, c in enumerate(lines):\n",
    "    print(f\"'{c}'\", end=\", \")\n",
    "    if (i + 1) % 7 == 0:\n",
    "        print()"
   ]
  },
  {
   "cell_type": "code",
   "execution_count": 4,
   "metadata": {},
   "outputs": [
    {
     "data": {
      "text/plain": [
       "<matplotlib.image.AxesImage at 0x7f241bf28940>"
      ]
     },
     "execution_count": 4,
     "metadata": {},
     "output_type": "execute_result"
    },
    {
     "data": {
      "image/png": "[encoded data removed]",
      "text/plain": [
       "<Figure size 432x288 with 1 Axes>"
      ]
     },
     "metadata": {
      "needs_background": "light"
     },
     "output_type": "display_data"
    }
   ],
   "source": [
    "import numpy as np\n",
    "from PIL import Image\n",
    "import matplotlib.pyplot as plt\n",
    "\n",
    "img = Image.open(\"/mnt/haojun/itpsea4data/dataset/pcontext_full/val/label/2008_000002.tif\")\n",
    "\n",
    "plt.imshow(np.array(img))"
   ]
  },
  {
   "cell_type": "code",
   "execution_count": 3,
   "metadata": {},
   "outputs": [
    {
     "data": {
      "text/plain": [
       "array([[453, 453, 453, ..., 453, 453, 453],\n",
       "       [453, 453, 453, ..., 453, 453, 453],\n",
       "       [453, 453, 453, ..., 453, 453, 453],\n",
       "       ...,\n",
       "       [430, 430, 430, ..., 272, 272, 272],\n",
       "       [430, 430, 430, ..., 272, 272, 272],\n",
       "       [430, 430, 430, ..., 272, 272, 272]], dtype=uint16)"
      ]
     },
     "execution_count": 3,
     "metadata": {},
     "output_type": "execute_result"
    }
   ],
   "source": [
    "np.array(img)"
   ]
  },
  {
   "cell_type": "code",
   "execution_count": 5,
   "metadata": {},
   "outputs": [
    {
     "data": {
      "text/plain": [
       "array([272, 396, 426, 430, 453], dtype=uint16)"
      ]
     },
     "execution_count": 5,
     "metadata": {},
     "output_type": "execute_result"
    }
   ],
   "source": [
    "np.unique(img)"
   ]
  },
  {
   "cell_type": "code",
   "execution_count": 4,
   "metadata": {},
   "outputs": [
    {
     "name": "stderr",
     "output_type": "stream",
     "text": [
      "100%|██████████| 4996/4996 [01:25<00:00, 58.39it/s]\n"
     ]
    },
    {
     "data": {
      "text/plain": [
       "array([  0,   1,   2,   5,   6,   7,   8,   9,  10,  12,  13,  14,  15,\n",
       "        16,  17,  18,  20,  21,  22,  24,  25,  26,  27,  28,  29,  30,\n",
       "        31,  32,  33,  35,  36,  37,  38,  39,  40,  41,  42,  43,  44,\n",
       "        45,  46,  47,  50,  52,  54,  55,  56,  57,  58,  59,  60,  61,\n",
       "        64,  65,  67,  68,  70,  71,  72,  74,  77,  78,  79,  81,  82,\n",
       "        84,  85,  86,  87,  89,  95,  96,  97,  98,  99, 100, 101, 102,\n",
       "       103, 104, 105, 106, 108, 109, 111, 112, 114, 115, 116, 117, 121,\n",
       "       122, 123, 125, 126, 127, 128, 129, 131, 133, 135, 138, 139, 140,\n",
       "       141, 142, 143, 145, 146, 147, 148, 149, 153, 154, 156, 157, 158,\n",
       "       161, 162, 164, 168, 169, 170, 171, 172, 173, 174, 179, 180, 183,\n",
       "       184, 185, 186, 188, 189, 190, 193, 195, 196, 198, 199, 200, 201,\n",
       "       202, 203, 204, 205, 206, 207, 208, 210, 212, 213, 214, 215, 216,\n",
       "       218, 219, 220, 221, 222, 223, 224, 226, 227, 228, 230, 231, 233,\n",
       "       239, 240, 241, 243, 245, 246, 247, 248, 249, 250, 251, 252, 256,\n",
       "       257, 258, 259, 260, 261, 262, 263, 264, 265, 266, 267, 268, 270,\n",
       "       271, 272, 273, 274, 275, 276, 280, 281, 282, 283, 284, 285, 286,\n",
       "       287, 288, 289, 290, 291, 292, 293, 294, 295, 296, 302, 303, 305,\n",
       "       306, 307, 308, 309, 311, 313, 314, 315, 316, 318, 319, 320, 321,\n",
       "       322, 323, 325, 328, 329, 330, 331, 332, 333, 337, 339, 340, 341,\n",
       "       343, 344, 345, 346, 347, 348, 349, 350, 351, 352, 353, 354, 355,\n",
       "       356, 357, 359, 361, 362, 364, 365, 367, 370, 372, 373, 376, 377,\n",
       "       378, 379, 380, 382, 383, 384, 387, 388, 390, 392, 393, 395, 396,\n",
       "       397, 398, 399, 400, 402, 404, 405, 406, 407, 408, 409, 410, 411,\n",
       "       412, 413, 414, 415, 416, 417, 418, 419, 422, 423, 424, 425, 426,\n",
       "       428, 429, 430, 431, 432, 433, 434, 435, 437, 439, 440, 441, 442,\n",
       "       443, 444, 445, 446, 447, 448, 451, 452, 453, 454, 455, 456, 457,\n",
       "       458], dtype=uint16)"
      ]
     },
     "execution_count": 4,
     "metadata": {},
     "output_type": "execute_result"
    }
   ],
   "source": [
    "from glob import glob\n",
    "import numpy as np\n",
    "from PIL import Image\n",
    "import matplotlib.pyplot as plt\n",
    "from tqdm import tqdm\n",
    "\n",
    "val_labels = glob(\"/mnt/haojun/itpsea4data/dataset/pcontext_full/train/label/*.tif\")\n",
    "\n",
    "unique_label = []\n",
    "for l in tqdm(val_labels):\n",
    "    unique_label += list(np.unique(np.array(Image.open(l))))\n",
    "np.unique(unique_label)"
   ]
  },
  {
   "cell_type": "code",
   "execution_count": 6,
   "metadata": {},
   "outputs": [
    {
     "data": {
      "text/plain": [
       "339"
      ]
     },
     "execution_count": 6,
     "metadata": {},
     "output_type": "execute_result"
    }
   ],
   "source": [
    "len(np.unique(unique_label))"
   ]
  },
  {
   "cell_type": "code",
   "execution_count": 6,
   "metadata": {},
   "outputs": [],
   "source": [
    "p459_classes = ('accordion', 'aeroplane', 'air conditioner', 'antenna', 'artillery', 'ashtray', 'atrium', \n",
    "'baby carriage', 'bag', 'ball', 'balloon', 'bamboo weaving', 'barrel', 'baseball bat', \n",
    "'basket', 'basketball backboard', 'bathtub', 'bed', 'bedclothes', 'beer', 'bell', \n",
    "'bench', 'bicycle', 'binoculars', 'bird', 'bird cage', 'bird feeder', 'bird nest', \n",
    "'blackboard', 'board', 'boat', 'bone', 'book', 'bottle', 'bottle opener', \n",
    "'bowl', 'box', 'bracelet', 'brick', 'bridge', 'broom', 'brush', \n",
    "'bucket', 'building', 'bus', 'cabinet', 'cabinet door', 'cage', 'cake', \n",
    "'calculator', 'calendar', 'camel', 'camera', 'camera lens', 'can', 'candle', \n",
    "'candle holder', 'cap', 'car', 'card', 'cart', 'case', 'casette recorder', \n",
    "'cash register', 'cat', 'cd', 'cd player', 'ceiling', 'cell phone', 'cello', \n",
    "'chain', 'chair', 'chessboard', 'chicken', 'chopstick', 'clip', 'clippers', \n",
    "'clock', 'closet', 'cloth', 'clothes tree', 'coffee', 'coffee machine', 'comb', \n",
    "'computer', 'concrete', 'cone', 'container', 'control booth', 'controller', 'cooker', \n",
    "'copying machine', 'coral', 'cork', 'corkscrew', 'counter', 'court', 'cow', \n",
    "'crabstick', 'crane', 'crate', 'cross', 'crutch', 'cup', 'curtain', \n",
    "'cushion', 'cutting board', 'dais', 'disc', 'disc case', 'dishwasher', 'dock', \n",
    "'dog', 'dolphin', 'door', 'drainer', 'dray', 'drink dispenser', 'drinking machine', \n",
    "'drop', 'drug', 'drum', 'drum kit', 'duck', 'dumbbell', 'earphone', \n",
    "'earrings', 'egg', 'electric fan', 'electric iron', 'electric pot', 'electric saw', 'electronic keyboard', \n",
    "'engine', 'envelope', 'equipment', 'escalator', 'exhibition booth', 'extinguisher', 'eyeglass', \n",
    "'fan', 'faucet', 'fax machine', 'fence', 'ferris wheel', 'fire extinguisher', 'fire hydrant', \n",
    "'fire place', 'fish', 'fish tank', 'fishbowl', 'fishing net', 'fishing pole', 'flag', \n",
    "'flagstaff', 'flame', 'flashlight', 'floor', 'flower', 'fly', 'foam', \n",
    "'food', 'footbridge', 'forceps', 'fork', 'forklift', 'fountain', 'fox', \n",
    "'frame', 'fridge', 'frog', 'fruit', 'funnel', 'furnace', 'game controller', \n",
    "'game machine', 'gas cylinder', 'gas hood', 'gas stove', 'gift box', 'glass', 'glass marble', \n",
    "'globe', 'glove', 'goal', 'grandstand', 'grass', 'gravestone', 'ground', \n",
    "'guardrail', 'guitar', 'gun', 'hammer', 'hand cart', 'handle', 'handrail', \n",
    "'hanger', 'hard disk drive', 'hat', 'hay', 'headphone', 'heater', 'helicopter', \n",
    "'helmet', 'holder', 'hook', 'horse', 'horse-drawn carriage', 'hot-air balloon', 'hydrovalve', \n",
    "'ice', 'inflator pump', 'ipod', 'iron', 'ironing board', 'jar', 'kart', \n",
    "'kettle', 'key', 'keyboard', 'kitchen range', 'kite', 'knife', 'knife block', \n",
    "'ladder', 'ladder truck', 'ladle', 'laptop', 'leaves', 'lid', 'life buoy', \n",
    "'light', 'light bulb', 'lighter', 'line', 'lion', 'lobster', 'lock', \n",
    "'machine', 'mailbox', 'mannequin', 'map', 'mask', 'mat', 'match book', \n",
    "'mattress', 'menu', 'metal', 'meter box', 'microphone', 'microwave', 'mirror', \n",
    "'missile', 'model', 'money', 'monkey', 'mop', 'motorbike', 'mountain', \n",
    "'mouse', 'mouse pad', 'musical instrument', 'napkin', 'net', 'newspaper', 'oar', \n",
    "'ornament', 'outlet', 'oven', 'oxygen bottle', 'pack', 'pan', 'paper', \n",
    "'paper box', 'paper cutter', 'parachute', 'parasol', 'parterre', 'patio', 'pelage', \n",
    "'pen', 'pen container', 'pencil', 'person', 'photo', 'piano', 'picture', \n",
    "'pig', 'pillar', 'pillow', 'pipe', 'pitcher', 'plant', 'plastic', \n",
    "'plate', 'platform', 'player', 'playground', 'pliers', 'plume', 'poker', \n",
    "'poker chip', 'pole', 'pool table', 'postcard', 'poster', 'pot', 'pottedplant', \n",
    "'printer', 'projector', 'pumpkin', 'rabbit', 'racket', 'radiator', 'radio', \n",
    "'rail', 'rake', 'ramp', 'range hood', 'receiver', 'recorder', 'recreational machines', \n",
    "'remote control', 'road', 'robot', 'rock', 'rocket', 'rocking horse', 'rope', \n",
    "'rug', 'ruler', 'runway', 'saddle', 'sand', 'saw', 'scale', \n",
    "'scanner', 'scissors', 'scoop', 'screen', 'screwdriver', 'sculpture', 'scythe', \n",
    "'sewer', 'sewing machine', 'shed', 'sheep', 'shell', 'shelves', 'shoe', \n",
    "'shopping cart', 'shovel', 'sidecar', 'sidewalk', 'sign', 'signal light', 'sink', \n",
    "'skateboard', 'ski', 'sky', 'sled', 'slippers', 'smoke', 'snail', \n",
    "'snake', 'snow', 'snowmobiles', 'sofa', 'spanner', 'spatula', 'speaker', \n",
    "'speed bump', 'spice container', 'spoon', 'sprayer', 'squirrel', 'stage', 'stair', \n",
    "'stapler', 'stick', 'sticky note', 'stone', 'stool', 'stove', 'straw', \n",
    "'stretcher', 'sun', 'sunglass', 'sunshade', 'surveillance camera', 'swan', 'sweeper', \n",
    "'swim ring', 'swimming pool', 'swing', 'switch', 'table', 'tableware', 'tank', \n",
    "'tap', 'tape', 'tarp', 'telephone', 'telephone booth', 'tent', 'tire', \n",
    "'toaster', 'toilet', 'tong', 'tool', 'toothbrush', 'towel', 'toy', \n",
    "'toy car', 'track', 'train', 'trampoline', 'trash bin', 'tray', 'tree', \n",
    "'tricycle', 'tripod', 'trophy', 'truck', 'tube', 'turtle', 'tvmonitor', \n",
    "'tweezers', 'typewriter', 'umbrella', 'unknown', 'vacuum cleaner', 'vending machine', 'video camera', \n",
    "'video game console', 'video player', 'video tape', 'violin', 'wakeboard', 'wall', 'wallet', \n",
    "'wardrobe', 'washing machine', 'watch', 'water', 'water dispenser', 'water pipe', 'water skate board', \n",
    "'watermelon', 'whale', 'wharf', 'wheel', 'wheelchair', 'window', 'window blinds', \n",
    "'wineglass', 'wire', 'wood', 'wool')\n",
    "\n",
    "\n",
    "processed_c171_classes = (\n",
    "    'person', 'bicycle', 'car', 'motorcycle', 'airplane', 'bus', 'train',\n",
    "    'truck', 'boat', 'traffic light', 'fire hydrant', 'stop sign',\n",
    "    'parking meter', 'bench', 'bird', 'cat', 'dog', 'horse', 'sheep',\n",
    "    'cow', 'elephant', 'bear', 'zebra', 'giraffe', 'backpack', 'umbrella',\n",
    "    'handbag', 'tie', 'suitcase', 'frisbee', 'skis', 'snowboard',\n",
    "    'sports ball', 'kite', 'baseball bat', 'baseball glove', 'skateboard',\n",
    "    'surfboard', 'tennis racket', 'bottle', 'glass', 'cup', 'fork',\n",
    "    'knife', 'spoon', 'bowl', 'banana', 'apple', 'sandwich', 'orange',\n",
    "    'broccoli', 'carrot', 'hot dog', 'pizza', 'donut', 'cake', 'chair',\n",
    "    'couch', 'potted plant', 'bed', 'dining table', 'toilet', 'television receiver',\n",
    "    'laptop', 'mouse', 'remote', 'keyboard', 'cell phone', 'microwave',\n",
    "    'oven', 'toaster', 'sink', 'refrigerator', 'book', 'clock', 'vase',\n",
    "    'scissors', 'teddy bear', 'hair drier', 'toothbrush', 'banner',\n",
    "    'blanket', 'branch', 'bridge', 'building', 'bush', 'cabinet',\n",
    "    'cage', 'cardboard', 'carpet', 'ceiling', 'ceiling',\n",
    "    'cloth', 'clothes', 'clouds', 'counter', 'cupboard', 'curtain',\n",
    "    'desk', 'dirt track', 'door', 'fence', 'floor',\n",
    "    'floor', 'floor', 'floor', 'floor',\n",
    "    'flower', 'fog', 'food', 'fruit', 'furniture', 'grass',\n",
    "    'gravel', 'ground', 'hill', 'house', 'leaves', 'light', 'mat',\n",
    "    'metal', 'mirror', 'moss', 'mountain', 'mud', 'napkin', 'net',\n",
    "    'paper', 'pavement', 'pillow', 'plant', 'plastic', 'platform',\n",
    "    'playingfield', 'railing', 'railroad', 'river', 'road', 'rock', 'roof',\n",
    "    'rug', 'salad', 'sand', 'sea', 'shelf', 'sky', 'skyscraper',\n",
    "    'snow', 'solid', 'stairs', 'stone', 'straw', 'structural',\n",
    "    'table', 'tent', 'textile', 'towel', 'tree', 'vegetable',\n",
    "    'wall', 'wall', 'wall', 'wall',\n",
    "    'wall', 'wall', 'wall', 'water', 'waterdrops',\n",
    "    'blind', 'windowpane', 'wood')\n",
    "\n",
    "\n",
    "a150_classes = (\n",
    "    'wall', 'building', 'sky', 'floor', 'tree', 'ceiling', 'road', 'bed',\n",
    "    'windowpane', 'grass', 'cabinet', 'sidewalk', 'person', 'earth',\n",
    "    'door', 'table', 'mountain', 'plant', 'curtain', 'chair', 'car',\n",
    "    'water', 'painting', 'sofa', 'shelf', 'house', 'sea', 'mirror', 'rug',\n",
    "    'field', 'armchair', 'seat', 'fence', 'desk', 'rock', 'wardrobe',\n",
    "    'lamp', 'bathtub', 'railing', 'cushion', 'base', 'box', 'column',\n",
    "    'signboard', 'chest of drawers', 'counter', 'sand', 'sink',\n",
    "    'skyscraper', 'fireplace', 'refrigerator', 'grandstand', 'path',\n",
    "    'stairs', 'runway', 'case', 'pool table', 'pillow', 'screen door',\n",
    "    'stairway', 'river', 'bridge', 'bookcase', 'blind', 'coffee table',\n",
    "    'toilet', 'flower', 'book', 'hill', 'bench', 'countertop', 'stove',\n",
    "    'palm', 'kitchen island', 'computer', 'swivel chair', 'boat', 'bar',\n",
    "    'arcade machine', 'hovel', 'bus', 'towel', 'light', 'truck', 'tower',\n",
    "    'chandelier', 'awning', 'streetlight', 'booth', 'television receiver',\n",
    "    'airplane', 'dirt track', 'apparel', 'pole', 'land', 'bannister',\n",
    "    'escalator', 'ottoman', 'bottle', 'buffet', 'poster', 'stage', 'van',\n",
    "    'ship', 'fountain', 'conveyer belt', 'canopy', 'washer', 'plaything',\n",
    "    'swimming pool', 'stool', 'barrel', 'basket', 'waterfall', 'tent',\n",
    "    'bag', 'minibike', 'cradle', 'oven', 'ball', 'food', 'step', 'tank',\n",
    "    'trade name', 'microwave', 'pot', 'animal', 'bicycle', 'lake',\n",
    "    'dishwasher', 'screen', 'blanket', 'sculpture', 'hood', 'sconce',\n",
    "    'vase', 'traffic light', 'tray', 'ashcan', 'fan', 'pier', 'crt screen',\n",
    "    'plate', 'monitor', 'bulletin board', 'shower', 'radiator', 'glass',\n",
    "    'clock', 'flag')\n",
    "\n",
    "p59_classes = ('aeroplane', 'bag', 'bed', 'bedclothes', 'bench', 'bicycle',\n",
    "'bird', 'boat', 'book', 'bottle', 'building', 'bus', 'cabinet',\n",
    "'car', 'cat', 'ceiling', 'chair', 'cloth', 'computer', 'cow',\n",
    "'cup', 'curtain', 'dog', 'door', 'fence', 'floor', 'flower',\n",
    "'food', 'grass', 'ground', 'horse', 'keyboard', 'light',\n",
    "'motorbike', 'mountain', 'mouse', 'person', 'plate', 'platform',\n",
    "'pottedplant', 'road', 'rock', 'sheep', 'shelves', 'sidewalk',\n",
    "'sign', 'sky', 'snow', 'sofa', 'table', 'track', 'train',\n",
    "'tree', 'truck', 'tvmonitor', 'wall', 'water', 'window', 'wood')\n",
    "\n",
    "\n",
    "p59uc171 = list(set(processed_c171_classes) | set(p59_classes))\n",
    "\n",
    "import json\n",
    "\n",
    "# json.dump(p459ua150, open(\"pc459uade150.json\", \"w\"))\n",
    "json.dump(p59uc171, open(\"pc59ucoco171.json\", \"w\"))"
   ]
  },
  {
   "cell_type": "code",
   "execution_count": null,
   "metadata": {},
   "outputs": [],
   "source": []
  },
  {
   "cell_type": "code",
   "execution_count": null,
   "metadata": {},
   "outputs": [],
   "source": []
  }
 ],
 "metadata": {
  "kernelspec": {
   "display_name": "openseg",
   "language": "python",
   "name": "python3"
  },
  "language_info": {
   "codemirror_mode": {
    "name": "ipython",
    "version": 3
   },
   "file_extension": ".py",
   "mimetype": "text/x-python",
   "name": "python",
   "nbconvert_exporter": "python",
   "pygments_lexer": "ipython3",
   "version": "3.8.13"
  },
  "orig_nbformat": 4,
  "vscode": {
   "interpreter": {
    "hash": "eb1b0331be7fe2a4d3bed66587d9247426bb7c92ddb75f50ff73b13b9866312b"
   }
  }
 },
 "nbformat": 4,
 "nbformat_minor": 2
}
