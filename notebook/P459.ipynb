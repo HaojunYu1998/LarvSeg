{
 "cells": [
  {
   "cell_type": "code",
   "execution_count": 3,
   "metadata": {},
   "outputs": [],
   "source": [
    "with open(\"pc459_labels.txt\") as f:\n",
    "    lines = f.readlines()\n",
    "\n",
    "lines = [l.split(\":\")[-1].strip() for l in lines]"
   ]
  },
  {
   "cell_type": "code",
   "execution_count": 6,
   "metadata": {},
   "outputs": [
    {
     "name": "stdout",
     "output_type": "stream",
     "text": [
      "'accordion', 'aeroplane', 'air conditioner', 'antenna', 'artillery', 'ashtray', 'atrium', \n",
      "'baby carriage', 'bag', 'ball', 'balloon', 'bamboo weaving', 'barrel', 'baseball bat', \n",
      "'basket', 'basketball backboard', 'bathtub', 'bed', 'bedclothes', 'beer', 'bell', \n",
      "'bench', 'bicycle', 'binoculars', 'bird', 'bird cage', 'bird feeder', 'bird nest', \n",
      "'blackboard', 'board', 'boat', 'bone', 'book', 'bottle', 'bottle opener', \n",
      "'bowl', 'box', 'bracelet', 'brick', 'bridge', 'broom', 'brush', \n",
      "'bucket', 'building', 'bus', 'cabinet', 'cabinet door', 'cage', 'cake', \n",
      "'calculator', 'calendar', 'camel', 'camera', 'camera lens', 'can', 'candle', \n",
      "'candle holder', 'cap', 'car', 'card', 'cart', 'case', 'casette recorder', \n",
      "'cash register', 'cat', 'cd', 'cd player', 'ceiling', 'cell phone', 'cello', \n",
      "'chain', 'chair', 'chessboard', 'chicken', 'chopstick', 'clip', 'clippers', \n",
      "'clock', 'closet', 'cloth', 'clothes tree', 'coffee', 'coffee machine', 'comb', \n",
      "'computer', 'concrete', 'cone', 'container', 'control booth', 'controller', 'cooker', \n",
      "'copying machine', 'coral', 'cork', 'corkscrew', 'counter', 'court', 'cow', \n",
      "'crabstick', 'crane', 'crate', 'cross', 'crutch', 'cup', 'curtain', \n",
      "'cushion', 'cutting board', 'dais', 'disc', 'disc case', 'dishwasher', 'dock', \n",
      "'dog', 'dolphin', 'door', 'drainer', 'dray', 'drink dispenser', 'drinking machine', \n",
      "'drop', 'drug', 'drum', 'drum kit', 'duck', 'dumbbell', 'earphone', \n",
      "'earrings', 'egg', 'electric fan', 'electric iron', 'electric pot', 'electric saw', 'electronic keyboard', \n",
      "'engine', 'envelope', 'equipment', 'escalator', 'exhibition booth', 'extinguisher', 'eyeglass', \n",
      "'fan', 'faucet', 'fax machine', 'fence', 'ferris wheel', 'fire extinguisher', 'fire hydrant', \n",
      "'fire place', 'fish', 'fish tank', 'fishbowl', 'fishing net', 'fishing pole', 'flag', \n",
      "'flagstaff', 'flame', 'flashlight', 'floor', 'flower', 'fly', 'foam', \n",
      "'food', 'footbridge', 'forceps', 'fork', 'forklift', 'fountain', 'fox', \n",
      "'frame', 'fridge', 'frog', 'fruit', 'funnel', 'furnace', 'game controller', \n",
      "'game machine', 'gas cylinder', 'gas hood', 'gas stove', 'gift box', 'glass', 'glass marble', \n",
      "'globe', 'glove', 'goal', 'grandstand', 'grass', 'gravestone', 'ground', \n",
      "'guardrail', 'guitar', 'gun', 'hammer', 'hand cart', 'handle', 'handrail', \n",
      "'hanger', 'hard disk drive', 'hat', 'hay', 'headphone', 'heater', 'helicopter', \n",
      "'helmet', 'holder', 'hook', 'horse', 'horse-drawn carriage', 'hot-air balloon', 'hydrovalve', \n",
      "'ice', 'inflator pump', 'ipod', 'iron', 'ironing board', 'jar', 'kart', \n",
      "'kettle', 'key', 'keyboard', 'kitchen range', 'kite', 'knife', 'knife block', \n",
      "'ladder', 'ladder truck', 'ladle', 'laptop', 'leaves', 'lid', 'life buoy', \n",
      "'light', 'light bulb', 'lighter', 'line', 'lion', 'lobster', 'lock', \n",
      "'machine', 'mailbox', 'mannequin', 'map', 'mask', 'mat', 'match book', \n",
      "'mattress', 'menu', 'metal', 'meter box', 'microphone', 'microwave', 'mirror', \n",
      "'missile', 'model', 'money', 'monkey', 'mop', 'motorbike', 'mountain', \n",
      "'mouse', 'mouse pad', 'musical instrument', 'napkin', 'net', 'newspaper', 'oar', \n",
      "'ornament', 'outlet', 'oven', 'oxygen bottle', 'pack', 'pan', 'paper', \n",
      "'paper box', 'paper cutter', 'parachute', 'parasol', 'parterre', 'patio', 'pelage', \n",
      "'pen', 'pen container', 'pencil', 'person', 'photo', 'piano', 'picture', \n",
      "'pig', 'pillar', 'pillow', 'pipe', 'pitcher', 'plant', 'plastic', \n",
      "'plate', 'platform', 'player', 'playground', 'pliers', 'plume', 'poker', \n",
      "'poker chip', 'pole', 'pool table', 'postcard', 'poster', 'pot', 'pottedplant', \n",
      "'printer', 'projector', 'pumpkin', 'rabbit', 'racket', 'radiator', 'radio', \n",
      "'rail', 'rake', 'ramp', 'range hood', 'receiver', 'recorder', 'recreational machines', \n",
      "'remote control', 'road', 'robot', 'rock', 'rocket', 'rocking horse', 'rope', \n",
      "'rug', 'ruler', 'runway', 'saddle', 'sand', 'saw', 'scale', \n",
      "'scanner', 'scissors', 'scoop', 'screen', 'screwdriver', 'sculpture', 'scythe', \n",
      "'sewer', 'sewing machine', 'shed', 'sheep', 'shell', 'shelves', 'shoe', \n",
      "'shopping cart', 'shovel', 'sidecar', 'sidewalk', 'sign', 'signal light', 'sink', \n",
      "'skateboard', 'ski', 'sky', 'sled', 'slippers', 'smoke', 'snail', \n",
      "'snake', 'snow', 'snowmobiles', 'sofa', 'spanner', 'spatula', 'speaker', \n",
      "'speed bump', 'spice container', 'spoon', 'sprayer', 'squirrel', 'stage', 'stair', \n",
      "'stapler', 'stick', 'sticky note', 'stone', 'stool', 'stove', 'straw', \n",
      "'stretcher', 'sun', 'sunglass', 'sunshade', 'surveillance camera', 'swan', 'sweeper', \n",
      "'swim ring', 'swimming pool', 'swing', 'switch', 'table', 'tableware', 'tank', \n",
      "'tap', 'tape', 'tarp', 'telephone', 'telephone booth', 'tent', 'tire', \n",
      "'toaster', 'toilet', 'tong', 'tool', 'toothbrush', 'towel', 'toy', \n",
      "'toy car', 'track', 'train', 'trampoline', 'trash bin', 'tray', 'tree', \n",
      "'tricycle', 'tripod', 'trophy', 'truck', 'tube', 'turtle', 'tvmonitor', \n",
      "'tweezers', 'typewriter', 'umbrella', 'unknown', 'vacuum cleaner', 'vending machine', 'video camera', \n",
      "'video game console', 'video player', 'video tape', 'violin', 'wakeboard', 'wall', 'wallet', \n",
      "'wardrobe', 'washing machine', 'watch', 'water', 'water dispenser', 'water pipe', 'water skate board', \n",
      "'watermelon', 'whale', 'wharf', 'wheel', 'wheelchair', 'window', 'window blinds', \n",
      "'wineglass', 'wire', 'wood', 'wool', "
     ]
    }
   ],
   "source": [
    "for i, c in enumerate(lines):\n",
    "    print(f\"'{c}'\", end=\", \")\n",
    "    if (i + 1) % 7 == 0:\n",
    "        print()"
   ]
  },
  {
   "cell_type": "code",
   "execution_count": null,
   "metadata": {},
   "outputs": [],
   "source": []
  }
 ],
 "metadata": {
  "kernelspec": {
   "display_name": "openseg",
   "language": "python",
   "name": "python3"
  },
  "language_info": {
   "codemirror_mode": {
    "name": "ipython",
    "version": 3
   },
   "file_extension": ".py",
   "mimetype": "text/x-python",
   "name": "python",
   "nbconvert_exporter": "python",
   "pygments_lexer": "ipython3",
   "version": "3.8.13"
  },
  "orig_nbformat": 4,
  "vscode": {
   "interpreter": {
    "hash": "eb1b0331be7fe2a4d3bed66587d9247426bb7c92ddb75f50ff73b13b9866312b"
   }
  }
 },
 "nbformat": 4,
 "nbformat_minor": 2
}
