{
 "cells": [
  {
   "cell_type": "code",
   "execution_count": 1,
   "metadata": {},
   "outputs": [],
   "source": [
    "in124 = {\"n02870880\": \"bookcase\", \"n04326896\": \"stool\", \"n02818832\": \"bed\", \"n04522168\": \"vase\", \"n14844693\": \"dirt track\", \"n02912065\": \"buffet\", \"n04330340\": \"stove\", \"n04233124\": \"skyscraper\", \"n02775897\": \"bridge\", \"n02883344\": \"box\", \"n03976657\": \"pole\", \"n12102133\": \"grass\", \"n03723153\": \"tent\", \"n11669921\": \"flower\", \"n04314914\": \"stairs\", \"n03002096\": \"chair\", \"n03545150\": \"house\", \"n02828884\": \"bench\", \"n03221720\": \"door\", \"n03938244\": \"cushion\", \"n09416076\": \"rock\", \"n02788148\": \"bannister\", \"n04217882\": \"trade name\", \"n02958343\": \"car\", \"n02834778\": \"bicycle\", \"n04546855\": \"wall\", \"n03320046\": \"fan\", \"n03173929\": \"truck\", \"n09303008\": \"hill\", \"n04190052\": \"shelf\", \"n03619890\": \"kitchen island\", \"n03100897\": \"conveyer belt\", \"n03148324\": \"wardrobe\", \"n02691156\": \"airplane\", \"n04070727\": \"refrigerator\", \"n04460130\": \"tower\", \"n09436708\": \"sky\", \"n02778669\": \"ball\", \"n04476259\": \"tray\", \"n03005285\": \"chandelier\", \"n04215402\": \"sidewalk\", \"n04547592\": \"wall\", \"n15019030\": \"sand\", \"n04388743\": \"tank\", \"n04296562\": \"stage\", \"n09403211\": \"radiator\", \"n03544360\": \"house\", \"n04446276\": \"toilet\", \"n03782190\": \"monitor\", \"n04096066\": \"road\", \"n02763901\": \"awning\", \"n03982430\": \"pool table\", \"n04587648\": \"windowpane\", \"n02874086\": \"booth\", \"n04040759\": \"radiator\", \"n03438257\": \"glass\", \"n04373704\": \"swivel chair\", \"n03365592\": \"floor\", \"n04041069\": \"radiator\", \"n03125729\": \"cradle\", \"n09415584\": \"river\", \"n02998563\": \"sink\", \"n02706806\": \"arcade machine\", \"n13156986\": \"palm\", \"n02808440\": \"bathtub\", \"n03151077\": \"curtain\", \"n04194289\": \"ship\", \"n04335886\": \"streetlight\", \"n03207941\": \"dishwasher\", \"n03960490\": \"plate\", \"n03346455\": \"fireplace\", \"n03773035\": \"mirror\", \"n00017222\": \"plant\", \"n06874185\": \"traffic light\", \"n03636248\": \"lamp\", \"n02933112\": \"cabinet\", \"n04490091\": \"truck\", \"n04118021\": \"rug\", \"n07935504\": \"water\", \"n03354903\": \"flag\", \"n02924116\": \"bus\", \"n02796995\": \"bar\", \"n04411264\": \"tent\", \"n03327234\": \"fence\", \"n03082979\": \"computer\", \"n04520170\": \"van\", \"n03769722\": \"minibike\", \"n04379243\": \"table\", \"n03782006\": \"monitor\", \"n03074380\": \"column\", \"n04148579\": \"sconce\", \"n04047401\": \"railing\", \"n04459362\": \"towel\", \"n04330267\": \"stove\", \"n09282208\": \"floor\", \"n03620353\": \"kitchen island\", \"n03862676\": \"oven\", \"n02851099\": \"blind\", \"n02975212\": \"case\", \"n02898711\": \"bridge\", \"n03636649\": \"lamp\", \"n03781787\": \"monitor\", \"n03933933\": \"pier\", \"n09359803\": \"mountain\", \"n03085602\": \"crt screen\", \"n04047733\": \"railing\", \"n04157320\": \"sculpture\", \"n03046257\": \"clock\", \"n02747177\": \"ashcan\", \"n09214060\": \"bar\", \"n02990373\": \"ceiling\", \"n03547054\": \"hovel\", \"n04550184\": \"wardrobe\", \"n03222318\": \"door\", \"n00015388\": \"animal\", \"n02774152\": \"bag\", \"n09474412\": \"wall\", \"n02819697\": \"bed\", \"n03858418\": \"ottoman\", \"n02738535\": \"armchair\", \"n02773838\": \"bag\", \"n03015254\": \"chest of drawers\", \"n03977158\": \"pole\", \"n03380724\": \"ottoman\", \"n13104059\": \"tree\", \"n03991062\": \"pot\", \"n02773037\": \"bag\", \"n03001627\": \"chair\", \"n02779435\": \"ball\", \"n03222176\": \"door\", \"n02858304\": \"boat\", \"n03116530\": \"counter\", \"n04208936\": \"shower\", \"n02788689\": \"bar\", \"n03063968\": \"coffee table\", \"n03438661\": \"glass\", \"n03073977\": \"column\", \"n14564779\": \"wall\", \"n04554684\": \"washer\", \"n02789487\": \"bar\", \"n02913152\": \"building\", \"n03761084\": \"microwave\", \"n04379964\": \"table\", \"n02870526\": \"book\", \"n03790512\": \"minibike\", \"n03388043\": \"fountain\", \"n04405907\": \"television receiver\", \"n02876657\": \"bottle\", \"n03179701\": \"desk\", \"n00007846\": \"person\", \"n08598301\": \"grass\", \"n01319467\": \"animal\", \"n02728440\": \"apparel\", \"n01317541\": \"animal\", \"n08659446\": \"field\", \"n12582231\": \"palm\", \"n02806530\": \"bathtub\", \"n03665366\": \"light\", \"n01055165\": \"tent\", \"n02801938\": \"basket\", \"n03934042\": \"pier\", \"n04120842\": \"runway\", \"n00021265\": \"food\", \"n04148703\": \"sconce\", \"n04256520\": \"sofa\"}\n",
    "\n",
    "\n",
    "import json\n",
    "in21k_image_dict = json.load(open(\"/mnt/haojun/itpsea4data/mmseg/notebook/nips_version/in21k_image_dict.json\"))"
   ]
  },
  {
   "cell_type": "code",
   "execution_count": 2,
   "metadata": {},
   "outputs": [
    {
     "name": "stderr",
     "output_type": "stream",
     "text": [
      "  0%|          | 0/124 [00:00<?, ?it/s]\r 46%|████▌     | 57/124 [00:00<00:00, 563.99it/s]\r 92%|█████████▏| 114/124 [00:00<00:00, 562.83it/s]\r100%|██████████| 124/124 [00:00<00:00, 562.45it/s]\n"
     ]
    }
   ],
   "source": [
    "img_num = {k: len(in21k_image_dict[k]) for k in in124}\n",
    "in124_ = {}\n",
    "for k, v in in124.items():\n",
    "    if v in in124_ and len(in21k_image_dict[in124_[v]]) >= len(in21k_image_dict[k]):\n",
    "        continue\n",
    "    in124_[v] = k\n",
    "import os\n",
    "from tqdm import tqdm\n",
    "with open(\"/mnt/haojun/itpsea4data/dataset/imagenet22k_azcopy/ImageNet124.txt\", \"w\") as f:\n",
    "    for k, v in tqdm(in124_.items()):\n",
    "        for img in in21k_image_dict[v]:\n",
    "            img_cls = img.split(\"_\")[0]\n",
    "            # if not os.path.exists(img):\n",
    "            #     print(img, \"not EXIST\")\n",
    "            print(img.split(\"/\")[-1].rstrip(\".JPEG\"), file=f)"
   ]
  },
  {
   "cell_type": "code",
   "execution_count": 2,
   "metadata": {},
   "outputs": [
    {
     "data": {
      "text/plain": [
       "(55, 69)"
      ]
     },
     "execution_count": 2,
     "metadata": {},
     "output_type": "execute_result"
    }
   ],
   "source": [
    "CLASSES124 = (\n",
    "    \"lamp\", \"van\", \"flag\", \"sconce\", \"fence\", \"railing\", \"vase\", \"radiator\", \n",
    "    \"fan\", \"monitor\", \"bus\", \"column\", \"flower\", \"hill\", \"runway\", \"light\", \n",
    "    \"bannister\", \"rug\", \"fountain\", \"ship\", \"mountain\", \"towel\", \"stove\", \n",
    "    \"chest of drawers\", \"sidewalk\", \"bed\", \"person\", \"floor\", \"microwave\", \n",
    "    \"wardrobe\", \"blind\", \"dishwasher\", \"pier\", \"sky\", \"sand\", \"field\", \n",
    "    \"trade name\", \"bench\", \"plant\", \"glass\", \"traffic light\", \"counter\", \n",
    "    \"bathtub\", \"conveyer belt\", \"chair\", \"stairs\", \"airplane\", \"food\", \n",
    "    \"fireplace\", \"minibike\", \"bicycle\", \"chandelier\", \"sink\", \"boat\", \"sofa\", \n",
    "    \"shelf\", \"cradle\", \"house\", \"bridge\", \"ottoman\", \"pole\", \"water\", \"curtain\", \n",
    "    \"clock\", \"television receiver\", \"refrigerator\", \"grass\", \"tree\", \"desk\", \n",
    "    \"basket\", \"stool\", \"animal\", \"mirror\", \"swivel chair\", \"cushion\", \n",
    "    \"streetlight\", \"arcade machine\", \"awning\", \"car\", \"bottle\", \"road\", \n",
    "    \"sculpture\", \"windowpane\", \"stage\", \"dirt track\", \"tray\", \"bar\", \"bag\", \n",
    "    \"palm\", \"case\", \"wall\", \"computer\", \"pool table\", \"crt screen\", \"book\", \n",
    "    \"skyscraper\", \"toilet\", \"box\", \"apparel\", \"ashcan\", \"building\", \"ceiling\", \n",
    "    \"coffee table\", \"tent\", \"shower\", \"tank\", \"kitchen island\", \"rock\", \"plate\", \n",
    "    \"table\", \"river\", \"truck\", \"bookcase\", \"washer\", \"pot\", \"cabinet\", \"ball\", \n",
    "    \"buffet\", \"booth\", \"door\", \"tower\", \"armchair\", \"oven\", \"hovel\"\n",
    ")\n",
    "COCO = [\n",
    "    'person', 'bicycle', 'car', 'motorcycle', 'airplane', 'bus', 'train',\n",
    "    'truck', 'boat', 'traffic light', 'fire hydrant', 'stop sign',\n",
    "    'parking meter', 'bench', 'bird', 'cat', 'dog', 'horse', 'sheep',\n",
    "    'cow', 'elephant', 'bear', 'zebra', 'giraffe', 'backpack', 'umbrella',\n",
    "    'handbag', 'tie', 'suitcase', 'frisbee', 'skis', 'snowboard',\n",
    "    'sports ball', 'kite', 'baseball bat', 'baseball glove', 'skateboard',\n",
    "    'surfboard', 'tennis racket', 'bottle', 'wine glass', 'cup', 'fork',\n",
    "    'knife', 'spoon', 'bowl', 'banana', 'apple', 'sandwich', 'orange',\n",
    "    'broccoli', 'carrot', 'hot dog', 'pizza', 'donut', 'cake', 'chair',\n",
    "    'couch', 'potted plant', 'bed', 'dining table', 'toilet', 'tv',\n",
    "    'laptop', 'mouse', 'remote', 'keyboard', 'cell phone', 'microwave',\n",
    "    'oven', 'toaster', 'sink', 'refrigerator', 'book', 'clock', 'vase',\n",
    "    'scissors', 'teddy bear', 'hair drier', 'toothbrush', 'banner',\n",
    "    'blanket', 'branch', 'bridge', 'building-other', 'bush', 'cabinet',\n",
    "    'cage', 'cardboard', 'carpet', 'ceiling-other', 'ceiling-tile',\n",
    "    'cloth', 'clothes', 'clouds', 'counter', 'cupboard', 'curtain',\n",
    "    'desk-stuff', 'dirt', 'door-stuff', 'fence', 'floor-marble',\n",
    "    'floor-other', 'floor-stone', 'floor-tile', 'floor-wood',\n",
    "    'flower', 'fog', 'food-other', 'fruit', 'furniture-other', 'grass',\n",
    "    'gravel', 'ground-other', 'hill', 'house', 'leaves', 'light', 'mat',\n",
    "    'metal', 'mirror-stuff', 'moss', 'mountain', 'mud', 'napkin', 'net',\n",
    "    'paper', 'pavement', 'pillow', 'plant-other', 'plastic', 'platform',\n",
    "    'playingfield', 'railing', 'railroad', 'river', 'road', 'rock', 'roof',\n",
    "    'rug', 'salad', 'sand', 'sea', 'shelf', 'sky-other', 'skyscraper',\n",
    "    'snow', 'solid-other', 'stairs', 'stone', 'straw', 'structural-other',\n",
    "    'table', 'tent', 'textile-other', 'towel', 'tree', 'vegetable',\n",
    "    'wall-brick', 'wall-concrete', 'wall-other', 'wall-panel',\n",
    "    'wall-stone', 'wall-tile', 'wall-wood', 'water-other', 'waterdrops',\n",
    "    'window-blind', 'window-other', 'wood'\n",
    "]\n",
    "processed_coco = [x.split(\"-\")[0] for x in COCO]\n",
    "all_cls = list(set(CLASSES124) | set(processed_coco))\n",
    "novel_cls = list(set(CLASSES124) - set(processed_coco))\n",
    "base_cls = list(set(CLASSES124) & set(processed_coco))\n",
    "len(base_cls), len(novel_cls)\n",
    "# json.dump(all_cls, open(\"ade124ucoco.json\", \"w\"))\n",
    "# CLASSES124 = list(set(in124.values()))\n",
    "# json.dump(CLASSES124, open(\"IN124_classes.json\", \"w\"))"
   ]
  },
  {
   "cell_type": "code",
   "execution_count": 3,
   "metadata": {},
   "outputs": [],
   "source": [
    "def _log(metric):\n",
    "    import numpy as np\n",
    "    metrics = [x.strip() for x in metric.split(\"\\n\")]\n",
    "    ious = {}\n",
    "    accs = {}\n",
    "    for i in range(len(metrics)):\n",
    "        k, iou, acc = metrics[i].split(\"|\")[1:-1]\n",
    "        ious[k.strip()] = float(iou.strip())\n",
    "        accs[k.strip()] = float(acc.strip())\n",
    "    ious_base = [v for k, v in ious.items() if k in base_cls]\n",
    "    ious_novel = [v for k, v in ious.items() if k in novel_cls]\n",
    "    accs_base = [v for k, v in accs.items() if k in base_cls]\n",
    "    accs_novel = [v for k, v in accs.items() if k in novel_cls]\n",
    "    print(f\"seen: mIoU {np.mean(ious_base):.2f}, mAcc {np.mean(accs_base):.2f}\")\n",
    "    print(f\"unseen: mIoU {np.mean(ious_novel):.2f}, mAcc {np.mean(accs_novel):.2f}\")"
   ]
  },
  {
   "cell_type": "code",
   "execution_count": 5,
   "metadata": {},
   "outputs": [
    {
     "name": "stdout",
     "output_type": "stream",
     "text": [
      "seen: mIoU 58.87, mAcc 70.08\n",
      "unseen: mIoU 45.90, mAcc 56.43\n"
     ]
    }
   ],
   "source": [
    "_log(\"\"\"|         lamp        | 57.61 | 70.56 |\n",
    "|         van         | 42.64 | 56.71 |\n",
    "|         flag        | 45.09 | 51.43 |\n",
    "|        sconce       | 42.33 | 53.02 |\n",
    "|        fence        |  47.0 | 60.82 |\n",
    "|       railing       | 39.75 | 54.03 |\n",
    "|         vase        | 32.82 | 46.75 |\n",
    "|       radiator      | 62.73 | 68.42 |\n",
    "|         fan         | 55.21 | 68.44 |\n",
    "|       monitor       | 13.69 | 19.71 |\n",
    "|         bus         |  88.9 | 94.53 |\n",
    "|        column       | 40.31 | 50.81 |\n",
    "|        flower       | 37.53 | 48.79 |\n",
    "|         hill        | 14.87 | 22.02 |\n",
    "|        runway       | 73.06 |  85.5 |\n",
    "|        light        | 43.51 | 50.55 |\n",
    "|      bannister      | 10.62 | 17.43 |\n",
    "|         rug         | 62.39 | 71.94 |\n",
    "|       fountain      | 22.22 | 24.21 |\n",
    "|         ship        |  36.4 | 44.76 |\n",
    "|       mountain      | 65.83 | 76.98 |\n",
    "|        towel        | 68.16 | 79.51 |\n",
    "|        stove        |  73.3 | 80.63 |\n",
    "|   chest of drawers  | 36.91 | 59.44 |\n",
    "|       sidewalk      | 67.99 | 81.99 |\n",
    "|         bed         | 91.64 |  95.2 |\n",
    "|        person       | 80.82 | 92.44 |\n",
    "|        floor        | 80.98 | 91.18 |\n",
    "|      microwave      | 63.14 |  70.3 |\n",
    "|       wardrobe      |  47.7 |  64.7 |\n",
    "|        blind        | 39.33 | 43.91 |\n",
    "|      dishwasher     | 50.64 | 59.82 |\n",
    "|         pier        |  48.5 | 62.64 |\n",
    "|         sky         | 94.24 | 97.49 |\n",
    "|         sand        |  69.6 | 79.87 |\n",
    "|        field        | 30.12 | 47.31 |\n",
    "|      trade name     | 36.32 | 40.21 |\n",
    "|        bench        | 46.04 | 55.95 |\n",
    "|        plant        | 55.02 | 65.38 |\n",
    "|        glass        | 13.77 | 14.94 |\n",
    "|    traffic light    | 29.49 | 41.67 |\n",
    "|       counter       | 34.43 | 47.73 |\n",
    "|       bathtub       | 80.58 | 84.15 |\n",
    "|    conveyer belt    | 73.13 |  90.1 |\n",
    "|        chair        | 57.51 | 72.71 |\n",
    "|        stairs       | 40.87 | 54.35 |\n",
    "|       airplane      | 57.52 | 64.26 |\n",
    "|         food        | 52.09 | 63.16 |\n",
    "|      fireplace      |  75.8 | 86.95 |\n",
    "|       minibike      |  63.5 | 80.45 |\n",
    "|       bicycle       | 56.52 | 76.36 |\n",
    "|      chandelier     | 64.53 | 79.76 |\n",
    "|         sink        | 72.83 | 81.16 |\n",
    "|         boat        |  61.5 | 74.96 |\n",
    "|         sofa        | 67.38 | 82.75 |\n",
    "|        shelf        | 46.15 |  63.4 |\n",
    "|        cradle       | 90.54 | 95.99 |\n",
    "|        house        | 49.88 | 62.86 |\n",
    "|        bridge       | 76.22 | 86.09 |\n",
    "|       ottoman       | 47.22 | 56.51 |\n",
    "|         pole        | 18.18 | 24.23 |\n",
    "|        water        | 69.44 | 82.17 |\n",
    "|       curtain       | 73.28 | 83.92 |\n",
    "|        clock        | 24.12 | 29.11 |\n",
    "| television receiver | 70.88 | 82.55 |\n",
    "|     refrigerator    | 72.59 | 80.42 |\n",
    "|        grass        | 72.98 | 83.93 |\n",
    "|         tree        | 74.91 |  88.7 |\n",
    "|         desk        | 47.93 | 64.06 |\n",
    "|        basket       | 34.18 | 45.88 |\n",
    "|        stool        | 40.51 | 50.32 |\n",
    "|        animal       | 63.68 | 67.18 |\n",
    "|        mirror       | 67.19 | 75.13 |\n",
    "|     swivel chair    | 44.28 | 57.25 |\n",
    "|       cushion       | 65.62 | 77.33 |\n",
    "|     streetlight     | 19.82 | 24.77 |\n",
    "|    arcade machine   | 65.59 | 69.39 |\n",
    "|        awning       | 32.33 | 36.56 |\n",
    "|         car         | 83.48 | 91.83 |\n",
    "|        bottle       | 36.32 | 54.79 |\n",
    "|         road        |  83.8 | 90.03 |\n",
    "|      sculpture      | 47.64 | 66.65 |\n",
    "|      windowpane     | 61.64 | 76.82 |\n",
    "|        stage        | 13.02 |  21.7 |\n",
    "|      dirt track     |  2.71 | 19.28 |\n",
    "|         tray        | 10.07 | 14.87 |\n",
    "|         bar         | 27.34 | 32.24 |\n",
    "|         bag         | 16.01 | 17.92 |\n",
    "|         palm        | 50.32 | 69.44 |\n",
    "|         case        | 44.16 | 59.48 |\n",
    "|         wall        | 77.51 | 89.03 |\n",
    "|       computer      | 67.32 | 77.77 |\n",
    "|      pool table     | 93.06 |  96.3 |\n",
    "|      crt screen     | 19.48 | 45.56 |\n",
    "|         book        |  48.6 | 66.55 |\n",
    "|      skyscraper     | 44.37 | 55.75 |\n",
    "|        toilet       | 82.06 | 88.72 |\n",
    "|         box         | 27.06 | 36.89 |\n",
    "|       apparel       |  31.8 | 45.92 |\n",
    "|        ashcan       | 42.43 | 54.94 |\n",
    "|       building      | 82.79 | 92.16 |\n",
    "|       ceiling       | 83.39 |  92.2 |\n",
    "|     coffee table    | 62.28 | 80.27 |\n",
    "|         tent        | 93.51 | 96.68 |\n",
    "|        shower       |  6.51 |  7.06 |\n",
    "|         tank        | 57.38 | 60.12 |\n",
    "|    kitchen island   |  47.1 | 76.43 |\n",
    "|         rock        | 50.34 | 71.64 |\n",
    "|        plate        | 53.65 | 70.92 |\n",
    "|        table        | 59.16 | 76.45 |\n",
    "|        river        | 13.95 | 25.08 |\n",
    "|        truck        | 27.72 | 37.83 |\n",
    "|       bookcase      | 34.21 | 53.48 |\n",
    "|        washer       | 71.86 | 74.03 |\n",
    "|         pot         | 45.45 | 51.95 |\n",
    "|       cabinet       | 61.24 | 72.87 |\n",
    "|         ball        | 53.44 | 67.04 |\n",
    "|        buffet       | 49.75 | 56.24 |\n",
    "|        booth        | 49.88 | 51.46 |\n",
    "|         door        | 51.23 | 64.62 |\n",
    "|        tower        | 28.71 | 41.31 |\n",
    "|       armchair      | 45.44 | 63.52 |\n",
    "|         oven        | 38.49 | 58.23 |\n",
    "|        hovel        | 43.27 | 45.68 |\"\"\")"
   ]
  },
  {
   "cell_type": "code",
   "execution_count": null,
   "metadata": {},
   "outputs": [],
   "source": []
  },
  {
   "cell_type": "markdown",
   "metadata": {},
   "source": [
    "# Sample Images for Visualization"
   ]
  },
  {
   "cell_type": "code",
   "execution_count": 3,
   "metadata": {},
   "outputs": [],
   "source": [
    "with open(\"/mnt/haojun/itpsea4data/dataset/imagenet22k_azcopy/ImageNet130.txt\", \"r\") as f:\n",
    "    lines = f.readlines()"
   ]
  },
  {
   "cell_type": "code",
   "execution_count": 4,
   "metadata": {},
   "outputs": [],
   "source": [
    "images = {}\n",
    "for line in lines:\n",
    "    img_id = line.strip()\n",
    "    cls_id = img_id.split(\"_\")[0]\n",
    "    if cls_id not in images:\n",
    "        images[cls_id] = []\n",
    "    images[cls_id].append(img_id)"
   ]
  },
  {
   "cell_type": "code",
   "execution_count": 7,
   "metadata": {},
   "outputs": [],
   "source": [
    "import numpy as np\n",
    "with open(\"/mnt/haojun/itpsea4data/dataset/imagenet22k_azcopy/ImageNet130_vis20.txt\", \"w\") as f:\n",
    "    for cls_id in images:\n",
    "        imgs = images[cls_id]\n",
    "        inds = np.random.choice(range(len(imgs)), size=20, replace=False)\n",
    "        for ind in inds:\n",
    "            print(imgs[ind], file=f)"
   ]
  },
  {
   "cell_type": "code",
   "execution_count": null,
   "metadata": {},
   "outputs": [],
   "source": []
  },
  {
   "cell_type": "code",
   "execution_count": null,
   "metadata": {},
   "outputs": [],
   "source": []
  },
  {
   "cell_type": "markdown",
   "metadata": {},
   "source": [
    "# Eval COCO171"
   ]
  },
  {
   "cell_type": "code",
   "execution_count": 2,
   "metadata": {},
   "outputs": [
    {
     "data": {
      "text/plain": [
       "(58, 101)"
      ]
     },
     "execution_count": 2,
     "metadata": {},
     "output_type": "execute_result"
    }
   ],
   "source": [
    "COCO = [\n",
    "    'person', 'bicycle', 'car', 'motorcycle', 'airplane', 'bus', 'train',\n",
    "    'truck', 'boat', 'traffic light', 'fire hydrant', 'stop sign',\n",
    "    'parking meter', 'bench', 'bird', 'cat', 'dog', 'horse', 'sheep',\n",
    "    'cow', 'elephant', 'bear', 'zebra', 'giraffe', 'backpack', 'umbrella',\n",
    "    'handbag', 'tie', 'suitcase', 'frisbee', 'skis', 'snowboard',\n",
    "    'sports ball', 'kite', 'baseball bat', 'baseball glove', 'skateboard',\n",
    "    'surfboard', 'tennis racket', 'bottle', 'wine glass', 'cup', 'fork',\n",
    "    'knife', 'spoon', 'bowl', 'banana', 'apple', 'sandwich', 'orange',\n",
    "    'broccoli', 'carrot', 'hot dog', 'pizza', 'donut', 'cake', 'chair',\n",
    "    'couch', 'potted plant', 'bed', 'dining table', 'toilet', 'tv',\n",
    "    'laptop', 'mouse', 'remote', 'keyboard', 'cell phone', 'microwave',\n",
    "    'oven', 'toaster', 'sink', 'refrigerator', 'book', 'clock', 'vase',\n",
    "    'scissors', 'teddy bear', 'hair drier', 'toothbrush', 'banner',\n",
    "    'blanket', 'branch', 'bridge', 'building-other', 'bush', 'cabinet',\n",
    "    'cage', 'cardboard', 'carpet', 'ceiling-other', 'ceiling-tile',\n",
    "    'cloth', 'clothes', 'clouds', 'counter', 'cupboard', 'curtain',\n",
    "    'desk-stuff', 'dirt', 'door-stuff', 'fence', 'floor-marble',\n",
    "    'floor-other', 'floor-stone', 'floor-tile', 'floor-wood',\n",
    "    'flower', 'fog', 'food-other', 'fruit', 'furniture-other', 'grass',\n",
    "    'gravel', 'ground-other', 'hill', 'house', 'leaves', 'light', 'mat',\n",
    "    'metal', 'mirror-stuff', 'moss', 'mountain', 'mud', 'napkin', 'net',\n",
    "    'paper', 'pavement', 'pillow', 'plant-other', 'plastic', 'platform',\n",
    "    'playingfield', 'railing', 'railroad', 'river', 'road', 'rock', 'roof',\n",
    "    'rug', 'salad', 'sand', 'sea', 'shelf', 'sky-other', 'skyscraper',\n",
    "    'snow', 'solid-other', 'stairs', 'stone', 'straw', 'structural-other',\n",
    "    'table', 'tent', 'textile-other', 'towel', 'tree', 'vegetable',\n",
    "    'wall-brick', 'wall-concrete', 'wall-other', 'wall-panel',\n",
    "    'wall-stone', 'wall-tile', 'wall-wood', 'water-other', 'waterdrops',\n",
    "    'window-blind', 'window-other', 'wood'\n",
    "]\n",
    "CLASSES150 = (\n",
    "        'wall', 'building', 'sky', 'floor', 'tree', 'ceiling', 'road', 'bed',\n",
    "        'windowpane', 'grass', 'cabinet', 'sidewalk', 'person', 'earth',\n",
    "        'door', 'table', 'mountain', 'plant', 'curtain', 'chair', 'car',\n",
    "        'water', 'painting', 'sofa', 'shelf', 'house', 'sea', 'mirror', 'rug',\n",
    "        'field', 'armchair', 'seat', 'fence', 'desk', 'rock', 'wardrobe',\n",
    "        'lamp', 'bathtub', 'railing', 'cushion', 'base', 'box', 'column',\n",
    "        'signboard', 'chest of drawers', 'counter', 'sand', 'sink',\n",
    "        'skyscraper', 'fireplace', 'refrigerator', 'grandstand', 'path',\n",
    "        'stairs', 'runway', 'case', 'pool table', 'pillow', 'screen door',\n",
    "        'stairway', 'river', 'bridge', 'bookcase', 'blind', 'coffee table',\n",
    "        'toilet', 'flower', 'book', 'hill', 'bench', 'countertop', 'stove',\n",
    "        'palm', 'kitchen island', 'computer', 'swivel chair', 'boat', 'bar',\n",
    "        'arcade machine', 'hovel', 'bus', 'towel', 'light', 'truck', 'tower',\n",
    "        'chandelier', 'awning', 'streetlight', 'booth', 'television receiver',\n",
    "        'airplane', 'dirt track', 'apparel', 'pole', 'land', 'bannister',\n",
    "        'escalator', 'ottoman', 'bottle', 'buffet', 'poster', 'stage', 'van',\n",
    "        'ship', 'fountain', 'conveyer belt', 'canopy', 'washer', 'plaything',\n",
    "        'swimming pool', 'stool', 'barrel', 'basket', 'waterfall', 'tent',\n",
    "        'bag', 'minibike', 'cradle', 'oven', 'ball', 'food', 'step', 'tank',\n",
    "        'trade name', 'microwave', 'pot', 'animal', 'bicycle', 'lake',\n",
    "        'dishwasher', 'screen', 'blanket', 'sculpture', 'hood', 'sconce',\n",
    "        'vase', 'traffic light', 'tray', 'ashcan', 'fan', 'pier', 'crt screen',\n",
    "        'plate', 'monitor', 'bulletin board', 'shower', 'radiator', 'glass',\n",
    "        'clock', 'flag')\n",
    "processed_coco = [x.split(\"-\")[0] for x in COCO]\n",
    "# all_cls = list(set(CLASSES130) | set(processed_coco))\n",
    "novel_cls = list(set(processed_coco) - set(CLASSES150))\n",
    "base_cls = list(set(CLASSES150) & set(processed_coco))\n",
    "len(base_cls), len(novel_cls)"
   ]
  },
  {
   "cell_type": "code",
   "execution_count": 6,
   "metadata": {},
   "outputs": [
    {
     "name": "stdout",
     "output_type": "stream",
     "text": [
      "'cup', 'toothbrush', 'potted plant', 'banner', 'carpet', 'stone', 'frisbee', 'waterdrops', 'elephant', 'horse', 'solid', 'tv', 'snow', 'platform', 'giraffe', 'umbrella', 'bowl', 'roof', 'broccoli', 'paper', 'cake', 'hot dog', 'tennis racket', 'fruit', 'carrot', 'skis', 'napkin', 'dining table', 'laptop', 'clouds', 'bush', 'cardboard', 'kite', 'plastic', 'knife', 'cell phone', 'teddy bear', 'banana', 'keyboard', 'fog', 'dirt', 'branch', 'mouse', 'wine glass', 'cupboard', 'bird', 'donut', 'wood', 'sheep', 'remote', 'ground', 'dog', 'skateboard', 'pizza', 'zebra', 'tie', 'handbag', 'salad', 'pavement', 'playingfield', 'cow', 'structural', 'clothes', 'mud', 'hair drier', 'bear', 'moss', 'scissors', 'stop sign', 'cloth', 'couch', 'train', 'orange', 'cage', 'furniture', 'straw', 'parking meter', 'textile', 'snowboard', 'fork', 'apple', 'sports ball', 'suitcase', 'fire hydrant', 'baseball glove', 'window', 'baseball bat', 'motorcycle', 'spoon', 'mat', 'toaster', 'leaves', 'gravel', 'railroad', 'vegetable', 'surfboard', 'net', 'sandwich', 'metal', 'cat', 'backpack', "
     ]
    }
   ],
   "source": [
    "for c in novel_cls:\n",
    "    print(f\"'{c}'\", end=\", \")"
   ]
  },
  {
   "cell_type": "code",
   "execution_count": null,
   "metadata": {},
   "outputs": [],
   "source": [
    "def _log(metric):\n",
    "    import numpy as np\n",
    "    metrics = [x.strip() for x in metric.split(\"\\n\")]\n",
    "    ious = {}\n",
    "    accs = {}\n",
    "    for i in range(len(metrics)):\n",
    "        k, iou, acc = metrics[i].split(\"|\")[1:-1]\n",
    "        ious[k.strip()] = float(iou.strip())\n",
    "        accs[k.strip()] = float(acc.strip())\n",
    "    ious_base = [v for k, v in ious.items() if k in base_cls]\n",
    "    ious_novel = [v for k, v in ious.items() if k in novel_cls]\n",
    "    accs_base = [v for k, v in accs.items() if k in base_cls]\n",
    "    accs_novel = [v for k, v in accs.items() if k in novel_cls]\n",
    "    print(f\"seen: mIoU {np.mean(ious_base):.2f}, mAcc {np.mean(accs_base):.2f}\")\n",
    "    print(f\"unseen: mIoU {np.mean(ious_novel):.2f}, mAcc {np.mean(accs_novel):.2f}\")"
   ]
  },
  {
   "cell_type": "code",
   "execution_count": null,
   "metadata": {},
   "outputs": [],
   "source": []
  }
 ],
 "metadata": {
  "kernelspec": {
   "display_name": "Python 3.8.13 ('openseg')",
   "language": "python",
   "name": "python3"
  },
  "language_info": {
   "codemirror_mode": {
    "name": "ipython",
    "version": 3
   },
   "file_extension": ".py",
   "mimetype": "text/x-python",
   "name": "python",
   "nbconvert_exporter": "python",
   "pygments_lexer": "ipython3",
   "version": "3.8.13"
  },
  "orig_nbformat": 4,
  "vscode": {
   "interpreter": {
    "hash": "eb1b0331be7fe2a4d3bed66587d9247426bb7c92ddb75f50ff73b13b9866312b"
   }
  }
 },
 "nbformat": 4,
 "nbformat_minor": 2
}
