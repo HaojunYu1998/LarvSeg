{
 "cells": [
  {
   "cell_type": "code",
   "execution_count": 1,
   "metadata": {},
   "outputs": [],
   "source": [
    "import torch\n",
    "\n",
    "base = torch.load(\n",
    "    \"../work_dirs/20221003_large_voc_swinv2b16_cosine_80k_bs16_cocostuff_ade847_temp0.05_max1000_min10_sing/iter_80000.pth\"\n",
    ")\n",
    "\n",
    "cntr = torch.load(\n",
    "    \"../work_dirs/20221004_large_voc_swinv2b16_cosine_80k_bs16_cocostuff_ade847_structure_weight10.0_thre0.2/iter_80000.pth\"\n",
    ")\n",
    "\n",
    "supv = torch.load(\n",
    "    \"../work_dirs/20221004_large_voc_vitb16_cosine_80k_bs16_ade847_temp0.05_sing/iter_80000.pth\"\n",
    ")"
   ]
  },
  {
   "cell_type": "code",
   "execution_count": 2,
   "metadata": {},
   "outputs": [],
   "source": [
    "cls_base = base[\"state_dict\"][\"decode_head.cls_emb\"]\n",
    "cls_cntr = cntr[\"state_dict\"][\"decode_head.cls_emb\"]\n",
    "cls_supv = supv[\"state_dict\"][\"decode_head.cls_emb\"]"
   ]
  },
  {
   "cell_type": "code",
   "execution_count": 3,
   "metadata": {},
   "outputs": [],
   "source": [
    "cls_base = cls_base / cls_base.norm(dim=-1, keepdim=True)\n",
    "cls_cntr = cls_cntr / cls_cntr.norm(dim=-1, keepdim=True)\n",
    "cls_supv = cls_supv / cls_supv.norm(dim=-1, keepdim=True)"
   ]
  },
  {
   "cell_type": "code",
   "execution_count": 4,
   "metadata": {},
   "outputs": [],
   "source": [
    "cos_base = cls_base @ cls_base.T\n",
    "cos_cntr = cls_cntr @ cls_cntr.T\n",
    "cos_supv = cls_supv @ cls_supv.T"
   ]
  },
  {
   "cell_type": "code",
   "execution_count": 5,
   "metadata": {},
   "outputs": [],
   "source": [
    "N = len(cos_base)\n",
    "mask = torch.triu(torch.ones((N, N)), diagonal=1).bool()\n",
    "\n",
    "Ns = len(cls_supv)\n",
    "masks = torch.triu(torch.ones((Ns, Ns)), diagonal=1).bool()"
   ]
  },
  {
   "cell_type": "code",
   "execution_count": 6,
   "metadata": {},
   "outputs": [
    {
     "data": {
      "image/png": "[encoded data removed]",
      "text/plain": [
       "<Figure size 432x288 with 1 Axes>"
      ]
     },
     "metadata": {
      "needs_background": "light"
     },
     "output_type": "display_data"
    }
   ],
   "source": [
    "import seaborn as sns\n",
    "import matplotlib.pyplot as plt\n",
    "sns.kdeplot(cos_base[mask].numpy(), bw_adjust=0.1, label=\"base\")\n",
    "sns.kdeplot(cos_cntr[mask].numpy(), bw_adjust=0.1, label=\"cntr\")\n",
    "sns.kdeplot(cos_supv[masks].numpy(), bw_adjust=0.1, label=\"supv\")\n",
    "plt.legend()\n",
    "plt.show()"
   ]
  },
  {
   "cell_type": "code",
   "execution_count": 7,
   "metadata": {},
   "outputs": [
    {
     "data": {
      "text/plain": [
       "928"
      ]
     },
     "execution_count": 7,
     "metadata": {},
     "output_type": "execute_result"
    }
   ],
   "source": [
    "import json\n",
    "all_cls = json.load(open(\"ade847ucoco.json\"))\n",
    "len(all_cls)"
   ]
  },
  {
   "cell_type": "code",
   "execution_count": 8,
   "metadata": {},
   "outputs": [],
   "source": [
    "coco_cls = (\n",
    "        'person', 'bicycle', 'car', 'motorcycle', 'airplane', 'bus', 'train',\n",
    "        'truck', 'boat', 'traffic light', 'fire hydrant', 'stop sign',\n",
    "        'parking meter', 'bench', 'bird', 'cat', 'dog', 'horse', 'sheep',\n",
    "        'cow', 'elephant', 'bear', 'zebra', 'giraffe', 'backpack', 'umbrella',\n",
    "        'handbag', 'tie', 'suitcase', 'frisbee', 'skis', 'snowboard',\n",
    "        'sports ball', 'kite', 'baseball bat', 'baseball glove', 'skateboard',\n",
    "        'surfboard', 'tennis racket', 'bottle', 'wine glass', 'cup', 'fork',\n",
    "        'knife', 'spoon', 'bowl', 'banana', 'apple', 'sandwich', 'orange',\n",
    "        'broccoli', 'carrot', 'hot dog', 'pizza', 'donut', 'cake', 'chair',\n",
    "        'couch', 'potted plant', 'bed', 'dining table', 'toilet', 'tv',\n",
    "        'laptop', 'mouse', 'remote', 'keyboard', 'cell phone', 'microwave',\n",
    "        'oven', 'toaster', 'sink', 'refrigerator', 'book', 'clock', 'vase',\n",
    "        'scissors', 'teddy bear', 'hair drier', 'toothbrush', 'banner',\n",
    "        'blanket', 'branch', 'bridge', 'building-other', 'bush', 'cabinet',\n",
    "        'cage', 'cardboard', 'carpet', 'ceiling-other', 'ceiling-tile',\n",
    "        'cloth', 'clothes', 'clouds', 'counter', 'cupboard', 'curtain',\n",
    "        'desk-stuff', 'dirt', 'door-stuff', 'fence', 'floor-marble',\n",
    "        'floor-other', 'floor-stone', 'floor-tile', 'floor-wood',\n",
    "        'flower', 'fog', 'food-other', 'fruit', 'furniture-other', 'grass',\n",
    "        'gravel', 'ground-other', 'hill', 'house', 'leaves', 'light', 'mat',\n",
    "        'metal', 'mirror-stuff', 'moss', 'mountain', 'mud', 'napkin', 'net',\n",
    "        'paper', 'pavement', 'pillow', 'plant-other', 'plastic', 'platform',\n",
    "        'playingfield', 'railing', 'railroad', 'river', 'road', 'rock', 'roof',\n",
    "        'rug', 'salad', 'sand', 'sea', 'shelf', 'sky-other', 'skyscraper',\n",
    "        'snow', 'solid-other', 'stairs', 'stone', 'straw', 'structural-other',\n",
    "        'table', 'tent', 'textile-other', 'towel', 'tree', 'vegetable',\n",
    "        'wall-brick', 'wall-concrete', 'wall-other', 'wall-panel',\n",
    "        'wall-stone', 'wall-tile', 'wall-wood', 'water-other', 'waterdrops',\n",
    "        'window-blind', 'window-other', 'wood')\n",
    "ade_cls = (\n",
    "        'wall', 'building', 'sky', 'tree', 'road', 'floor', 'ceiling', 'bed', \n",
    "        'sidewalk', 'earth', 'cabinet', 'person', 'grass', 'windowpane', 'car', \n",
    "        'mountain', 'plant', 'table', 'chair', 'curtain', 'door', 'sofa', 'sea', \n",
    "        'painting', 'water', 'mirror', 'house', 'rug', 'shelf', 'armchair', \n",
    "        'fence', 'field', 'lamp', 'rock', 'seat', 'river', 'desk', 'bathtub', \n",
    "        'railing', 'signboard', 'cushion', 'path', 'work-surface', 'stairs', \n",
    "        'column', 'sink', 'wardrobe', 'snow', 'refrigerator', 'base', 'bridge', \n",
    "        'blind', 'runway', 'cliff', 'sand', 'fireplace', 'pillow', 'screen-door', \n",
    "        'toilet', 'skyscraper', 'grandstand', 'box', 'pool-table', 'palm', \n",
    "        'double-door', 'coffee-table', 'counter', 'countertop', 'chest-of-drawers', \n",
    "        'kitchen-island', 'boat', 'waterfall', 'stove', 'flower', 'bookcase', \n",
    "        'controls', 'book', 'stairway', 'streetlight', 'computer', 'bus', \n",
    "        'swivel-chair', 'light', 'bench', 'case', 'towel', 'fountain', 'embankment', \n",
    "        'television-receiver', 'van', 'hill', 'awning', 'poster', 'truck', \n",
    "        'airplane', 'pole', 'tower', 'court', 'ball', 'aircraft-carrier', 'buffet', \n",
    "        'hovel', 'apparel', 'minibike', 'animal', 'chandelier', 'step', 'booth', \n",
    "        'bicycle', 'doorframe', 'sconce', 'pond', 'trade-name', 'bannister', 'bag', \n",
    "        'traffic-light', 'gazebo', 'escalator', 'land', 'board', 'arcade-machine', \n",
    "        'eiderdown', 'bar', 'stall', 'playground', 'ship', 'ottoman', 'ashcan', \n",
    "        'bottle', 'cradle', 'pot', 'conveyer-belt', 'train', 'stool', 'lake', \n",
    "        'tank', 'ice', 'basket', 'manhole', 'tent', 'canopy', 'microwave', 'barrel', \n",
    "        'dirt-track', 'beam', 'dishwasher', 'plate', 'screen', 'ruins', 'washer', \n",
    "        'blanket', 'plaything', 'food', 'screen', 'oven', 'stage', 'beacon', \n",
    "        'umbrella', 'sculpture', 'aqueduct', 'container', 'scaffolding', 'hood', \n",
    "        'curb', 'roller-coaster', 'horse', 'catwalk', 'glass', 'vase', \n",
    "        'central-reservation', 'carousel', 'radiator', 'closet', 'machine', 'pier', \n",
    "        'fan', 'inflatable-bounce-game', 'pitch', 'paper', 'arcade', 'hot-tub', \n",
    "        'helicopter', 'tray', 'partition', 'vineyard', 'bowl', 'bullring', 'flag', \n",
    "        'pot', 'footbridge', 'shower', 'bag', 'bulletin-board', 'confessional-booth', \n",
    "        'trunk', 'forest', 'elevator-door', 'laptop', 'instrument-panel', 'bucket', \n",
    "        'tapestry', 'platform', 'jacket', 'gate', 'monitor', 'telephone-booth', \n",
    "        'spotlight', 'ring', 'control-panel', 'blackboard', 'air-conditioner', \n",
    "        'chest', 'clock', 'sand-dune', 'pipe', 'vault', 'table-football', 'cannon', \n",
    "        'swimming-pool', 'fluorescent', 'statue', 'loudspeaker', 'exhibitor', \n",
    "        'ladder', 'carport', 'dam', 'pulpit', 'skylight', 'water-tower', 'grill', \n",
    "        'display-board', 'pane', 'rubbish', 'ice-rink', 'fruit', 'patio', \n",
    "        'vending-machine', 'telephone', 'net', 'backpack', 'jar', 'track', \n",
    "        'magazine', 'shutter', 'roof', 'banner', 'landfill', 'post', 'altarpiece', \n",
    "        'hat', 'arch', 'table-game', 'bag', 'document', 'dome', 'pier', 'shanties', \n",
    "        'forecourt', 'crane', 'dog', 'piano', 'drawing', 'cabin', 'ad', 'amphitheater', \n",
    "        'monument', 'henhouse', 'cockpit', 'heater', 'windmill', 'pool', 'elevator', \n",
    "        'decoration', 'labyrinth', 'text', 'printer', 'mezzanine', 'mattress', 'straw', \n",
    "        'stalls', 'patio', 'billboard', 'bus-stop', 'trouser', 'console-table', 'rack', \n",
    "        'notebook', 'shrine', 'pantry', 'cart', 'steam-shovel', 'porch', 'postbox', \n",
    "        'figurine', 'recycling-bin', 'folding-screen', 'telescope', 'deck-chair', \n",
    "        'kennel', 'coffee-maker', 'altar', 'fish', 'easel', 'artificial-golf-green', \n",
    "        'iceberg', 'candlestick', 'shower-stall', 'television-stand', 'wall-socket', \n",
    "        'skeleton', 'grand-piano', 'candy', 'grille-door', 'pedestal', 'jersey', \n",
    "        'shoe', 'gravestone', 'shanty', 'structure', 'rocking-chair', 'bird', \n",
    "        'place-mat', 'tomb', 'big-top', 'gas-pump', 'lockers', 'cage', 'finger', \n",
    "        'bleachers', 'ferris-wheel', 'hairdresser-chair', 'mat', 'stands', 'aquarium', \n",
    "        'streetcar', 'napkin', 'dummy', 'booklet', 'sand-trap', 'shop', 'table-cloth', \n",
    "        'service-station', 'coffin', 'drawer', 'cages', 'slot-machine', 'balcony', \n",
    "        'volleyball-court', 'table-tennis', 'control-table', 'shirt', 'merchandise', \n",
    "        'railway', 'parterre', 'chimney', 'can', 'tanks', 'fabric', 'alga', 'system', \n",
    "        'map', 'greenhouse', 'mug', 'barbecue', 'trailer', 'toilet-tissue', 'organ', \n",
    "        'dishrag', 'island', 'keyboard', 'trench', 'basket', 'steering-wheel', 'pitcher', \n",
    "        'goal', 'bread', 'beds', 'wood', 'file-cabinet', 'newspaper', 'motorboat', \n",
    "        'rope', 'guitar', 'rubble', 'scarf', 'barrels', 'cap', 'leaves', 'control-tower', \n",
    "        'dashboard', 'bandstand', 'lectern', 'switch', 'baseboard', 'shower-room', \n",
    "        'smoke', 'faucet', 'bulldozer', 'saucepan', 'shops', 'meter', 'crevasse', 'gear', \n",
    "        'candelabrum', 'sofa-bed', 'tunnel', 'pallet', 'wire', 'kettle', 'bidet', \n",
    "        'baby-buggy', 'music-stand', 'pipe', 'cup', 'parking-meter', 'ice-hockey-rink', \n",
    "        'shelter', 'weeds', 'temple', 'patty', 'ski-slope', 'panel', 'wallet', 'wheel', \n",
    "        'towel-rack', 'roundabout', 'canister', 'rod', 'soap-dispenser', 'bell', \n",
    "        'canvas', 'box-office', 'teacup', 'trellis', 'workbench', 'valley', 'toaster', \n",
    "        'knife', 'podium', 'ramp', 'tumble-dryer', 'fireplug', 'gym-shoe', 'lab-bench', \n",
    "        'equipment', 'rocky-formation', 'plastic', 'calendar', 'caravan', \n",
    "        'check-in-desk', 'ticket-counter', 'brush', 'mill', 'covered-bridge', \n",
    "        'bowling-alley', 'hanger', 'excavator', 'trestle', 'revolving-door', \n",
    "        'blast-furnace', 'scale', 'projector', 'soap', 'locker', 'tractor', 'stretcher', \n",
    "        'frame', 'grating', 'alembic', 'candle', 'barrier', 'cardboard', 'cave', 'puddle', \n",
    "        'tarp', 'price-tag', 'watchtower', 'meters', 'light-bulb', 'tracks', 'hair-dryer', \n",
    "        'skirt', 'viaduct', 'paper-towel', 'coat', 'sheet', 'fire-extinguisher', \n",
    "        'water-wheel', 'pottery', 'magazine-rack', 'teapot', 'microphone', 'support', \n",
    "        'forklift', 'canyon', 'cash-register', 'leaf', 'remote-control', 'soap-dish', \n",
    "        'windshield', 'cat', 'cue', 'vent', 'videos', 'shovel', 'eaves', 'antenna', \n",
    "        'shipyard', 'hen', 'traffic-cone', 'washing-machines', 'truck-crane', 'cds', \n",
    "        'niche', 'scoreboard', 'briefcase', 'boot', 'sweater', 'hay', 'pack', \n",
    "        'bottle-rack', 'glacier', 'pergola', 'building-materials', 'television-camera', \n",
    "        'first-floor', 'rifle', 'tennis-table', 'stadium', 'safety-belt', 'cover', \n",
    "        'dish-rack', 'synthesizer', 'pumpkin', 'gutter', 'fruit-stand', 'ice-floe', \n",
    "        'handle', 'wheelchair', 'mousepad', 'diploma', 'fairground-ride', 'radio', \n",
    "        'hotplate', 'junk', 'wheelbarrow', 'stream', 'toll-plaza', 'punching-bag', \n",
    "        'trough', 'throne', 'chair-desk', 'weighbridge', 'extractor-fan', \n",
    "        'hanging-clothes', 'dish', 'alarm-clock', 'ski-lift', 'chain', 'garage', \n",
    "        'mechanical-shovel', 'wine-rack', 'tramway', 'treadmill', 'menu', 'block', 'well', \n",
    "        'witness-stand', 'branch', 'duck', 'casserole', 'frying-pan', 'desk-organizer', \n",
    "        'mast', 'spectacles', 'service-elevator', 'dollhouse', 'hammock', \n",
    "        'clothes-hanging', 'photocopier', 'notepad', 'golf-cart', 'footpath', 'cross', \n",
    "        'baptismal-font', 'boiler', 'skip', 'rotisserie', 'tables', 'water-mill', \n",
    "        'helmet', 'cover-curtain', 'brick', 'table-runner', 'ashtray', 'street-box', \n",
    "        'stick', 'hangers', 'cells', 'urinal', 'centerpiece', 'portable-fridge', 'dvds', \n",
    "        'golf-club', 'skirting-board', 'water-cooler', 'clipboard', 'camera', \n",
    "        'pigeonhole', 'chips', 'food-processor', 'post-box', 'lid', 'drum', 'blender', \n",
    "        'cave-entrance', 'dental-chair', 'obelisk', 'canoe', 'mobile', 'monitors', \n",
    "        'pool-ball', 'cue-rack', 'baggage-carts', 'shore', 'fork', 'paper-filer', \n",
    "        'bicycle-rack', 'coat-rack', 'garland', 'sports-bag', 'fish-tank', \n",
    "        'towel-dispenser', 'carriage', 'brochure', 'plaque', 'stringer', 'iron', \n",
    "        'spoon', 'flag-pole', 'toilet-brush', 'book-stand', 'water-faucet', \n",
    "        'ticket-office', 'broom', 'dvd', 'ice-bucket', 'carapace', 'tureen', 'folders', \n",
    "        'chess', 'root', 'sewing-machine', 'model', 'pen', 'violin', 'sweatshirt', \n",
    "        'recycling-materials', 'mitten', 'chopping-board', 'mask', 'log', 'mouse', \n",
    "        'grill', 'hole', 'target', 'trash-bag', 'chalk', 'sticks', 'balloon', 'score', \n",
    "        'hair-spray', 'roll', 'runner', 'engine', 'inflatable-glove', 'games', \n",
    "        'pallets', 'baskets', 'coop', 'dvd-player', 'rocking-horse', 'buckets', \n",
    "        'bread-rolls', 'shawl', 'watering-can', 'spotlights', 'post-it', 'bowls', \n",
    "        'security-camera', 'runner-cloth', 'lock', 'alarm', 'side', 'roulette', 'bone', \n",
    "        'cutlery', 'pool-balls', 'wheels', 'spice-rack', 'plant-pots', 'towel-ring', \n",
    "        'bread-box', 'video', 'funfair', 'breads', 'tripod', 'ironing-board', 'skimmer', \n",
    "        'hollow', 'scratching-post', 'tricycle', 'file-box', 'mountain-pass', \n",
    "        'tombstones', 'cooker', 'card-game', 'golf-bag', 'towel-paper', 'chaise-lounge', \n",
    "        'sun', 'toilet-paper-holder', 'rake', 'key', 'umbrella-stand', 'dartboard', \n",
    "        'transformer', 'fireplace-utensils', 'sweatshirts', 'cellular-telephone', \n",
    "        'tallboy', 'stapler', 'sauna', 'test-tube', 'palette', 'shopping-carts', 'tools', \n",
    "        'push-button', 'star', 'roof-rack', 'barbed-wire', 'spray', 'ear', 'sponge', \n",
    "        'racket', 'tins', 'eyeglasses', 'file', 'scarfs', 'sugar-bowl', 'flip-flop', \n",
    "        'headstones', 'laptop-bag', 'leash', 'climbing-frame', 'suit-hanger', \n",
    "        'floor-spotlight', 'plate-rack', 'sewer', 'hard-drive', 'sprinkler', 'tools-box', \n",
    "        'necklace', 'bulbs', 'steel-industry', 'club', 'jack', 'door-bars', \n",
    "        'control-panel', 'hairbrush', 'napkin-holder', 'office', 'smoke-detector', \n",
    "        'utensils', 'apron', 'scissors', 'terminal', 'grinder', 'entry-phone', \n",
    "        'newspaper-stand', 'pepper-shaker', 'onions', 'central-processing-unit', 'tape', \n",
    "        'bat', 'coaster', 'calculator', 'potatoes', 'luggage-rack', 'salt', \n",
    "        'street-number', 'viewpoint', 'sword', 'cd', 'rowing-machine', 'plug', 'andiron', \n",
    "        'pepper', 'tongs', 'bonfire', 'dog-dish', 'belt', 'dumbbells', \n",
    "        'videocassette-recorder', 'hook', 'envelopes', 'shower-faucet', 'watch', \n",
    "        'padlock', 'swimming-pool-ladder', 'spanners', 'gravy-boat', 'notice-board', \n",
    "        'trash-bags', 'fire-alarm', 'ladle', 'stethoscope', 'rocket', 'funnel', \n",
    "        'bowling-pins', 'valve', 'thermometer', 'cups', 'spice-jar', 'night-light', \n",
    "        'soaps', 'games-table', 'slotted-spoon', 'reel', 'scourer', 'sleeping-robe', \n",
    "        'desk-mat', 'dumbbell', 'hammer', 'tie', 'typewriter', 'shaker', 'cheese-dish', \n",
    "        'sea-star', 'racquet', 'butane-gas-cylinder', 'paper-weight', 'shaving-brush', \n",
    "        'sunglasses', 'gear-shift', 'towel-rail', 'adding-machine')\n"
   ]
  },
  {
   "cell_type": "code",
   "execution_count": 9,
   "metadata": {},
   "outputs": [],
   "source": [
    "coco_cls_base = cls_base[[all_cls.index(c) for c in coco_cls]]\n",
    "coco_cls_cntr = cls_cntr[[all_cls.index(c) for c in coco_cls]]\n",
    "\n",
    "ade_cls_base = cls_base[[all_cls.index(c) for c in ade_cls]]\n",
    "ade_cls_cntr = cls_cntr[[all_cls.index(c) for c in ade_cls]]"
   ]
  },
  {
   "cell_type": "code",
   "execution_count": 10,
   "metadata": {},
   "outputs": [],
   "source": [
    "coco_cos_base = coco_cls_base @ coco_cls_base.T\n",
    "coco_cos_cntr = coco_cls_cntr @ coco_cls_cntr.T\n",
    "\n",
    "ade_cos_base = ade_cls_base @ ade_cls_base.T\n",
    "ade_cos_cntr = ade_cls_cntr @ ade_cls_cntr.T\n",
    "\n",
    "N1 = len(coco_cos_base)\n",
    "mask1 = torch.triu(torch.ones((N1, N1)), diagonal=1).bool()\n",
    "N2 = len(ade_cos_base)\n",
    "mask2 = torch.triu(torch.ones((N2, N2)), diagonal=1).bool()"
   ]
  },
  {
   "cell_type": "code",
   "execution_count": 11,
   "metadata": {},
   "outputs": [
    {
     "data": {
      "image/png": "[encoded data removed]",
      "text/plain": [
       "<Figure size 432x288 with 1 Axes>"
      ]
     },
     "metadata": {
      "needs_background": "light"
     },
     "output_type": "display_data"
    }
   ],
   "source": [
    "import seaborn as sns\n",
    "import matplotlib.pyplot as plt\n",
    "sns.kdeplot(coco_cos_base[mask1].numpy(), bw_adjust=0.1, label=\"coco_base\")\n",
    "sns.kdeplot(coco_cos_cntr[mask1].numpy(), bw_adjust=0.1, label=\"coco_cntr\")\n",
    "sns.kdeplot(ade_cos_base[mask2].numpy(), bw_adjust=0.1, label=\"ade_base\")\n",
    "sns.kdeplot(ade_cos_cntr[mask2].numpy(), bw_adjust=0.1, label=\"ade_cntr\")\n",
    "sns.kdeplot(cos_supv[masks].numpy(), bw_adjust=0.1, label=\"supv\")\n",
    "plt.legend()\n",
    "plt.show()"
   ]
  },
  {
   "cell_type": "code",
   "execution_count": 12,
   "metadata": {},
   "outputs": [
    {
     "data": {
      "text/plain": [
       "[tensor(0.0164),\n",
       " tensor(0.0216),\n",
       " tensor(0.0116),\n",
       " tensor(0.0118),\n",
       " tensor(0.0037)]"
      ]
     },
     "execution_count": 12,
     "metadata": {},
     "output_type": "execute_result"
    }
   ],
   "source": [
    "[\n",
    "    (coco_cos_base[mask1] > 0.1).sum() / coco_cos_base[mask1].numel(),\n",
    "    (coco_cos_cntr[mask1] > 0.1).sum() / coco_cos_cntr[mask1].numel(),\n",
    "    (ade_cos_base[mask2] > 0.1).sum() / ade_cos_base[mask2].numel(),\n",
    "    (ade_cos_cntr[mask2] > 0.1).sum() / ade_cos_cntr[mask2].numel(),\n",
    "    (cos_supv[masks] > 0.1).sum() / cos_supv[masks].numel()\n",
    "]"
   ]
  },
  {
   "cell_type": "code",
   "execution_count": 20,
   "metadata": {},
   "outputs": [
    {
     "name": "stdout",
     "output_type": "stream",
     "text": [
      "[tensor(179321), tensor(178846)]\n",
      "[tensor(4167), tensor(4226)]\n",
      "[tensor(13), tensor(14)]\n",
      "[tensor(11), tensor(11)]\n",
      "[tensor(11), tensor(11)]\n"
     ]
    }
   ],
   "source": [
    "for i in range(0, 5):\n",
    "    thre = i / 10\n",
    "    print([\n",
    "        (ade_cos_base[mask2] > thre).sum(),\n",
    "        (ade_cos_cntr[mask2] > thre).sum()\n",
    "    ])"
   ]
  },
  {
   "cell_type": "code",
   "execution_count": 13,
   "metadata": {},
   "outputs": [
    {
     "data": {
      "text/plain": [
       "[tensor(0.3949),\n",
       " tensor(0.3391),\n",
       " tensor(1.0000),\n",
       " tensor(1.0000),\n",
       " tensor(0.3184)]"
      ]
     },
     "execution_count": 13,
     "metadata": {},
     "output_type": "execute_result"
    }
   ],
   "source": [
    "[\n",
    "    coco_cos_base[mask1].max(),\n",
    "    coco_cos_cntr[mask1].max(),\n",
    "    ade_cos_base[mask2].max(),\n",
    "    ade_cos_cntr[mask2].max(),\n",
    "    cos_supv[masks].max()\n",
    "]"
   ]
  },
  {
   "cell_type": "code",
   "execution_count": null,
   "metadata": {},
   "outputs": [],
   "source": []
  }
 ],
 "metadata": {
  "kernelspec": {
   "display_name": "Python 3.8.13 ('openseg')",
   "language": "python",
   "name": "python3"
  },
  "language_info": {
   "codemirror_mode": {
    "name": "ipython",
    "version": 3
   },
   "file_extension": ".py",
   "mimetype": "text/x-python",
   "name": "python",
   "nbconvert_exporter": "python",
   "pygments_lexer": "ipython3",
   "version": "3.8.13"
  },
  "orig_nbformat": 4,
  "vscode": {
   "interpreter": {
    "hash": "eb1b0331be7fe2a4d3bed66587d9247426bb7c92ddb75f50ff73b13b9866312b"
   }
  }
 },
 "nbformat": 4,
 "nbformat_minor": 2
}
