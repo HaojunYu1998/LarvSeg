{
 "cells": [
  {
   "cell_type": "code",
   "execution_count": 1,
   "metadata": {},
   "outputs": [],
   "source": [
    "from glob import glob\n",
    "\n",
    "gt_validation = glob(\"/mnt/haojun/itpsea4data/dataset/ADE20K_2021_17_01/annotations_detectron2/validation/*.tif\")"
   ]
  },
  {
   "cell_type": "code",
   "execution_count": 4,
   "metadata": {},
   "outputs": [
    {
     "data": {
      "text/plain": [
       "'/mnt/haojun/itpsea4data/dataset/ADE20K_2021_17_01/annotations_detectron2/validation/ADE_val_00000001.tif'"
      ]
     },
     "execution_count": 4,
     "metadata": {},
     "output_type": "execute_result"
    }
   ],
   "source": [
    "gt_validation[0]"
   ]
  },
  {
   "cell_type": "code",
   "execution_count": 6,
   "metadata": {},
   "outputs": [
    {
     "data": {
      "text/plain": [
       "array([    0,     1,     2,     3,     9,    16,   714, 65535],\n",
       "      dtype=uint16)"
      ]
     },
     "execution_count": 6,
     "metadata": {},
     "output_type": "execute_result"
    }
   ],
   "source": [
    "from PIL import Image\n",
    "import numpy as np\n",
    "gt1 = np.array(Image.open(gt_validation[1]))\n",
    "np.unique(gt1)"
   ]
  },
  {
   "cell_type": "code",
   "execution_count": 9,
   "metadata": {},
   "outputs": [
    {
     "data": {
      "text/plain": [
       "array([    0,     5,     6,    11,    13,    16,    18,    20,    39,\n",
       "          44,    64,    76,    82,   114,   127,   130,   191,   199,\n",
       "         204,   239,   263,   478, 65535], dtype=uint16)"
      ]
     },
     "execution_count": 9,
     "metadata": {},
     "output_type": "execute_result"
    }
   ],
   "source": [
    "gt1_ori = np.array(Image.open(\n",
    "    \"/mnt/haojun/itpsea4data/dataset/ade20k_full/train/label/ADE_train_00000002.tif\"\n",
    "))\n",
    "np.unique(gt1_ori)"
   ]
  },
  {
   "cell_type": "code",
   "execution_count": 10,
   "metadata": {},
   "outputs": [
    {
     "data": {
      "text/plain": [
       "array([  0,   5,   6,  11,  13,  16,  18,  20,  39,  44,  64,  76,  82,\n",
       "       114, 127, 130, 191, 199, 204, 239, 263, 478,  -1], dtype=int16)"
      ]
     },
     "execution_count": 10,
     "metadata": {},
     "output_type": "execute_result"
    }
   ],
   "source": [
    "np.unique(gt1_ori).astype(np.int16)"
   ]
  },
  {
   "cell_type": "code",
   "execution_count": null,
   "metadata": {},
   "outputs": [],
   "source": []
  }
 ],
 "metadata": {
  "kernelspec": {
   "display_name": "Python 3.8.13 ('openseg')",
   "language": "python",
   "name": "python3"
  },
  "language_info": {
   "codemirror_mode": {
    "name": "ipython",
    "version": 3
   },
   "file_extension": ".py",
   "mimetype": "text/x-python",
   "name": "python",
   "nbconvert_exporter": "python",
   "pygments_lexer": "ipython3",
   "version": "3.8.13"
  },
  "orig_nbformat": 4,
  "vscode": {
   "interpreter": {
    "hash": "eb1b0331be7fe2a4d3bed66587d9247426bb7c92ddb75f50ff73b13b9866312b"
   }
  }
 },
 "nbformat": 4,
 "nbformat_minor": 2
}
