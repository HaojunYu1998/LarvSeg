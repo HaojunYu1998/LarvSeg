{
 "cells": [
  {
   "cell_type": "markdown",
   "metadata": {},
   "source": [
    "# ADE130"
   ]
  },
  {
   "cell_type": "code",
   "execution_count": 1,
   "metadata": {},
   "outputs": [],
   "source": [
    "in130 = {\"n02870880\": \"bookcase\", \"n04326896\": \"stool\", \"n02818832\": \"bed\", \"n04522168\": \"vase\", \"n14844693\": \"dirt track\", \"n02912065\": \"buffet\", \"n04330340\": \"stove\", \"n04233124\": \"skyscraper\", \"n02775897\": \"bridge\", \"n02883344\": \"box\", \"n03976657\": \"pole\", \"n12102133\": \"grass\", \"n03723153\": \"tent\", \"n11669921\": \"flower\", \"n04314914\": \"stairs\", \"n03002096\": \"chair\", \"n03545150\": \"house\", \"n02828884\": \"bench\", \"n03221720\": \"door\", \"n03938244\": \"cushion\", \"n09416076\": \"rock\", \"n02788148\": \"bannister\", \"n04217882\": \"trade name\", \"n02958343\": \"car\", \"n02834778\": \"bicycle\", \"n04546855\": \"wall\", \"n03320046\": \"fan\", \"n03173929\": \"truck\", \"n09303008\": \"hill\", \"n04190052\": \"shelf\", \"n03619890\": \"kitchen island\", \"n03100897\": \"conveyer belt\", \"n03148324\": \"wardrobe\", \"n02691156\": \"airplane\", \"n04070727\": \"refrigerator\", \"n04460130\": \"tower\", \"n09436708\": \"sky\", \"n02778669\": \"ball\", \"n04476259\": \"tray\", \"n03005285\": \"chandelier\", \"n04215402\": \"sidewalk\", \"n04547592\": \"wall\", \"n15019030\": \"sand\", \"n04388743\": \"tank\", \"n04296562\": \"stage\", \"n09403211\": \"radiator\", \"n03544360\": \"house\", \"n04446276\": \"toilet\", \"n03782190\": \"monitor\", \"n04096066\": \"road\", \"n02763901\": \"awning\", \"n03982430\": \"pool table\", \"n04587648\": \"windowpane\", \"n02874086\": \"booth\", \"n09330378\": \"lake\", \"n04040759\": \"radiator\", \"n02797692\": \"base\", \"n03438257\": \"glass\", \"n04373704\": \"swivel chair\", \"n03365592\": \"floor\", \"n04041069\": \"radiator\", \"n03125729\": \"cradle\", \"n09415584\": \"river\", \"n02951843\": \"canopy\", \"n02998563\": \"sink\", \"n02706806\": \"arcade machine\", \"n13156986\": \"palm\", \"n02808440\": \"bathtub\", \"n03151077\": \"curtain\", \"n04194289\": \"ship\", \"n04335886\": \"streetlight\", \"n03207941\": \"dishwasher\", \"n03960490\": \"plate\", \"n03346455\": \"fireplace\", \"n03773035\": \"mirror\", \"n00017222\": \"plant\", \"n06874185\": \"traffic light\", \"n03636248\": \"lamp\", \"n02933112\": \"cabinet\", \"n04490091\": \"truck\", \"n04118021\": \"rug\", \"n07935504\": \"water\", \"n03354903\": \"flag\", \"n02924116\": \"bus\", \"n02796995\": \"bar\", \"n04411264\": \"tent\", \"n03327234\": \"fence\", \"n03082979\": \"computer\", \"n04520170\": \"van\", \"n09331251\": \"lake\", \"n03769722\": \"minibike\", \"n04379243\": \"table\", \"n04153025\": \"screen door\", \"n03782006\": \"monitor\", \"n03074380\": \"column\", \"n04148579\": \"sconce\", \"n04047401\": \"railing\", \"n04459362\": \"towel\", \"n04330267\": \"stove\", \"n09282208\": \"floor\", \"n03620353\": \"kitchen island\", \"n03862676\": \"oven\", \"n02851099\": \"blind\", \"n02975212\": \"case\", \"n02898711\": \"bridge\", \"n03636649\": \"lamp\", \"n03781787\": \"monitor\", \"n03933933\": \"pier\", \"n09359803\": \"mountain\", \"n03085602\": \"crt screen\", \"n04047733\": \"railing\", \"n04157320\": \"sculpture\", \"n03046257\": \"clock\", \"n02747177\": \"ashcan\", \"n09214060\": \"bar\", \"n02990373\": \"ceiling\", \"n03547054\": \"hovel\", \"n04550184\": \"wardrobe\", \"n03222318\": \"door\", \"n00015388\": \"animal\", \"n02774152\": \"bag\", \"n09474412\": \"wall\", \"n02819697\": \"bed\", \"n03858418\": \"ottoman\", \"n02738535\": \"armchair\", \"n02773838\": \"bag\", \"n03015254\": \"chest of drawers\", \"n03977158\": \"pole\", \"n03380724\": \"ottoman\", \"n13104059\": \"tree\", \"n03991062\": \"pot\", \"n02773037\": \"bag\", \"n03001627\": \"chair\", \"n02779435\": \"ball\", \"n03222176\": \"door\", \"n02858304\": \"boat\", \"n03116530\": \"counter\", \"n04208936\": \"shower\", \"n02788689\": \"bar\", \"n03063968\": \"coffee table\", \"n03438661\": \"glass\", \"n03073977\": \"column\", \"n14564779\": \"wall\", \"n04554684\": \"washer\", \"n02789487\": \"bar\", \"n02913152\": \"building\", \"n03761084\": \"microwave\", \"n04379964\": \"table\", \"n02870526\": \"book\", \"n03790512\": \"minibike\", \"n09332890\": \"lake\", \"n03388043\": \"fountain\", \"n04405907\": \"television receiver\", \"n02876657\": \"bottle\", \"n03179701\": \"desk\", \"n00007846\": \"person\", \"n08598301\": \"grass\", \"n01319467\": \"animal\", \"n02728440\": \"apparel\", \"n01317541\": \"animal\", \"n08659446\": \"field\", \"n12582231\": \"palm\", \"n02806530\": \"bathtub\", \"n02849154\": \"blanket\", \"n03665366\": \"light\", \"n01055165\": \"tent\", \"n02801938\": \"basket\", \"n03934042\": \"pier\", \"n04120842\": \"runway\", \"n00021265\": \"food\", \"n04148703\": \"sconce\", \"n04256520\": \"sofa\", \"n03462747\": \"earth\"}\n",
    "\n",
    "ade150 = [\n",
    "    'wall', 'building', 'sky', 'floor', 'tree', 'ceiling', 'road', 'bed',\n",
    "    'windowpane', 'grass', 'cabinet', 'sidewalk', 'person', 'earth',\n",
    "    'door', 'table', 'mountain', 'plant', 'curtain', 'chair', 'car',\n",
    "    'water', 'painting', 'sofa', 'shelf', 'house', 'sea', 'mirror', 'rug',\n",
    "    'field', 'armchair', 'seat', 'fence', 'desk', 'rock', 'wardrobe',\n",
    "    'lamp', 'bathtub', 'railing', 'cushion', 'base', 'box', 'column',\n",
    "    'signboard', 'chest of drawers', 'counter', 'sand', 'sink',\n",
    "    'skyscraper', 'fireplace', 'refrigerator', 'grandstand', 'path',\n",
    "    'stairs', 'runway', 'case', 'pool table', 'pillow', 'screen door',\n",
    "    'stairway', 'river', 'bridge', 'bookcase', 'blind', 'coffee table',\n",
    "    'toilet', 'flower', 'book', 'hill', 'bench', 'countertop', 'stove',\n",
    "    'palm', 'kitchen island', 'computer', 'swivel chair', 'boat', 'bar',\n",
    "    'arcade machine', 'hovel', 'bus', 'towel', 'light', 'truck', 'tower',\n",
    "    'chandelier', 'awning', 'streetlight', 'booth', 'television receiver',\n",
    "    'airplane', 'dirt track', 'apparel', 'pole', 'land', 'bannister',\n",
    "    'escalator', 'ottoman', 'bottle', 'buffet', 'poster', 'stage', 'van',\n",
    "    'ship', 'fountain', 'conveyer belt', 'canopy', 'washer', 'plaything',\n",
    "    'swimming pool', 'stool', 'barrel', 'basket', 'waterfall', 'tent',\n",
    "    'bag', 'minibike', 'cradle', 'oven', 'ball', 'food', 'step', 'tank',\n",
    "    'trade name', 'microwave', 'pot', 'animal', 'bicycle', 'lake',\n",
    "    'dishwasher', 'screen', 'blanket', 'sculpture', 'hood', 'sconce',\n",
    "    'vase', 'traffic light', 'tray', 'ashcan', 'fan', 'pier', 'crt screen',\n",
    "    'plate', 'monitor', 'bulletin board', 'shower', 'radiator', 'glass',\n",
    "    'clock', 'flag'\n",
    "]\n"
   ]
  },
  {
   "cell_type": "code",
   "execution_count": 2,
   "metadata": {},
   "outputs": [],
   "source": [
    "cls_130 = list(set(list(in130.values())) & set(ade150))"
   ]
  },
  {
   "cell_type": "code",
   "execution_count": 3,
   "metadata": {},
   "outputs": [
    {
     "name": "stdout",
     "output_type": "stream",
     "text": [
      "'wall', 'building', 'sky', 'floor', 'tree', 'ceiling', 'road', \n",
      "'bed', 'windowpane', 'grass', 'cabinet', 'sidewalk', 'person', 'earth', \n",
      "'door', 'table', 'mountain', 'plant', 'curtain', 'chair', 'car', \n",
      "'water', 'sofa', 'shelf', 'house', 'mirror', 'rug', 'field', \n",
      "'armchair', 'fence', 'desk', 'rock', 'wardrobe', 'lamp', 'bathtub', \n",
      "'railing', 'cushion', 'base', 'box', 'column', 'chest of drawers', 'counter', \n",
      "'sand', 'sink', 'skyscraper', 'fireplace', 'refrigerator', 'stairs', 'runway', \n",
      "'case', 'pool table', 'screen door', 'river', 'bridge', 'bookcase', 'blind', \n",
      "'coffee table', 'toilet', 'flower', 'book', 'hill', 'bench', 'stove', \n",
      "'palm', 'kitchen island', 'computer', 'swivel chair', 'boat', 'bar', 'arcade machine', \n",
      "'hovel', 'bus', 'towel', 'light', 'truck', 'tower', 'chandelier', \n",
      "'awning', 'streetlight', 'booth', 'television receiver', 'airplane', 'dirt track', 'apparel', \n",
      "'pole', 'bannister', 'ottoman', 'bottle', 'buffet', 'stage', 'van', \n",
      "'ship', 'fountain', 'conveyer belt', 'canopy', 'washer', 'stool', 'basket', \n",
      "'tent', 'bag', 'minibike', 'cradle', 'oven', 'ball', 'food', \n",
      "'tank', 'trade name', 'microwave', 'pot', 'animal', 'bicycle', 'lake', \n",
      "'dishwasher', 'blanket', 'sculpture', 'sconce', 'vase', 'traffic light', 'tray', \n",
      "'ashcan', 'fan', 'pier', 'crt screen', 'plate', 'monitor', 'shower', \n",
      "'radiator', 'glass', 'clock', 'flag', "
     ]
    }
   ],
   "source": [
    "new_idx = 0\n",
    "old2new = {0: 0}\n",
    "for old_idx, c in enumerate(ade150):\n",
    "    if c in cls_130:\n",
    "        print(f\"'{c}'\", end=\", \")\n",
    "        old2new[old_idx + 1] = new_idx + 1\n",
    "        new_idx += 1\n",
    "        if new_idx % 7 == 0:\n",
    "            print()\n",
    "    else:\n",
    "        old2new[old_idx + 1] = 0\n"
   ]
  },
  {
   "cell_type": "code",
   "execution_count": null,
   "metadata": {},
   "outputs": [],
   "source": []
  },
  {
   "cell_type": "code",
   "execution_count": null,
   "metadata": {},
   "outputs": [],
   "source": []
  },
  {
   "cell_type": "code",
   "execution_count": null,
   "metadata": {},
   "outputs": [],
   "source": []
  },
  {
   "cell_type": "code",
   "execution_count": null,
   "metadata": {},
   "outputs": [],
   "source": []
  },
  {
   "cell_type": "markdown",
   "metadata": {},
   "source": [
    "# ADE590"
   ]
  },
  {
   "cell_type": "markdown",
   "metadata": {},
   "source": []
  }
 ],
 "metadata": {
  "kernelspec": {
   "display_name": "Python 3.8.13 ('openseg')",
   "language": "python",
   "name": "python3"
  },
  "language_info": {
   "codemirror_mode": {
    "name": "ipython",
    "version": 3
   },
   "file_extension": ".py",
   "mimetype": "text/x-python",
   "name": "python",
   "nbconvert_exporter": "python",
   "pygments_lexer": "ipython3",
   "version": "3.8.13"
  },
  "orig_nbformat": 4,
  "vscode": {
   "interpreter": {
    "hash": "eb1b0331be7fe2a4d3bed66587d9247426bb7c92ddb75f50ff73b13b9866312b"
   }
  }
 },
 "nbformat": 4,
 "nbformat_minor": 2
}
