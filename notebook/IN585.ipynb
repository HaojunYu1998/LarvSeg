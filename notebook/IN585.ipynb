{
 "cells": [
  {
   "cell_type": "code",
   "execution_count": 1,
   "metadata": {},
   "outputs": [],
   "source": [
    "in586 = {\"n02687172\": \"aircraft carrier\", \"n04296562\": \"stage\", \"n03613294\": \"key\", \"n04526520\": \"vent\", \"n01397114\": \"alga\", \"n02747177\": \"ashcan\", \"n09230041\": \"tunnel\", \"n03233905\": \"drawer\", \"n04429376\": \"throne\", \"n04600486\": \"workbench\", \"n00442115\": \"swimming pool\", \"n03082979\": \"computer\", \"n02912065\": \"buffet\", \"n04372370\": \"switch\", \"n04050066\": \"rake\", \"n03403643\": \"funnel\", \"n00017222\": \"plant\", \"n04450749\": \"tongs\", \"n03862676\": \"oven\", \"n04299215\": \"stall\", \"n03885535\": \"pantry\", \"n00021265\": \"food\", \"n03262809\": \"easel\", \"n03653583\": \"lectern\", \"n04532670\": \"viaduct\", \"n04149813\": \"scoreboard\", \"n04533802\": \"videocassette recorder\", \"n04550184\": \"wardrobe\", \"n04370456\": \"sweatshirt\", \"n03720163\": \"map\", \"n04522168\": \"vase\", \"n02686379\": \"air conditioner\", \"n02938886\": \"calculator\", \"n04460130\": \"tower\", \"n03098959\": \"control tower\", \"n02801938\": \"basket\", \"n02733524\": \"arch\", \"n03726760\": \"mast\", \"n04230808\": \"skirt\", \"n12102133\": \"grass\", \"n04027023\": \"push button\", \"n04356056\": \"sunglasses\", \"n03854065\": \"organ\", \"n04359589\": \"support\", \"n04554684\": \"washer\", \"n03841666\": \"office\", \"n04587559\": \"windmill\", \"n04209613\": \"shower stall\", \"n04241394\": \"flip flop\", \"n03092883\": \"console table\", \"n13104059\": \"tree\", \"n04208936\": \"shower\", \"n02814860\": \"beacon\", \"n04461879\": \"plaything\", \"n02778669\": \"ball\", \"n08659446\": \"field\", \"n02754103\": \"spray\", \"n04606574\": \"spanners\", \"n04403638\": \"telescope\", \"n04141712\": \"scaffolding\", \"n02958343\": \"car\", \"n04507155\": \"umbrella\", \"n03743902\": \"monument\", \"n03472535\": \"gym shoe\", \"n04254009\": \"soap dish\", \"n09436444\": \"ski slope\", \"n04376400\": \"synthesizer\", \"n03015254\": \"chest of drawers\", \"n04373894\": \"sword\", \"n00007846\": \"person\", \"n08494231\": \"funfair\", \"n04233124\": \"skyscraper\", \"n03226880\": \"double door\", \"n03512147\": \"helicopter\", \"n02773037\": \"bag\", \"n03376279\": \"folders\", \"n03819994\": \"net\", \"n13926786\": \"shoe\", \"n03390983\": \"frame\", \"n03710193\": \"postbox\", \"n03255030\": \"dumbbells\", \"n02924116\": \"bus\", \"n04254120\": \"soap dispenser\", \"n02747802\": \"ashtray\", \"n03063338\": \"coffee maker\", \"n03100897\": \"conveyer belt\", \"n13125117\": \"root\", \"n03220692\": \"dome\", \"n03445617\": \"golf bag\", \"n04560292\": \"watering can\", \"n04211356\": \"shutter\", \"n03696301\": \"roof rack\", \"n04326896\": \"stool\", \"n02802215\": \"sport basket\", \"n02121620\": \"cat\", \"n03793489\": \"mouse\", \"n03413828\": \"games\", \"n03801760\": \"music stand\", \"n03899768\": \"patio\", \"n04465666\": \"tractor\", \"n04217882\": \"signboard\", \"n02694662\": \"alarm clock\", \"n03633091\": \"ladle\", \"n04499062\": \"tureen\", \"n03773035\": \"mirror\", \"n02881193\": \"bowl\", \"n02836174\": \"bidet\", \"n04594489\": \"wire\", \"n03378174\": \"food processor\", \"n02992529\": \"cellular telephone\", \"n02951358\": \"canoe\", \"n03346455\": \"fireplace\", \"n03020416\": \"chips\", \"n03699975\": \"machine\", \"n02873520\": \"boot\", \"n07735510\": \"pumpkin\", \"n09468604\": \"valley\", \"n11508382\": \"snow\", \"n03132076\": \"bat\", \"n04574999\": \"wheel\", \"n09376198\": \"sea\", \"n02948557\": \"candlestick\", \"n02827606\": \"belt\", \"n03309808\": \"table cloth\", \"n03101156\": \"cooker\", \"n03642806\": \"laptop\", \"n02978753\": \"casserole\", \"n04101375\": \"roll\", \"n03482252\": \"hammock\", \"n04488427\": \"trough\", \"n03281145\": \"elevator door\", \"n06470073\": \"document\", \"n03782006\": \"monitor\", \"n03832673\": \"notebook\", \"n14844693\": \"dirt track\", \"n03145522\": \"cue\", \"n04469813\": \"tramway\", \"n02858304\": \"boat\", \"n03073977\": \"column\", \"n03683341\": \"lock\", \"n04398044\": \"teapot\", \"n03960490\": \"plate\", \"n04306847\": \"statue\", \"n02824448\": \"bell\", \"n04152593\": \"crt screen\", \"n03417749\": \"parterre\", \"n04559451\": \"water faucet\", \"n03179701\": \"desk\", \"n03320046\": \"fan\", \"n04548362\": \"wallet\", \"n03623556\": \"knife\", \"n04256520\": \"sofa\", \"n03122073\": \"covered bridge\", \"n09416076\": \"rock\", \"n02848921\": \"dummy\", \"n01503061\": \"bird\", \"n03431243\": \"gear\", \"n03797390\": \"mug\", \"n04459362\": \"towel\", \"n04040759\": \"radiator\", \"n03126707\": \"crane\", \"n02883344\": \"box\", \"n03222318\": \"door\", \"n03219483\": \"dollhouse\", \"n09309168\": \"ice floe\", \"n04463679\": \"railway\", \"n02846511\": \"blackboard\", \"n04587648\": \"windowpane\", \"n04148579\": \"sconce\", \"n03933933\": \"pier\", \"n04335886\": \"streetlight\", \"n04138977\": \"saucepan\", \"n02788021\": \"banner\", \"n04488530\": \"trouser\", \"n03149135\": \"curb\", \"n03163222\": \"dashboard\", \"n01514859\": \"hen\", \"n02949542\": \"canister\", \"n09308572\": \"iceberg\", \"n07663899\": \"patty\", \"n04202417\": \"shop\", \"n03416489\": \"garage\", \"n03154073\": \"cutlery\", \"n04570958\": \"weighbridge\", \"n03879456\": \"pallet\", \"n02932400\": \"cabin\", \"n04141838\": \"scale\", \"n04335435\": \"streetcar\", \"n02691156\": \"airplane\", \"n03156279\": \"butane gas cylinder\", \"n13908580\": \"roulette\", \"n04490091\": \"truck\", \"n02863750\": \"boiler\", \"n03508101\": \"heater\", \"n04379964\": \"table\", \"n04446276\": \"toilet\", \"n03442756\": \"goal\", \"n04561422\": \"water mill\", \"n02898711\": \"bridge\", \"n09432283\": \"carapace\", \"n03544360\": \"house\", \"n03061505\": \"cockpit\", \"n04143897\": \"scarf\", \"n04099969\": \"rocking chair\", \"n04303497\": \"stapler\", \"n03116530\": \"counter\", \"n03035252\": \"big top\", \"n03223553\": \"street number\", \"n02732072\": \"aquarium\", \"n03815615\": \"tie\", \"n04438897\": \"tins\", \"n03543254\": \"hotplate\", \"n09289331\": \"glacier\", \"n03733281\": \"labyrinth\", \"n03354903\": \"flag\", \"n13085113\": \"weeds\", \"n14564779\": \"wall\", \"n04520170\": \"van\", \"n03457902\": \"greenhouse\", \"n03263076\": \"eaves\", \"n02699770\": \"altarpiece\", \"n04152387\": \"folding screen\", \"n02317335\": \"sea star\", \"n02763901\": \"awning\", \"n03531546\": \"hood\", \"n03619890\": \"kitchen island\", \"n03180969\": \"sprinkler\", \"n03394149\": \"service elevator\", \"n04295881\": \"grandstand\", \"n04413419\": \"terminal\", \"n03814906\": \"necklace\", \"n02936714\": \"grille door\", \"n03887697\": \"paper towel\", \"n04477219\": \"treadmill\", \"n02769748\": \"backpack\", \"n02892201\": \"plaque\", \"n04350581\": \"sugar bowl\", \"n04310507\": \"steam shovel\", \"n03614007\": \"keyboard\", \"n04520382\": \"caravan\", \"n04479694\": \"trestle\", \"n04118021\": \"rug\", \"n03207941\": \"dishwasher\", \"n04314914\": \"stairs\", \"n04478657\": \"trench\", \"n03216828\": \"shipyard\", \"n03610524\": \"kennel\", \"n02947818\": \"candelabrum\", \"n03467517\": \"guitar\", \"n03543603\": \"hot tub\", \"n04533946\": \"dvds\", \"n02849154\": \"blanket\", \"n03906997\": \"pen\", \"n09233446\": \"canyon\", \"n03005285\": \"chandelier\", \"n03775071\": \"mitten\", \"n03209666\": \"hard drive\", \"n03992703\": \"pottery\", \"n04373704\": \"swivel chair\", \"n04394261\": \"target\", \"n02920369\": \"sand trap\", \"n03558176\": \"ice\", \"n03063968\": \"coffee table\", \"n03636248\": \"lamp\", \"n04411264\": \"tent\", \"n02913152\": \"building\", \"n04208427\": \"shovel\", \"n09304750\": \"hole\", \"n03630262\": \"lab bench\", \"n09437454\": \"side\", \"n03445924\": \"golf cart\", \"n03585875\": \"ironing board\", \"n03327234\": \"fence\", \"n04468005\": \"train\", \"n03273913\": \"portable fridge\", \"n04161358\": \"seat\", \"n02951843\": \"canopy\", \"n03963645\": \"playground\", \"n04190052\": \"shelf\", \"n03476991\": \"hair spray\", \"n03891332\": \"parking meter\", \"n04341686\": \"structure\", \"n03120491\": \"court\", \"n02694426\": \"alarm\", \"n04039381\": \"racket\", \"n06277135\": \"radio\", \"n06595351\": \"magazine\", \"n03822171\": \"newspaper\", \"n02374451\": \"horse\", \"n03790230\": \"motorboat\", \"n03064758\": \"coffin\", \"n03725035\": \"mask\", \"n02874086\": \"booth\", \"n03938244\": \"cushion\", \"n03454536\": \"grating\", \"n02797295\": \"wheelbarrow\", \"n02732827\": \"pergola\", \"n04097866\": \"sleeping robe\", \"n03584829\": \"smoothing iron\", \"n03345837\": \"fire extinguisher\", \"n03455488\": \"gravestone\", \"n04401088\": \"telephone\", \"n02882190\": \"bowling alley\", \"n03094503\": \"container\", \"n02975212\": \"case\", \"n02730930\": \"apron\", \"n03160309\": \"dam\", \"n03483316\": \"hair dryer\", \"n04401680\": \"telephone booth\", \"n04229959\": \"skimmer\", \"n04519153\": \"valve\", \"n02835829\": \"bicycle rack\", \"n04576002\": \"wheelchair\", \"n03151077\": \"curtain\", \"n00440039\": \"track\", \"n03513137\": \"helmet\", \"n04476259\": \"tray\", \"n04317833\": \"stick\", \"n12582231\": \"palm\", \"n03341153\": \"finger\", \"n04392113\": \"tape\", \"n04370048\": \"sweater\", \"n04442312\": \"toaster\", \"n09303008\": \"hill\", \"n02828884\": \"bench\", \"n02696246\": \"alembic\", \"n03057021\": \"coat\", \"n04153025\": \"screen door\", \"n03665924\": \"light bulb\", \"n03135532\": \"cross\", \"n13133613\": \"ear\", \"n02870880\": \"bookcase\", \"n13869788\": \"envelopes\", \"n02815950\": \"beam\", \"n03384352\": \"forklift\", \"n04313503\": \"steering wheel\", \"n04523525\": \"vault\", \"n03452741\": \"grand piano\", \"n02990373\": \"ceiling\", \"n03288003\": \"engine\", \"n02897820\": \"brick\", \"n03593526\": \"jar\", \"n04185946\": \"shaving brush\", \"n02808440\": \"bathtub\", \"n04096066\": \"road\", \"n03427296\": \"gate\", \"n04395024\": \"tarp\", \"n04118635\": \"ruins\", \"n00445802\": \"boxing ring\", \"n04102406\": \"roller coaster\", \"n03759954\": \"microphone\", \"n02909870\": \"bucket\", \"n03557360\": \"ice hockey rink\", \"n03612814\": \"kettle\", \"n07802026\": \"hay\", \"n03388043\": \"fountain\", \"n04572935\": \"well\", \"n03761084\": \"microwave\", \"n03727837\": \"place mat\", \"n02797692\": \"base\", \"n03547054\": \"hovel\", \"n02876657\": \"bottle\", \"n03316406\": \"mill\", \"n03475581\": \"hairbrush\", \"n04070727\": \"refrigerator\", \"n02788572\": \"baptismal font\", \"n02874214\": \"confessional booth\", \"n02885882\": \"box office\", \"n04459773\": \"towel rack\", \"n03249569\": \"drum\", \"n04231693\": \"ski lift\", \"n03652932\": \"leash\", \"n09270735\": \"sand dune\", \"n02900705\": \"briefcase\", \"n03588951\": \"jack\", \"n02906734\": \"broom\", \"n04125853\": \"safety belt\", \"n13163991\": \"branch\", \"n03382292\": \"forecourt\", \"n07813107\": \"salt\", \"n03991062\": \"pot\", \"n02728440\": \"apparel\", \"n02788148\": \"bannister\", \"n03325088\": \"faucet\", \"n03147509\": \"cup\", \"n04555897\": \"watch\", \"n02699494\": \"altar\", \"n08517676\": \"bus stop\", \"n04393549\": \"tapestry\", \"n04556948\": \"watchtower\", \"n04485082\": \"tripod\", \"n06255613\": \"paper\", \"n04388743\": \"tank\", \"n03982430\": \"pool table\", \"n01896844\": \"eiderdown\", \"n03432129\": \"gear shift\", \"n04563413\": \"water wheel\", \"n03595523\": \"jersey\", \"n04209509\": \"shower room\", \"n04215402\": \"sidewalk\", \"n03914438\": \"pepper shaker\", \"n02933112\": \"cabinet\", \"n03481172\": \"hammer\", \"n04086446\": \"revolving door\", \"n04562935\": \"water tower\", \"n09433442\": \"shore\", \"n03079230\": \"cds\", \"n04505036\": \"typewriter\", \"n15075141\": \"toilet tissue\", \"n03984381\": \"porch\", \"n03961939\": \"catwalk\", \"n04286575\": \"spotlight\", \"n03294048\": \"equipment\", \"n03790512\": \"minibike\", \"n03059103\": \"coat rack\", \"n03222722\": \"doorframe\", \"n03343560\": \"bonfire\", \"n04232800\": \"skylight\", \"n02968074\": \"carport\", \"n11669921\": \"flower\", \"n03837869\": \"obelisk\", \"n04330267\": \"stove\", \"n03438257\": \"drinking glass\", \"n04467307\": \"trailer\", \"n03098140\": \"controls\", \"n02795169\": \"barrel\", \"n07722217\": \"onions\", \"n03046257\": \"clock\", \"n04074963\": \"remote control\", \"n15019030\": \"sand\", \"n07557434\": \"dog dish\", \"n02706806\": \"arcade machine\", \"n02715229\": \"antenna\", \"n03928116\": \"piano\", \"n02839110\": \"billboard\", \"n02998563\": \"sink\", \"n09238926\": \"tomb\", \"n02908217\": \"brush\", \"n04404997\": \"television camera\", \"n03497657\": \"hat\", \"n03207743\": \"dishrag\", \"n02916179\": \"bulldozer\", \"n03765561\": \"grinder\", \"n13163553\": \"trunk\", \"n03016389\": \"henhouse\", \"n04065789\": \"recycling bin\", \"n03950228\": \"pitcher\", \"n03961711\": \"plate rack\", \"n04284002\": \"spoon\", \"n02933462\": \"locker\", \"n03683606\": \"lockers\", \"n07565083\": \"menu\", \"n02773838\": \"laptop bag\", \"n03691459\": \"loudspeaker\", \"n04596492\": \"witness stand\", \"n04405907\": \"television receiver\", \"n03207630\": \"dish rack\", \"n06874185\": \"traffic light\", \"n02512053\": \"fish\", \"n04179913\": \"sewing machine\", \"n04051549\": \"ramp\", \"n13881644\": \"star\", \"n03874599\": \"padlock\", \"n03425413\": \"gas pump\", \"n09450163\": \"sun\", \"n03518305\": \"tallboy\", \"n04397452\": \"teacup\", \"n09246464\": \"cliff\", \"n02850732\": \"blender\", \"n03446070\": \"golf club\", \"n04451818\": \"tools\", \"n03490884\": \"hanger\", \"n13134947\": \"fruit\", \"n03879705\": \"palette\", \"n02977438\": \"cash register\", \"n02885462\": \"inflatable glove\", \"n07597365\": \"candy\", \"n04061969\": \"niche\", \"n03996416\": \"excavator\", \"n02733213\": \"arcade\", \"n04108268\": \"rope\", \"n02955065\": \"cap\", \"n04183329\": \"shaker\", \"n04004475\": \"printer\", \"n03400231\": \"frying pan\", \"n07679356\": \"bread\", \"n03343737\": \"fire alarm\", \"n04210390\": \"shrine\", \"n03758089\": \"mezzanine\", \"n02738535\": \"armchair\", \"n02882647\": \"bowling pins\", \"n03282060\": \"embankment\", \"n02851099\": \"blind\", \"n04194289\": \"ship\", \"n02084071\": \"dog\", \"n04197391\": \"shirt\", \"n13872592\": \"traffic cone\", \"n13914265\": \"fork\", \"n03211616\": \"board\", \"n02796623\": \"barrier\", \"n00015388\": \"animal\", \"n04111531\": \"barbecue\", \"n04023962\": \"punching bag\", \"n02834778\": \"bicycle\", \"n03894379\": \"partition\", \"n09335809\": \"rubbish\", \"n04148054\": \"scissors\", \"n04525305\": \"vending machine\", \"n02710044\": \"andiron\", \"n03704549\": \"magazine rack\", \"n04336792\": \"stretcher\", \"n03337140\": \"file cabinet\", \"n09436708\": \"sky\", \"n09859684\": \"bleachers\", \"n02999936\": \"chain\", \"n03924679\": \"photocopier\", \"n02789487\": \"bar\", \"n03982232\": \"pool ball\", \"n02782093\": \"balloon\", \"n04482393\": \"tricycle\", \"n03456024\": \"gravy boat\", \"n02870526\": \"book\", \"n03210683\": \"towel dispenser\", \"n13869547\": \"hook\", \"n03001627\": \"chair\", \"n03665366\": \"light\", \"n02969010\": \"carriage\", \"n03753077\": \"meter\", \"n04047401\": \"railing\", \"n13901321\": \"pipe\", \"n04090263\": \"rifle\", \"n04120842\": \"runway\", \"n03462747\": \"earth\", \"n02966193\": \"carousel\", \"n04100174\": \"rod\", \"n02849885\": \"blast furnace\", \"n09282208\": \"floor\", \"n04590553\": \"windshield\", \"n04272054\": \"spectacles\", \"n07935504\": \"water\", \"n04255163\": \"wall socket\", \"n04243941\": \"slot machine\", \"n04188179\": \"sheet\", \"n03159640\": \"podium\", \"n03430418\": \"gazebo\", \"n04038440\": \"exhibitor\", \"n02790823\": \"barbed wire\", \"n02948072\": \"candle\", \"n03717447\": \"manhole\", \"n07710616\": \"potatoes\", \"n02946921\": \"can\", \"n03125729\": \"cradle\", \"n03329302\": \"ferris wheel\", \"n04139395\": \"sauna\", \"n03484083\": \"cart\", \"n04407686\": \"temple\", \"n04009552\": \"projector\", \"n04536866\": \"violin\", \"n04559166\": \"water cooler\", \"n04377057\": \"system\", \"n03988170\": \"pole\", \"n04186455\": \"shawl\", \"n04317175\": \"stethoscope\", \"n03870546\": \"pack\", \"n04105068\": \"roof\", \"n03188531\": \"napkin\", \"n03858418\": \"ottoman\", \"n09359803\": \"mountain\", \"n02818832\": \"bed\", \"n04192238\": \"shelter\", \"n04478512\": \"trellis\", \"n04516672\": \"fireplace utensils\", \"n04099429\": \"rocket\", \"n04275175\": \"spice rack\", \"n03168217\": \"deck chair\", \"n04204347\": \"shopping carts\", \"n04157320\": \"sculpture\", \"n02766534\": \"baby buggy\", \"n02860415\": \"reel\", \"n02705201\": \"amphitheater\", \"n03590306\": \"jacket\", \"n03100346\": \"sofa bed\", \"n03042697\": \"climbing frame\", \"n04459909\": \"towel rail\", \"n02950482\": \"cannon\"}\n",
    "\n",
    "\n",
    "\n",
    "\n",
    "\n",
    "\n",
    "ade847 = (\n",
    "        'wall', 'building', 'sky', 'tree', 'road', 'floor', 'ceiling', 'bed', \n",
    "        'sidewalk', 'earth', 'cabinet', 'person', 'grass', 'windowpane', 'car', \n",
    "        'mountain', 'plant', 'table', 'chair', 'curtain', 'door', 'sofa', 'sea', \n",
    "        'painting', 'water', 'mirror', 'house', 'rug', 'shelf', 'armchair', \n",
    "        'fence', 'field', 'lamp', 'rock', 'seat', 'river', 'desk', 'bathtub', \n",
    "        'railing', 'signboard', 'cushion', 'path', 'work-surface', 'stairs', \n",
    "        'column', 'sink', 'wardrobe', 'snow', 'refrigerator', 'base', 'bridge', \n",
    "        'blind', 'runway', 'cliff', 'sand', 'fireplace', 'pillow', 'screen-door', \n",
    "        'toilet', 'skyscraper', 'grandstand', 'box', 'pool-table', 'palm', \n",
    "        'double-door', 'coffee-table', 'counter', 'countertop', 'chest-of-drawers', \n",
    "        'kitchen-island', 'boat', 'waterfall', 'stove', 'flower', 'bookcase', \n",
    "        'controls', 'book', 'stairway', 'streetlight', 'computer', 'bus', \n",
    "        'swivel-chair', 'light', 'bench', 'case', 'towel', 'fountain', 'embankment', \n",
    "        'television-receiver', 'van', 'hill', 'awning', 'poster', 'truck', \n",
    "        'airplane', 'pole', 'tower', 'court', 'ball', 'aircraft-carrier', 'buffet', \n",
    "        'hovel', 'apparel', 'minibike', 'animal', 'chandelier', 'step', 'booth', \n",
    "        'bicycle', 'doorframe', 'sconce', 'pond', 'trade-name', 'bannister', 'bag', \n",
    "        'traffic-light', 'gazebo', 'escalator', 'land', 'board', 'arcade-machine', \n",
    "        'eiderdown', 'bar', 'stall', 'playground', 'ship', 'ottoman', 'ashcan', \n",
    "        'bottle', 'cradle', 'flowerpot', 'conveyer-belt', 'train', 'stool', 'lake', \n",
    "        'tank', 'ice', 'basket', 'manhole', 'tent', 'canopy', 'microwave', 'barrel', \n",
    "        'dirt-track', 'beam', 'dishwasher', 'plate', 'crt-screen', 'ruins', 'washer', \n",
    "        'blanket', 'plaything', 'food', 'silver-screen', 'oven', 'stage', 'beacon', \n",
    "        'umbrella', 'sculpture', 'aqueduct', 'container', 'scaffolding', 'hood', \n",
    "        'curb', 'roller-coaster', 'horse', 'catwalk', 'drinking-glass', 'vase', \n",
    "        'central-reservation', 'carousel', 'radiator', 'closet', 'machine', 'wharf', \n",
    "        'fan', 'inflatable-bounce-game', 'pitch', 'paper', 'arcade', 'hot-tub', \n",
    "        'helicopter', 'tray', 'partition', 'vineyard', 'bowl', 'bullring', 'flag', \n",
    "        'pot', 'footbridge', 'shower', 'traveling-bag', 'bulletin-board', 'confessional-booth', \n",
    "        'trunk', 'forest', 'elevator-door', 'laptop', 'instrument-panel', 'bucket', \n",
    "        'tapestry', 'platform', 'jacket', 'gate', 'monitor', 'telephone-booth', \n",
    "        'spotlight', 'boxing-ring', 'control-panel', 'blackboard', 'air-conditioner', \n",
    "        'chest', 'clock', 'sand-dune', 'pipage', 'vault', 'table-football', 'cannon', \n",
    "        'swimming-pool', 'fluorescent', 'statue', 'loudspeaker', 'exhibitor', \n",
    "        'ladder', 'carport', 'dam', 'pulpit', 'skylight', 'water-tower', 'grillwork', \n",
    "        'display-board', 'pane', 'rubbish', 'ice-rink', 'fruit', 'patio', \n",
    "        'vending-machine', 'telephone', 'net', 'backpack', 'jar', 'track', \n",
    "        'magazine', 'shutter', 'roof', 'banner', 'landfill', 'post', 'altarpiece', \n",
    "        'hat', 'arch', 'table-game', 'handbag', 'document', 'dome', 'pier', 'shanties', \n",
    "        'forecourt', 'crane', 'dog', 'piano', 'drawing', 'cabin', 'ad', 'amphitheater', \n",
    "        'monument', 'henhouse', 'cockpit', 'heater', 'windmill', 'pool', 'elevator', \n",
    "        'decoration', 'labyrinth', 'text', 'printer', 'mezzanine', 'mattress', 'straw', \n",
    "        'stalls', 'terrace', 'billboard', 'bus-stop', 'trouser', 'console-table', 'rack', \n",
    "        'notebook', 'shrine', 'pantry', 'cart', 'steam-shovel', 'porch', 'postbox', \n",
    "        'figurine', 'recycling-bin', 'folding-screen', 'telescope', 'deck-chair', \n",
    "        'kennel', 'coffee-maker', 'altar', 'fish', 'easel', 'artificial-golf-green', \n",
    "        'iceberg', 'candlestick', 'shower-stall', 'television-stand', 'wall-socket', \n",
    "        'skeleton', 'grand-piano', 'candy', 'grille-door', 'pedestal', 'jersey', \n",
    "        'shoe', 'gravestone', 'shanty', 'structure', 'rocking-chair', 'bird', \n",
    "        'place-mat', 'tomb', 'big-top', 'gas-pump', 'lockers', 'cage', 'finger', \n",
    "        'bleachers', 'ferris-wheel', 'hairdresser-chair', 'mat', 'stands', 'aquarium', \n",
    "        'streetcar', 'napkin', 'dummy', 'booklet', 'sand-trap', 'shop', 'table-cloth', \n",
    "        'service-station', 'coffin', 'drawer', 'cages', 'slot-machine', 'balcony', \n",
    "        'volleyball-court', 'table-tennis', 'control-table', 'shirt', 'merchandise', \n",
    "        'railway', 'parterre', 'chimney', 'can', 'tanks', 'fabric', 'alga', 'system', \n",
    "        'map', 'greenhouse', 'mug', 'barbecue', 'trailer', 'toilet-tissue', 'organ', \n",
    "        'dishrag', 'island', 'keyboard', 'trench', 'sport-basket', 'steering-wheel', 'pitcher', \n",
    "        'goal', 'bread', 'beds', 'wood', 'file-cabinet', 'newspaper', 'motorboat', \n",
    "        'rope', 'guitar', 'rubble', 'scarf', 'barrels', 'cap', 'leaves', 'control-tower', \n",
    "        'dashboard', 'bandstand', 'lectern', 'switch', 'baseboard', 'shower-room', \n",
    "        'smoke', 'faucet', 'bulldozer', 'saucepan', 'shops', 'meter', 'crevasse', 'gear', \n",
    "        'candelabrum', 'sofa-bed', 'tunnel', 'pallet', 'wire', 'kettle', 'bidet', \n",
    "        'baby-buggy', 'music-stand', 'pipe', 'cup', 'parking-meter', 'ice-hockey-rink', \n",
    "        'shelter', 'weeds', 'temple', 'patty', 'ski-slope', 'panel', 'wallet', 'wheel', \n",
    "        'towel-rack', 'roundabout', 'canister', 'rod', 'soap-dispenser', 'bell', \n",
    "        'canvas', 'box-office', 'teacup', 'trellis', 'workbench', 'valley', 'toaster', \n",
    "        'knife', 'podium', 'ramp', 'tumble-dryer', 'fireplug', 'gym-shoe', 'lab-bench', \n",
    "        'equipment', 'rocky-formation', 'plastic', 'calendar', 'caravan', \n",
    "        'check-in-desk', 'ticket-counter', 'brush', 'mill', 'covered-bridge', \n",
    "        'bowling-alley', 'hanger', 'excavator', 'trestle', 'revolving-door', \n",
    "        'blast-furnace', 'scale', 'projector', 'soap', 'locker', 'tractor', 'stretcher', \n",
    "        'frame', 'grating', 'alembic', 'candle', 'barrier', 'cardboard', 'cave', 'puddle', \n",
    "        'tarp', 'price-tag', 'watchtower', 'meters', 'light-bulb', 'tracks', 'hair-dryer', \n",
    "        'skirt', 'viaduct', 'paper-towel', 'coat', 'sheet', 'fire-extinguisher', \n",
    "        'water-wheel', 'pottery', 'magazine-rack', 'teapot', 'microphone', 'support', \n",
    "        'forklift', 'canyon', 'cash-register', 'leaf', 'remote-control', 'soap-dish', \n",
    "        'windshield', 'cat', 'cue', 'vent', 'videos', 'shovel', 'eaves', 'antenna', \n",
    "        'shipyard', 'hen', 'traffic-cone', 'washing-machines', 'truck-crane', 'cds', \n",
    "        'niche', 'scoreboard', 'briefcase', 'boot', 'sweater', 'hay', 'pack', \n",
    "        'bottle-rack', 'glacier', 'pergola', 'building-materials', 'television-camera', \n",
    "        'first-floor', 'rifle', 'tennis-table', 'stadium', 'safety-belt', 'cover', \n",
    "        'dish-rack', 'synthesizer', 'pumpkin', 'gutter', 'fruit-stand', 'ice-floe', \n",
    "        'handle', 'wheelchair', 'mousepad', 'diploma', 'fairground-ride', 'radio', \n",
    "        'hotplate', 'junk', 'wheelbarrow', 'stream', 'toll-plaza', 'punching-bag', \n",
    "        'trough', 'throne', 'chair-desk', 'weighbridge', 'extractor-fan', \n",
    "        'hanging-clothes', 'dish', 'alarm-clock', 'ski-lift', 'chain', 'garage', \n",
    "        'mechanical-shovel', 'wine-rack', 'tramway', 'treadmill', 'menu', 'block', 'well', \n",
    "        'witness-stand', 'branch', 'duck', 'casserole', 'frying-pan', 'desk-organizer', \n",
    "        'mast', 'spectacles', 'service-elevator', 'dollhouse', 'hammock', \n",
    "        'clothes-hanging', 'photocopier', 'notepad', 'golf-cart', 'footpath', 'cross', \n",
    "        'baptismal-font', 'boiler', 'skip', 'rotisserie', 'tables', 'water-mill', \n",
    "        'helmet', 'cover-curtain', 'brick', 'table-runner', 'ashtray', 'street-box', \n",
    "        'stick', 'hangers', 'cells', 'urinal', 'centerpiece', 'portable-fridge', 'dvds', \n",
    "        'golf-club', 'skirting-board', 'water-cooler', 'clipboard', 'camera', \n",
    "        'pigeonhole', 'chips', 'food-processor', 'post-box', 'lid', 'drum', 'blender', \n",
    "        'cave-entrance', 'dental-chair', 'obelisk', 'canoe', 'mobile', 'monitors', \n",
    "        'pool-ball', 'cue-rack', 'baggage-carts', 'shore', 'fork', 'paper-filer', \n",
    "        'bicycle-rack', 'coat-rack', 'garland', 'sports-bag', 'fish-tank', \n",
    "        'towel-dispenser', 'carriage', 'brochure', 'plaque', 'stringer', 'smoothing-iron', \n",
    "        'spoon', 'flag-pole', 'toilet-brush', 'book-stand', 'water-faucet', \n",
    "        'ticket-office', 'broom', 'dvd', 'ice-bucket', 'carapace', 'tureen', 'folders', \n",
    "        'chess', 'root', 'sewing-machine', 'model', 'pen', 'violin', 'sweatshirt', \n",
    "        'recycling-materials', 'mitten', 'chopping-board', 'mask', 'log', 'mouse', \n",
    "        'grill', 'hole', 'target', 'trash-bag', 'chalk', 'sticks', 'balloon', 'score', \n",
    "        'hair-spray', 'roll', 'runner', 'engine', 'inflatable-glove', 'games', \n",
    "        'pallets', 'baskets', 'coop', 'dvd-player', 'rocking-horse', 'buckets', \n",
    "        'bread-rolls', 'shawl', 'watering-can', 'spotlights', 'post-it', 'bowls', \n",
    "        'security-camera', 'runner-cloth', 'lock', 'alarm', 'side', 'roulette', 'bone', \n",
    "        'cutlery', 'pool-balls', 'wheels', 'spice-rack', 'plant-pots', 'towel-ring', \n",
    "        'bread-box', 'video', 'funfair', 'breads', 'tripod', 'ironing-board', 'skimmer', \n",
    "        'hollow', 'scratching-post', 'tricycle', 'file-box', 'mountain-pass', \n",
    "        'tombstones', 'cooker', 'card-game', 'golf-bag', 'towel-paper', 'chaise-lounge', \n",
    "        'sun', 'toilet-paper-holder', 'rake', 'key', 'umbrella-stand', 'dartboard', \n",
    "        'transformer', 'fireplace-utensils', 'sweatshirts', 'cellular-telephone', \n",
    "        'tallboy', 'stapler', 'sauna', 'test-tube', 'palette', 'shopping-carts', 'tools', \n",
    "        'push-button', 'star', 'roof-rack', 'barbed-wire', 'spray', 'ear', 'sponge', \n",
    "        'racket', 'tins', 'eyeglasses', 'file', 'scarfs', 'sugar-bowl', 'flip-flop', \n",
    "        'headstones', 'laptop-bag', 'leash', 'climbing-frame', 'suit-hanger', \n",
    "        'floor-spotlight', 'plate-rack', 'sewer', 'hard-drive', 'sprinkler', 'tools-box', \n",
    "        'necklace', 'bulbs', 'steel-industry', 'club', 'jack', 'door-bars', \n",
    "        'control-board', 'hairbrush', 'napkin-holder', 'office', 'smoke-detector', \n",
    "        'utensils', 'apron', 'scissors', 'terminal', 'grinder', 'entry-phone', \n",
    "        'newspaper-stand', 'pepper-shaker', 'onions', 'central-processing-unit', 'tape', \n",
    "        'bat', 'coaster', 'calculator', 'potatoes', 'luggage-rack', 'salt', \n",
    "        'street-number', 'viewpoint', 'sword', 'cd', 'rowing-machine', 'plug', 'andiron', \n",
    "        'pepper', 'tongs', 'bonfire', 'dog-dish', 'belt', 'dumbbells', \n",
    "        'videocassette-recorder', 'hook', 'envelopes', 'shower-faucet', 'watch', \n",
    "        'padlock', 'swimming-pool-ladder', 'spanners', 'gravy-boat', 'notice-board', \n",
    "        'trash-bags', 'fire-alarm', 'ladle', 'stethoscope', 'rocket', 'funnel', \n",
    "        'bowling-pins', 'valve', 'thermometer', 'cups', 'spice-jar', 'night-light', \n",
    "        'soaps', 'games-table', 'slotted-spoon', 'reel', 'scourer', 'sleeping-robe', \n",
    "        'desk-mat', 'dumbbell', 'hammer', 'tie', 'typewriter', 'shaker', 'cheese-dish', \n",
    "        'sea-star', 'racquet', 'butane-gas-cylinder', 'paper-weight', 'shaving-brush', \n",
    "        'sunglasses', 'gear-shift', 'towel-rail', 'adding-machine')"
   ]
  },
  {
   "cell_type": "code",
   "execution_count": 2,
   "metadata": {},
   "outputs": [],
   "source": [
    "in586 = {k: v.replace(\" \", \"-\") for k, v in in586.items()}\n",
    "import json\n",
    "json.dump(in586, open(\"IN585_classes.json\", \"w\"))"
   ]
  },
  {
   "cell_type": "code",
   "execution_count": 3,
   "metadata": {},
   "outputs": [
    {
     "data": {
      "text/plain": [
       "847"
      ]
     },
     "execution_count": 3,
     "metadata": {},
     "output_type": "execute_result"
    }
   ],
   "source": [
    "in586_cls = set(list(in586.values()))\n",
    "ade847_cls = set(ade847)\n",
    "len(ade847_cls)"
   ]
  },
  {
   "cell_type": "code",
   "execution_count": 4,
   "metadata": {},
   "outputs": [
    {
     "data": {
      "text/plain": [
       "585"
      ]
     },
     "execution_count": 4,
     "metadata": {},
     "output_type": "execute_result"
    }
   ],
   "source": [
    "len(ade847_cls & in586_cls)"
   ]
  },
  {
   "cell_type": "code",
   "execution_count": 5,
   "metadata": {},
   "outputs": [
    {
     "name": "stdout",
     "output_type": "stream",
     "text": [
      "'n02687172', 'n04296562', 'n03613294', 'n04526520', 'n01397114', 'n02747177', 'n09230041', \n",
      "'n03233905', 'n04429376', 'n04600486', 'n00442115', 'n03082979', 'n02912065', 'n04372370', \n",
      "'n04050066', 'n03403643', 'n00017222', 'n04450749', 'n03862676', 'n04299215', 'n03885535', \n",
      "'n00021265', 'n03262809', 'n03653583', 'n04532670', 'n04149813', 'n04533802', 'n04550184', \n",
      "'n04370456', 'n03720163', 'n04522168', 'n02686379', 'n02938886', 'n04460130', 'n03098959', \n",
      "'n02801938', 'n02733524', 'n03726760', 'n04230808', 'n12102133', 'n04027023', 'n04356056', \n",
      "'n03854065', 'n04359589', 'n04554684', 'n03841666', 'n04587559', 'n04209613', 'n04241394', \n",
      "'n03092883', 'n13104059', 'n04208936', 'n02814860', 'n04461879', 'n02778669', 'n08659446', \n",
      "'n02754103', 'n04606574', 'n04403638', 'n04141712', 'n02958343', 'n04507155', 'n03743902', \n",
      "'n03472535', 'n04254009', 'n09436444', 'n04376400', 'n03015254', 'n04373894', 'n00007846', \n",
      "'n08494231', 'n04233124', 'n03226880', 'n03512147', 'n02773037', 'n03376279', 'n03819994', \n",
      "'n13926786', 'n03390983', 'n03710193', 'n03255030', 'n02924116', 'n04254120', 'n02747802', \n",
      "'n03063338', 'n03100897', 'n13125117', 'n03220692', 'n03445617', 'n04560292', 'n04211356', \n",
      "'n03696301', 'n04326896', 'n02802215', 'n02121620', 'n03793489', 'n03413828', 'n03801760', \n",
      "'n03899768', 'n04465666', 'n04217882', 'n02694662', 'n03633091', 'n04499062', 'n03773035', \n",
      "'n02881193', 'n02836174', 'n04594489', 'n03378174', 'n02992529', 'n02951358', 'n03346455', \n",
      "'n03020416', 'n03699975', 'n02873520', 'n07735510', 'n09468604', 'n11508382', 'n03132076', \n",
      "'n04574999', 'n09376198', 'n02948557', 'n02827606', 'n03309808', 'n03101156', 'n03642806', \n",
      "'n02978753', 'n04101375', 'n03482252', 'n04488427', 'n03281145', 'n06470073', 'n03782006', \n",
      "'n03832673', 'n14844693', 'n03145522', 'n04469813', 'n02858304', 'n03073977', 'n03683341', \n",
      "'n04398044', 'n03960490', 'n04306847', 'n02824448', 'n04152593', 'n03417749', 'n04559451', \n",
      "'n03179701', 'n03320046', 'n04548362', 'n03623556', 'n04256520', 'n03122073', 'n09416076', \n",
      "'n02848921', 'n01503061', 'n03431243', 'n03797390', 'n04459362', 'n04040759', 'n03126707', \n",
      "'n02883344', 'n03222318', 'n03219483', 'n09309168', 'n04463679', 'n02846511', 'n04587648', \n",
      "'n04148579', 'n03933933', 'n04335886', 'n04138977', 'n02788021', 'n04488530', 'n03149135', \n",
      "'n03163222', 'n01514859', 'n02949542', 'n09308572', 'n07663899', 'n04202417', 'n03416489', \n",
      "'n03154073', 'n04570958', 'n03879456', 'n02932400', 'n04141838', 'n04335435', 'n02691156', \n",
      "'n03156279', 'n13908580', 'n04490091', 'n02863750', 'n03508101', 'n04379964', 'n04446276', \n",
      "'n03442756', 'n04561422', 'n02898711', 'n09432283', 'n03544360', 'n03061505', 'n04143897', \n",
      "'n04099969', 'n04303497', 'n03116530', 'n03035252', 'n03223553', 'n02732072', 'n03815615', \n",
      "'n04438897', 'n03543254', 'n09289331', 'n03733281', 'n03354903', 'n13085113', 'n14564779', \n",
      "'n04520170', 'n03457902', 'n03263076', 'n02699770', 'n04152387', 'n02317335', 'n02763901', \n",
      "'n03531546', 'n03619890', 'n03180969', 'n03394149', 'n04295881', 'n04413419', 'n03814906', \n",
      "'n02936714', 'n03887697', 'n04477219', 'n02769748', 'n02892201', 'n04350581', 'n04310507', \n",
      "'n03614007', 'n04520382', 'n04479694', 'n04118021', 'n03207941', 'n04314914', 'n04478657', \n",
      "'n03216828', 'n03610524', 'n02947818', 'n03467517', 'n03543603', 'n04533946', 'n02849154', \n",
      "'n03906997', 'n09233446', 'n03005285', 'n03775071', 'n03209666', 'n03992703', 'n04373704', \n",
      "'n04394261', 'n02920369', 'n03558176', 'n03063968', 'n03636248', 'n04411264', 'n02913152', \n",
      "'n04208427', 'n09304750', 'n03630262', 'n09437454', 'n03445924', 'n03585875', 'n03327234', \n",
      "'n04468005', 'n03273913', 'n04161358', 'n02951843', 'n03963645', 'n04190052', 'n03476991', \n",
      "'n03891332', 'n04341686', 'n03120491', 'n02694426', 'n04039381', 'n06277135', 'n06595351', \n",
      "'n03822171', 'n02374451', 'n03790230', 'n03064758', 'n03725035', 'n02874086', 'n03938244', \n",
      "'n03454536', 'n02797295', 'n02732827', 'n04097866', 'n03584829', 'n03345837', 'n03455488', \n",
      "'n04401088', 'n02882190', 'n03094503', 'n02975212', 'n02730930', 'n03160309', 'n03483316', \n",
      "'n04401680', 'n04229959', 'n04519153', 'n02835829', 'n04576002', 'n03151077', 'n00440039', \n",
      "'n03513137', 'n04476259', 'n04317833', 'n12582231', 'n03341153', 'n04392113', 'n04370048', \n",
      "'n04442312', 'n09303008', 'n02828884', 'n02696246', 'n03057021', 'n04153025', 'n03665924', \n",
      "'n03135532', 'n13133613', 'n02870880', 'n13869788', 'n02815950', 'n03384352', 'n04313503', \n",
      "'n04523525', 'n03452741', 'n02990373', 'n03288003', 'n02897820', 'n03593526', 'n04185946', \n",
      "'n02808440', 'n04096066', 'n03427296', 'n04395024', 'n04118635', 'n00445802', 'n04102406', \n",
      "'n03759954', 'n02909870', 'n03557360', 'n03612814', 'n07802026', 'n03388043', 'n04572935', \n",
      "'n03761084', 'n03727837', 'n02797692', 'n03547054', 'n02876657', 'n03316406', 'n03475581', \n",
      "'n04070727', 'n02788572', 'n02874214', 'n02885882', 'n04459773', 'n03249569', 'n04231693', \n",
      "'n03652932', 'n09270735', 'n02900705', 'n03588951', 'n02906734', 'n04125853', 'n13163991', \n",
      "'n03382292', 'n07813107', 'n03991062', 'n02728440', 'n02788148', 'n03325088', 'n03147509', \n",
      "'n04555897', 'n02699494', 'n08517676', 'n04393549', 'n04556948', 'n04485082', 'n06255613', \n",
      "'n04388743', 'n03982430', 'n01896844', 'n03432129', 'n04563413', 'n03595523', 'n04209509', \n",
      "'n04215402', 'n03914438', 'n02933112', 'n03481172', 'n04086446', 'n04562935', 'n09433442', \n",
      "'n03079230', 'n04505036', 'n15075141', 'n03984381', 'n03961939', 'n04286575', 'n03294048', \n",
      "'n03790512', 'n03059103', 'n03222722', 'n03343560', 'n04232800', 'n02968074', 'n11669921', \n",
      "'n03837869', 'n04330267', 'n03438257', 'n04467307', 'n03098140', 'n02795169', 'n07722217', \n",
      "'n03046257', 'n04074963', 'n15019030', 'n07557434', 'n02706806', 'n02715229', 'n03928116', \n",
      "'n02839110', 'n02998563', 'n09238926', 'n02908217', 'n04404997', 'n03497657', 'n03207743', \n",
      "'n02916179', 'n03765561', 'n13163553', 'n03016389', 'n04065789', 'n03950228', 'n03961711', \n",
      "'n04284002', 'n02933462', 'n03683606', 'n07565083', 'n02773838', 'n03691459', 'n04596492', \n",
      "'n04405907', 'n03207630', 'n06874185', 'n02512053', 'n04179913', 'n04051549', 'n13881644', \n",
      "'n03874599', 'n03425413', 'n09450163', 'n03518305', 'n04397452', 'n09246464', 'n02850732', \n",
      "'n03446070', 'n04451818', 'n03490884', 'n13134947', 'n03879705', 'n02977438', 'n02885462', \n",
      "'n07597365', 'n04061969', 'n03996416', 'n02733213', 'n04108268', 'n02955065', 'n04183329', \n",
      "'n04004475', 'n03400231', 'n07679356', 'n03343737', 'n04210390', 'n03758089', 'n02738535', \n",
      "'n02882647', 'n03282060', 'n02851099', 'n04194289', 'n02084071', 'n04197391', 'n13872592', \n",
      "'n13914265', 'n03211616', 'n02796623', 'n00015388', 'n04111531', 'n04023962', 'n02834778', \n",
      "'n03894379', 'n09335809', 'n04148054', 'n04525305', 'n02710044', 'n03704549', 'n04336792', \n",
      "'n03337140', 'n09436708', 'n09859684', 'n02999936', 'n03924679', 'n02789487', 'n03982232', \n",
      "'n02782093', 'n04482393', 'n03456024', 'n02870526', 'n03210683', 'n13869547', 'n03001627', \n",
      "'n03665366', 'n02969010', 'n03753077', 'n04047401', 'n13901321', 'n04090263', 'n04120842', \n",
      "'n03462747', 'n02966193', 'n04100174', 'n02849885', 'n09282208', 'n04590553', 'n04272054', \n",
      "'n07935504', 'n04255163', 'n04243941', 'n04188179', 'n03159640', 'n03430418', 'n04038440', \n",
      "'n02790823', 'n02948072', 'n03717447', 'n07710616', 'n02946921', 'n03125729', 'n03329302', \n",
      "'n04139395', 'n03484083', 'n04407686', 'n04009552', 'n04536866', 'n04559166', 'n04377057', \n",
      "'n03988170', 'n04186455', 'n04317175', 'n03870546', 'n04105068', 'n03188531', 'n03858418', \n",
      "'n09359803', 'n02818832', 'n04192238', 'n04478512', 'n04516672', 'n04099429', 'n04275175', \n",
      "'n03168217', 'n04204347', 'n04157320', 'n02766534', 'n02860415', 'n02705201', 'n03590306', \n",
      "'n03100346', 'n03042697', 'n04459909', 'n02950482', "
     ]
    }
   ],
   "source": [
    "for i, k in enumerate(list(in586.keys())):\n",
    "    print(f\"'{k}'\", end=\", \")\n",
    "    if (i+1) % 7 == 0:\n",
    "        print()"
   ]
  },
  {
   "cell_type": "code",
   "execution_count": 6,
   "metadata": {},
   "outputs": [
    {
     "name": "stdout",
     "output_type": "stream",
     "text": [
      "'aircraft-carrier', 'stage', 'key', 'vent', 'alga', 'ashcan', 'tunnel', \n",
      "'drawer', 'throne', 'workbench', 'swimming-pool', 'computer', 'buffet', 'switch', \n",
      "'rake', 'funnel', 'plant', 'tongs', 'oven', 'stall', 'pantry', \n",
      "'food', 'easel', 'lectern', 'viaduct', 'scoreboard', 'videocassette-recorder', 'wardrobe', \n",
      "'sweatshirt', 'map', 'vase', 'air-conditioner', 'calculator', 'tower', 'control-tower', \n",
      "'basket', 'arch', 'mast', 'skirt', 'grass', 'push-button', 'sunglasses', \n",
      "'organ', 'support', 'washer', 'office', 'windmill', 'shower-stall', 'flip-flop', \n",
      "'console-table', 'tree', 'shower', 'beacon', 'plaything', 'ball', 'field', \n",
      "'spray', 'spanners', 'telescope', 'scaffolding', 'car', 'umbrella', 'monument', \n",
      "'gym-shoe', 'soap-dish', 'ski-slope', 'synthesizer', 'chest-of-drawers', 'sword', 'person', \n",
      "'funfair', 'skyscraper', 'double-door', 'helicopter', 'bag', 'folders', 'net', \n",
      "'shoe', 'frame', 'postbox', 'dumbbells', 'bus', 'soap-dispenser', 'ashtray', \n",
      "'coffee-maker', 'conveyer-belt', 'root', 'dome', 'golf-bag', 'watering-can', 'shutter', \n",
      "'roof-rack', 'stool', 'sport-basket', 'cat', 'mouse', 'games', 'music-stand', \n",
      "'patio', 'tractor', 'signboard', 'alarm-clock', 'ladle', 'tureen', 'mirror', \n",
      "'bowl', 'bidet', 'wire', 'food-processor', 'cellular-telephone', 'canoe', 'fireplace', \n",
      "'chips', 'machine', 'boot', 'pumpkin', 'valley', 'snow', 'bat', \n",
      "'wheel', 'sea', 'candlestick', 'belt', 'table-cloth', 'cooker', 'laptop', \n",
      "'casserole', 'roll', 'hammock', 'trough', 'elevator-door', 'document', 'monitor', \n",
      "'notebook', 'dirt-track', 'cue', 'tramway', 'boat', 'column', 'lock', \n",
      "'teapot', 'plate', 'statue', 'bell', 'crt-screen', 'parterre', 'water-faucet', \n",
      "'desk', 'fan', 'wallet', 'knife', 'sofa', 'covered-bridge', 'rock', \n",
      "'dummy', 'bird', 'gear', 'mug', 'towel', 'radiator', 'crane', \n",
      "'box', 'door', 'dollhouse', 'ice-floe', 'railway', 'blackboard', 'windowpane', \n",
      "'sconce', 'pier', 'streetlight', 'saucepan', 'banner', 'trouser', 'curb', \n",
      "'dashboard', 'hen', 'canister', 'iceberg', 'patty', 'shop', 'garage', \n",
      "'cutlery', 'weighbridge', 'pallet', 'cabin', 'scale', 'streetcar', 'airplane', \n",
      "'butane-gas-cylinder', 'roulette', 'truck', 'boiler', 'heater', 'table', 'toilet', \n",
      "'goal', 'water-mill', 'bridge', 'carapace', 'house', 'cockpit', 'scarf', \n",
      "'rocking-chair', 'stapler', 'counter', 'big-top', 'street-number', 'aquarium', 'tie', \n",
      "'tins', 'hotplate', 'glacier', 'labyrinth', 'flag', 'weeds', 'wall', \n",
      "'van', 'greenhouse', 'eaves', 'altarpiece', 'folding-screen', 'sea-star', 'awning', \n",
      "'hood', 'kitchen-island', 'sprinkler', 'service-elevator', 'grandstand', 'terminal', 'necklace', \n",
      "'grille-door', 'paper-towel', 'treadmill', 'backpack', 'plaque', 'sugar-bowl', 'steam-shovel', \n",
      "'keyboard', 'caravan', 'trestle', 'rug', 'dishwasher', 'stairs', 'trench', \n",
      "'shipyard', 'kennel', 'candelabrum', 'guitar', 'hot-tub', 'dvds', 'blanket', \n",
      "'pen', 'canyon', 'chandelier', 'mitten', 'hard-drive', 'pottery', 'swivel-chair', \n",
      "'target', 'sand-trap', 'ice', 'coffee-table', 'lamp', 'tent', 'building', \n",
      "'shovel', 'hole', 'lab-bench', 'side', 'golf-cart', 'ironing-board', 'fence', \n",
      "'train', 'portable-fridge', 'seat', 'canopy', 'playground', 'shelf', 'hair-spray', \n",
      "'parking-meter', 'structure', 'court', 'alarm', 'racket', 'radio', 'magazine', \n",
      "'newspaper', 'horse', 'motorboat', 'coffin', 'mask', 'booth', 'cushion', \n",
      "'grating', 'wheelbarrow', 'pergola', 'sleeping-robe', 'smoothing-iron', 'fire-extinguisher', 'gravestone', \n",
      "'telephone', 'bowling-alley', 'container', 'case', 'apron', 'dam', 'hair-dryer', \n",
      "'telephone-booth', 'skimmer', 'valve', 'bicycle-rack', 'wheelchair', 'curtain', 'track', \n",
      "'helmet', 'tray', 'stick', 'palm', 'finger', 'tape', 'sweater', \n",
      "'toaster', 'hill', 'bench', 'alembic', 'coat', 'screen-door', 'light-bulb', \n",
      "'cross', 'ear', 'bookcase', 'envelopes', 'beam', 'forklift', 'steering-wheel', \n",
      "'vault', 'grand-piano', 'ceiling', 'engine', 'brick', 'jar', 'shaving-brush', \n",
      "'bathtub', 'road', 'gate', 'tarp', 'ruins', 'boxing-ring', 'roller-coaster', \n",
      "'microphone', 'bucket', 'ice-hockey-rink', 'kettle', 'hay', 'fountain', 'well', \n",
      "'microwave', 'place-mat', 'base', 'hovel', 'bottle', 'mill', 'hairbrush', \n",
      "'refrigerator', 'baptismal-font', 'confessional-booth', 'box-office', 'towel-rack', 'drum', 'ski-lift', \n",
      "'leash', 'sand-dune', 'briefcase', 'jack', 'broom', 'safety-belt', 'branch', \n",
      "'forecourt', 'salt', 'pot', 'apparel', 'bannister', 'faucet', 'cup', \n",
      "'watch', 'altar', 'bus-stop', 'tapestry', 'watchtower', 'tripod', 'paper', \n",
      "'tank', 'pool-table', 'eiderdown', 'gear-shift', 'water-wheel', 'jersey', 'shower-room', \n",
      "'sidewalk', 'pepper-shaker', 'cabinet', 'hammer', 'revolving-door', 'water-tower', 'shore', \n",
      "'cds', 'typewriter', 'toilet-tissue', 'porch', 'catwalk', 'spotlight', 'equipment', \n",
      "'minibike', 'coat-rack', 'doorframe', 'bonfire', 'skylight', 'carport', 'flower', \n",
      "'obelisk', 'stove', 'drinking-glass', 'trailer', 'controls', 'barrel', 'onions', \n",
      "'clock', 'remote-control', 'sand', 'dog-dish', 'arcade-machine', 'antenna', 'piano', \n",
      "'billboard', 'sink', 'tomb', 'brush', 'television-camera', 'hat', 'dishrag', \n",
      "'bulldozer', 'grinder', 'trunk', 'henhouse', 'recycling-bin', 'pitcher', 'plate-rack', \n",
      "'spoon', 'locker', 'lockers', 'menu', 'laptop-bag', 'loudspeaker', 'witness-stand', \n",
      "'television-receiver', 'dish-rack', 'traffic-light', 'fish', 'sewing-machine', 'ramp', 'star', \n",
      "'padlock', 'gas-pump', 'sun', 'tallboy', 'teacup', 'cliff', 'blender', \n",
      "'golf-club', 'tools', 'hanger', 'fruit', 'palette', 'cash-register', 'inflatable-glove', \n",
      "'candy', 'niche', 'excavator', 'arcade', 'rope', 'cap', 'shaker', \n",
      "'printer', 'frying-pan', 'bread', 'fire-alarm', 'shrine', 'mezzanine', 'armchair', \n",
      "'bowling-pins', 'embankment', 'blind', 'ship', 'dog', 'shirt', 'traffic-cone', \n",
      "'fork', 'board', 'barrier', 'animal', 'barbecue', 'punching-bag', 'bicycle', \n",
      "'partition', 'rubbish', 'scissors', 'vending-machine', 'andiron', 'magazine-rack', 'stretcher', \n",
      "'file-cabinet', 'sky', 'bleachers', 'chain', 'photocopier', 'bar', 'pool-ball', \n",
      "'balloon', 'tricycle', 'gravy-boat', 'book', 'towel-dispenser', 'hook', 'chair', \n",
      "'light', 'carriage', 'meter', 'railing', 'pipe', 'rifle', 'runway', \n",
      "'earth', 'carousel', 'rod', 'blast-furnace', 'floor', 'windshield', 'spectacles', \n",
      "'water', 'wall-socket', 'slot-machine', 'sheet', 'podium', 'gazebo', 'exhibitor', \n",
      "'barbed-wire', 'candle', 'manhole', 'potatoes', 'can', 'cradle', 'ferris-wheel', \n",
      "'sauna', 'cart', 'temple', 'projector', 'violin', 'water-cooler', 'system', \n",
      "'pole', 'shawl', 'stethoscope', 'pack', 'roof', 'napkin', 'ottoman', \n",
      "'mountain', 'bed', 'shelter', 'trellis', 'fireplace-utensils', 'rocket', 'spice-rack', \n",
      "'deck-chair', 'shopping-carts', 'sculpture', 'baby-buggy', 'reel', 'amphitheater', 'jacket', \n",
      "'sofa-bed', 'climbing-frame', 'towel-rail', 'cannon', "
     ]
    }
   ],
   "source": [
    "for i, k in enumerate(list(in586.values())):\n",
    "    print(f\"'{k}'\", end=\", \")\n",
    "    if (i+1) % 7 == 0:\n",
    "        print()"
   ]
  },
  {
   "cell_type": "code",
   "execution_count": 7,
   "metadata": {},
   "outputs": [],
   "source": [
    "COCO = [\n",
    "    'person', 'bicycle', 'car', 'motorcycle', 'airplane', 'bus', 'train',\n",
    "    'truck', 'boat', 'traffic light', 'fire hydrant', 'stop sign',\n",
    "    'parking meter', 'bench', 'bird', 'cat', 'dog', 'horse', 'sheep',\n",
    "    'cow', 'elephant', 'bear', 'zebra', 'giraffe', 'backpack', 'umbrella',\n",
    "    'handbag', 'tie', 'suitcase', 'frisbee', 'skis', 'snowboard',\n",
    "    'sports ball', 'kite', 'baseball bat', 'baseball glove', 'skateboard',\n",
    "    'surfboard', 'tennis racket', 'bottle', 'wine glass', 'cup', 'fork',\n",
    "    'knife', 'spoon', 'bowl', 'banana', 'apple', 'sandwich', 'orange',\n",
    "    'broccoli', 'carrot', 'hot dog', 'pizza', 'donut', 'cake', 'chair',\n",
    "    'couch', 'potted plant', 'bed', 'dining table', 'toilet', 'tv',\n",
    "    'laptop', 'mouse', 'remote', 'keyboard', 'cell phone', 'microwave',\n",
    "    'oven', 'toaster', 'sink', 'refrigerator', 'book', 'clock', 'vase',\n",
    "    'scissors', 'teddy bear', 'hair drier', 'toothbrush', 'banner',\n",
    "    'blanket', 'branch', 'bridge', 'building-other', 'bush', 'cabinet',\n",
    "    'cage', 'cardboard', 'carpet', 'ceiling-other', 'ceiling-tile',\n",
    "    'cloth', 'clothes', 'clouds', 'counter', 'cupboard', 'curtain',\n",
    "    'desk-stuff', 'dirt', 'door-stuff', 'fence', 'floor-marble',\n",
    "    'floor-other', 'floor-stone', 'floor-tile', 'floor-wood',\n",
    "    'flower', 'fog', 'food-other', 'fruit', 'furniture-other', 'grass',\n",
    "    'gravel', 'ground-other', 'hill', 'house', 'leaves', 'light', 'mat',\n",
    "    'metal', 'mirror-stuff', 'moss', 'mountain', 'mud', 'napkin', 'net',\n",
    "    'paper', 'pavement', 'pillow', 'plant-other', 'plastic', 'platform',\n",
    "    'playingfield', 'railing', 'railroad', 'river', 'road', 'rock', 'roof',\n",
    "    'rug', 'salad', 'sand', 'sea', 'shelf', 'sky-other', 'skyscraper',\n",
    "    'snow', 'solid-other', 'stairs', 'stone', 'straw', 'structural-other',\n",
    "    'table', 'tent', 'textile-other', 'towel', 'tree', 'vegetable',\n",
    "    'wall-brick', 'wall-concrete', 'wall-other', 'wall-panel',\n",
    "    'wall-stone', 'wall-tile', 'wall-wood', 'water-other', 'waterdrops',\n",
    "    'window-blind', 'window-other', 'wood'\n",
    "]\n",
    "\n",
    "processed_coco = [x.split(\"-\")[0] for x in COCO]\n",
    "cls_586 = list(in586.values())\n",
    "all_cls = list(set(cls_586) | set(processed_coco))\n",
    "import json\n",
    "json.dump(all_cls, open(\"ade585ucoco.json\", \"w\"))"
   ]
  },
  {
   "cell_type": "code",
   "execution_count": 8,
   "metadata": {},
   "outputs": [
    {
     "data": {
      "text/plain": [
       "686"
      ]
     },
     "execution_count": 8,
     "metadata": {},
     "output_type": "execute_result"
    }
   ],
   "source": [
    "len(all_cls)"
   ]
  },
  {
   "cell_type": "code",
   "execution_count": 9,
   "metadata": {},
   "outputs": [],
   "source": [
    "import json\n",
    "in21k_image_dict = json.load(open(\"/mnt/haojun/itpsea4data/mmseg/notebook/nips_version/in21k_image_dict.json\"))\n",
    "img_num = {}\n",
    "for k in in586:\n",
    "    if k in in21k_image_dict:\n",
    "        img_num[k] = len(in21k_image_dict[k])\n",
    "    else:\n",
    "        print(k)"
   ]
  },
  {
   "cell_type": "code",
   "execution_count": 12,
   "metadata": {},
   "outputs": [
    {
     "name": "stderr",
     "output_type": "stream",
     "text": [
      "100%|██████████| 585/585 [00:00<00:00, 632.26it/s]\n"
     ]
    }
   ],
   "source": [
    "in586_ = {}\n",
    "for k, v in in586.items():\n",
    "    if v in in586_ and len(in21k_image_dict[in586_[v]]) >= len(in21k_image_dict[k]):\n",
    "        continue\n",
    "    in586_[v] = k\n",
    "import os\n",
    "from tqdm import tqdm\n",
    "with open(\"/mnt/haojun/itpsea4data/dataset/imagenet22k_azcopy/ImageNet585.txt\", \"w\") as f:\n",
    "    for k, v in tqdm(in586_.items()):\n",
    "        for img in in21k_image_dict[v]:\n",
    "            img_cls = img.split(\"_\")[0]\n",
    "            # if not os.path.exists(img):\n",
    "            #     print(img, \"not EXIST\")\n",
    "            print(img.split(\"/\")[-1].rstrip(\".JPEG\"), file=f)"
   ]
  },
  {
   "cell_type": "code",
   "execution_count": null,
   "metadata": {},
   "outputs": [],
   "source": []
  },
  {
   "cell_type": "markdown",
   "metadata": {},
   "source": [
    "# Debug"
   ]
  },
  {
   "cell_type": "code",
   "execution_count": 1,
   "metadata": {},
   "outputs": [
    {
     "name": "stdout",
     "output_type": "stream",
     "text": [
      "[-1  0  1  2  3  4 12 16]\n"
     ]
    }
   ],
   "source": [
    "from glob import glob\n",
    "from PIL import Image\n",
    "import numpy as np\n",
    "\n",
    "ann_files = glob(\"/mnt/haojun/itpsea4data/dataset/ADE20K_2021_17_01/annotations_detectron2/validation/*.tif\")\n",
    "for ann_file in ann_files:\n",
    "    ann = np.array(Image.open(ann_file)).astype(np.int16)\n",
    "    print(np.unique(ann))\n",
    "    break\n",
    "# 12 => 39"
   ]
  },
  {
   "cell_type": "code",
   "execution_count": null,
   "metadata": {},
   "outputs": [],
   "source": []
  },
  {
   "cell_type": "code",
   "execution_count": null,
   "metadata": {},
   "outputs": [],
   "source": []
  },
  {
   "cell_type": "code",
   "execution_count": null,
   "metadata": {},
   "outputs": [],
   "source": []
  },
  {
   "cell_type": "code",
   "execution_count": null,
   "metadata": {},
   "outputs": [],
   "source": []
  },
  {
   "cell_type": "code",
   "execution_count": null,
   "metadata": {},
   "outputs": [],
   "source": []
  },
  {
   "cell_type": "code",
   "execution_count": null,
   "metadata": {},
   "outputs": [],
   "source": []
  },
  {
   "cell_type": "code",
   "execution_count": null,
   "metadata": {},
   "outputs": [],
   "source": []
  },
  {
   "cell_type": "code",
   "execution_count": null,
   "metadata": {},
   "outputs": [],
   "source": []
  },
  {
   "cell_type": "code",
   "execution_count": null,
   "metadata": {},
   "outputs": [],
   "source": []
  }
 ],
 "metadata": {
  "kernelspec": {
   "display_name": "Python 3.8.13 ('openseg')",
   "language": "python",
   "name": "python3"
  },
  "language_info": {
   "codemirror_mode": {
    "name": "ipython",
    "version": 3
   },
   "file_extension": ".py",
   "mimetype": "text/x-python",
   "name": "python",
   "nbconvert_exporter": "python",
   "pygments_lexer": "ipython3",
   "version": "3.8.13"
  },
  "orig_nbformat": 4,
  "vscode": {
   "interpreter": {
    "hash": "eb1b0331be7fe2a4d3bed66587d9247426bb7c92ddb75f50ff73b13b9866312b"
   }
  }
 },
 "nbformat": 4,
 "nbformat_minor": 2
}
