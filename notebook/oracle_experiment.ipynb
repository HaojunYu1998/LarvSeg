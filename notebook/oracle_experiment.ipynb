{
 "cells": [
  {
   "cell_type": "markdown",
   "metadata": {},
   "source": [
    "# Oracle Experiment\n",
    "\n",
    "\n",
    "### ADE150"
   ]
  },
  {
   "cell_type": "code",
   "execution_count": 1,
   "metadata": {},
   "outputs": [
    {
     "data": {
      "text/plain": [
       "(92, 58)"
      ]
     },
     "execution_count": 1,
     "metadata": {},
     "output_type": "execute_result"
    }
   ],
   "source": [
    "unseen = \"crt screen, bar, kitchen island, barrel, poster, windowpane, cradle, washer, conveyer belt, tank, plate, tray, earth, wardrobe, ashcan, land, buffet, seat, ship, lake, bag, lamp, awning, screen, fountain, hood, bannister, arcade machine, stairway, waterfall, trade name, grandstand, blind, swimming pool, step, pool table, stool, monitor, path, countertop, booth, bathtub, radiator, tower, escalator, signboard, coffee table, swivel chair, sconce, sculpture, fan, stove, fireplace, bulletin board, television receiver, field, box, pole, cushion, flag, basket, van, column, chandelier, stage, case, sofa, chest of drawers, shower, painting, streetlight, dishwasher, plaything, armchair, bookcase, screen door, runway, base, ottoman, dirt track, computer, pier, pot, minibike, palm, glass, ball, sidewalk, apparel, animal, canopy, hovel\".split(\",\")\n",
    "\n",
    "seen = \"cabinet, mirror, oven, tent, person, table, fence, grass, book, shelf, house, water, airplane, refrigerator, desk, sand, bottle, chair, pillow, bridge, towel, bed, clock, ceiling, wall, plant, stairs, bus, road, blanket, mountain, railing, light, food, bicycle, car, door, bench, boat, curtain, skyscraper, truck, sky, river, sea, traffic light, tree, building, vase, rug, counter, flower, floor, hill, rock, toilet, sink, microwave\".split(\",\")\n",
    "\n",
    "unseen = [x.strip() for x in unseen]\n",
    "seen = [x.strip() for x in seen]\n",
    "len(unseen), len(seen)"
   ]
  },
  {
   "cell_type": "code",
   "execution_count": 2,
   "metadata": {},
   "outputs": [],
   "source": [
    "def _log(files):\n",
    "    import numpy as np\n",
    "    seen_mious, seen_maccs = [], []\n",
    "    unseen_mious, unseen_maccs = [], []\n",
    "    for file in files:\n",
    "        with open(file) as f:\n",
    "            metrics = f.readlines()\n",
    "        metrics = [x.strip() for x in metrics]\n",
    "        st = metrics.index(\"|        Class        |  IoU  |  Acc  |\")\n",
    "        metrics = metrics[st+2:st+152]\n",
    "        ious = {}\n",
    "        accs = {}\n",
    "        for i in range(len(metrics)):\n",
    "            k, iou, acc = metrics[i].split(\"|\")[1:-1]\n",
    "            ious[k.strip()] = float(iou.strip())\n",
    "            accs[k.strip()] = float(acc.strip())\n",
    "        ious_seen = {k: v for k, v in ious.items() if k in seen}\n",
    "        ious_unseen = {k: v for k, v in ious.items() if k in unseen}\n",
    "        accs_seen = {k: v for k, v in accs.items() if k in seen}\n",
    "        accs_unseen = {k: v for k, v in accs.items() if k in unseen}\n",
    "        seen_mious.append(np.mean(list(ious_seen.values())))\n",
    "        unseen_mious.append(np.mean(list(ious_unseen.values())))\n",
    "        seen_maccs.append(np.mean(list(accs_seen.values())))\n",
    "        unseen_maccs.append(np.mean(list(accs_unseen.values())))\n",
    "    print(f\"seen: mIoU {np.mean(seen_mious):.2f} {np.std(seen_mious):.2f}, mAcc {np.mean(seen_maccs):.2f} {np.std(seen_maccs):.2f}\")\n",
    "    print(f\"unseen: mIoU {np.mean(unseen_mious):.2f} {np.std(unseen_mious):.2f}, mAcc {np.mean(unseen_maccs):.2f} {np.std(unseen_maccs):.2f}\")"
   ]
  },
  {
   "cell_type": "code",
   "execution_count": 3,
   "metadata": {},
   "outputs": [
    {
     "name": "stdout",
     "output_type": "stream",
     "text": [
      "seen: mIoU 54.68 0.54, mAcc 79.38 0.48\n",
      "unseen: mIoU 46.96 0.29, mAcc 77.04 0.14\n"
     ]
    }
   ],
   "source": [
    "files = [\n",
    "    \"/mnt/haojun/itpsea4data/mmseg/prop3_mb_ade150_v1.txt\",\n",
    "    \"/mnt/haojun/itpsea4data/mmseg/prop3_mb_ade150_v2.txt\",\n",
    "    \"/mnt/haojun/itpsea4data/mmseg/prop3_mb_ade150_v3.txt\",\n",
    "    \"/mnt/haojun/itpsea4data/mmseg/prop3_mb_ade150_v4.txt\",\n",
    "    \"/mnt/haojun/itpsea4data/mmseg/prop3_mb_ade150_v5.txt\"\n",
    "]\n",
    "_log(files)"
   ]
  },
  {
   "cell_type": "code",
   "execution_count": null,
   "metadata": {},
   "outputs": [],
   "source": [
    "# bash tools/dist_test.sh \\\n",
    "# configs/segmenter/evaluation/baseline_no_attn_eval_ade_oracle1.py \\\n",
    "# work_dirs/202209228_baseline_no_attn_cosine_160k_bs16_coco/iter_160000.pth \\\n",
    "# 4 \\\n",
    "# --eval mIoU > cos1.txt"
   ]
  },
  {
   "cell_type": "markdown",
   "metadata": {},
   "source": [
    "### ADE847"
   ]
  },
  {
   "cell_type": "code",
   "execution_count": 10,
   "metadata": {},
   "outputs": [
    {
     "data": {
      "text/plain": [
       "(847, 171, 80, 757, 928)"
      ]
     },
     "execution_count": 10,
     "metadata": {},
     "output_type": "execute_result"
    }
   ],
   "source": [
    "ADEFull = [\n",
    "    'wall', 'building', 'sky', 'tree', 'road', 'floor', 'ceiling', 'bed', \n",
    "    'sidewalk', 'earth', 'cabinet', 'person', 'grass', 'windowpane', 'car', \n",
    "    'mountain', 'plant', 'table', 'chair', 'curtain', 'door', 'sofa', 'sea', \n",
    "    'painting', 'water', 'mirror', 'house', 'rug', 'shelf', 'armchair', \n",
    "    'fence', 'field', 'lamp', 'rock', 'seat', 'river', 'desk', 'bathtub', \n",
    "    'railing', 'signboard', 'cushion', 'path', 'work-surface', 'stairs', \n",
    "    'column', 'sink', 'wardrobe', 'snow', 'refrigerator', 'base', 'bridge', \n",
    "    'blind', 'runway', 'cliff', 'sand', 'fireplace', 'pillow', 'screen-door', \n",
    "    'toilet', 'skyscraper', 'grandstand', 'box', 'pool-table', 'palm', \n",
    "    'double-door', 'coffee-table', 'counter', 'countertop', 'chest-of-drawers', \n",
    "    'kitchen-island', 'boat', 'waterfall', 'stove', 'flower', 'bookcase', \n",
    "    'controls', 'book', 'stairway', 'streetlight', 'computer', 'bus', \n",
    "    'swivel-chair', 'light', 'bench', 'case', 'towel', 'fountain', 'embankment', \n",
    "    'television-receiver', 'van', 'hill', 'awning', 'poster', 'truck', \n",
    "    'airplane', 'pole', 'tower', 'court', 'ball', 'aircraft-carrier', 'buffet', \n",
    "    'hovel', 'apparel', 'minibike', 'animal', 'chandelier', 'step', 'booth', \n",
    "    'bicycle', 'doorframe', 'sconce', 'pond', 'trade-name', 'bannister', 'bag', \n",
    "    'traffic-light', 'gazebo', 'escalator', 'land', 'board', 'arcade-machine', \n",
    "    'eiderdown', 'bar', 'stall', 'playground', 'ship', 'ottoman', 'ashcan', \n",
    "    'bottle', 'cradle', 'pot', 'conveyer-belt', 'train', 'stool', 'lake', \n",
    "    'tank', 'ice', 'basket', 'manhole', 'tent', 'canopy', 'microwave', 'barrel', \n",
    "    'dirt-track', 'beam', 'dishwasher', 'plate', 'screen', 'ruins', 'washer', \n",
    "    'blanket', 'plaything', 'food', 'screen', 'oven', 'stage', 'beacon', \n",
    "    'umbrella', 'sculpture', 'aqueduct', 'container', 'scaffolding', 'hood', \n",
    "    'curb', 'roller-coaster', 'horse', 'catwalk', 'glass', 'vase', \n",
    "    'central-reservation', 'carousel', 'radiator', 'closet', 'machine', 'pier', \n",
    "    'fan', 'inflatable-bounce-game', 'pitch', 'paper', 'arcade', 'hot-tub', \n",
    "    'helicopter', 'tray', 'partition', 'vineyard', 'bowl', 'bullring', 'flag', \n",
    "    'pot', 'footbridge', 'shower', 'bag', 'bulletin-board', 'confessional-booth', \n",
    "    'trunk', 'forest', 'elevator-door', 'laptop', 'instrument-panel', 'bucket', \n",
    "    'tapestry', 'platform', 'jacket', 'gate', 'monitor', 'telephone-booth', \n",
    "    'spotlight', 'ring', 'control-panel', 'blackboard', 'air-conditioner', \n",
    "    'chest', 'clock', 'sand-dune', 'pipe', 'vault', 'table-football', 'cannon', \n",
    "    'swimming-pool', 'fluorescent', 'statue', 'loudspeaker', 'exhibitor', \n",
    "    'ladder', 'carport', 'dam', 'pulpit', 'skylight', 'water-tower', 'grill', \n",
    "    'display-board', 'pane', 'rubbish', 'ice-rink', 'fruit', 'patio', \n",
    "    'vending-machine', 'telephone', 'net', 'backpack', 'jar', 'track', \n",
    "    'magazine', 'shutter', 'roof', 'banner', 'landfill', 'post', 'altarpiece', \n",
    "    'hat', 'arch', 'table-game', 'bag', 'document', 'dome', 'pier', 'shanties', \n",
    "    'forecourt', 'crane', 'dog', 'piano', 'drawing', 'cabin', 'ad', 'amphitheater', \n",
    "    'monument', 'henhouse', 'cockpit', 'heater', 'windmill', 'pool', 'elevator', \n",
    "    'decoration', 'labyrinth', 'text', 'printer', 'mezzanine', 'mattress', 'straw', \n",
    "    'stalls', 'patio', 'billboard', 'bus-stop', 'trouser', 'console-table', 'rack', \n",
    "    'notebook', 'shrine', 'pantry', 'cart', 'steam-shovel', 'porch', 'postbox', \n",
    "    'figurine', 'recycling-bin', 'folding-screen', 'telescope', 'deck-chair', \n",
    "    'kennel', 'coffee-maker', 'altar', 'fish', 'easel', 'artificial-golf-green', \n",
    "    'iceberg', 'candlestick', 'shower-stall', 'television-stand', 'wall-socket', \n",
    "    'skeleton', 'grand-piano', 'candy', 'grille-door', 'pedestal', 'jersey', \n",
    "    'shoe', 'gravestone', 'shanty', 'structure', 'rocking-chair', 'bird', \n",
    "    'place-mat', 'tomb', 'big-top', 'gas-pump', 'lockers', 'cage', 'finger', \n",
    "    'bleachers', 'ferris-wheel', 'hairdresser-chair', 'mat', 'stands', 'aquarium', \n",
    "    'streetcar', 'napkin', 'dummy', 'booklet', 'sand-trap', 'shop', 'table-cloth', \n",
    "    'service-station', 'coffin', 'drawer', 'cages', 'slot-machine', 'balcony', \n",
    "    'volleyball-court', 'table-tennis', 'control-table', 'shirt', 'merchandise', \n",
    "    'railway', 'parterre', 'chimney', 'can', 'tanks', 'fabric', 'alga', 'system', \n",
    "    'map', 'greenhouse', 'mug', 'barbecue', 'trailer', 'toilet-tissue', 'organ', \n",
    "    'dishrag', 'island', 'keyboard', 'trench', 'basket', 'steering-wheel', 'pitcher', \n",
    "    'goal', 'bread', 'beds', 'wood', 'file-cabinet', 'newspaper', 'motorboat', \n",
    "    'rope', 'guitar', 'rubble', 'scarf', 'barrels', 'cap', 'leaves', 'control-tower', \n",
    "    'dashboard', 'bandstand', 'lectern', 'switch', 'baseboard', 'shower-room', \n",
    "    'smoke', 'faucet', 'bulldozer', 'saucepan', 'shops', 'meter', 'crevasse', 'gear', \n",
    "    'candelabrum', 'sofa-bed', 'tunnel', 'pallet', 'wire', 'kettle', 'bidet', \n",
    "    'baby-buggy', 'music-stand', 'pipe', 'cup', 'parking-meter', 'ice-hockey-rink', \n",
    "    'shelter', 'weeds', 'temple', 'patty', 'ski-slope', 'panel', 'wallet', 'wheel', \n",
    "    'towel-rack', 'roundabout', 'canister', 'rod', 'soap-dispenser', 'bell', \n",
    "    'canvas', 'box-office', 'teacup', 'trellis', 'workbench', 'valley', 'toaster', \n",
    "    'knife', 'podium', 'ramp', 'tumble-dryer', 'fireplug', 'gym-shoe', 'lab-bench', \n",
    "    'equipment', 'rocky-formation', 'plastic', 'calendar', 'caravan', \n",
    "    'check-in-desk', 'ticket-counter', 'brush', 'mill', 'covered-bridge', \n",
    "    'bowling-alley', 'hanger', 'excavator', 'trestle', 'revolving-door', \n",
    "    'blast-furnace', 'scale', 'projector', 'soap', 'locker', 'tractor', 'stretcher', \n",
    "    'frame', 'grating', 'alembic', 'candle', 'barrier', 'cardboard', 'cave', 'puddle', \n",
    "    'tarp', 'price-tag', 'watchtower', 'meters', 'light-bulb', 'tracks', 'hair-dryer', \n",
    "    'skirt', 'viaduct', 'paper-towel', 'coat', 'sheet', 'fire-extinguisher', \n",
    "    'water-wheel', 'pottery', 'magazine-rack', 'teapot', 'microphone', 'support', \n",
    "    'forklift', 'canyon', 'cash-register', 'leaf', 'remote-control', 'soap-dish', \n",
    "    'windshield', 'cat', 'cue', 'vent', 'videos', 'shovel', 'eaves', 'antenna', \n",
    "    'shipyard', 'hen', 'traffic-cone', 'washing-machines', 'truck-crane', 'cds', \n",
    "    'niche', 'scoreboard', 'briefcase', 'boot', 'sweater', 'hay', 'pack', \n",
    "    'bottle-rack', 'glacier', 'pergola', 'building-materials', 'television-camera', \n",
    "    'first-floor', 'rifle', 'tennis-table', 'stadium', 'safety-belt', 'cover', \n",
    "    'dish-rack', 'synthesizer', 'pumpkin', 'gutter', 'fruit-stand', 'ice-floe', \n",
    "    'handle', 'wheelchair', 'mousepad', 'diploma', 'fairground-ride', 'radio', \n",
    "    'hotplate', 'junk', 'wheelbarrow', 'stream', 'toll-plaza', 'punching-bag', \n",
    "    'trough', 'throne', 'chair-desk', 'weighbridge', 'extractor-fan', \n",
    "    'hanging-clothes', 'dish', 'alarm-clock', 'ski-lift', 'chain', 'garage', \n",
    "    'mechanical-shovel', 'wine-rack', 'tramway', 'treadmill', 'menu', 'block', 'well', \n",
    "    'witness-stand', 'branch', 'duck', 'casserole', 'frying-pan', 'desk-organizer', \n",
    "    'mast', 'spectacles', 'service-elevator', 'dollhouse', 'hammock', \n",
    "    'clothes-hanging', 'photocopier', 'notepad', 'golf-cart', 'footpath', 'cross', \n",
    "    'baptismal-font', 'boiler', 'skip', 'rotisserie', 'tables', 'water-mill', \n",
    "    'helmet', 'cover-curtain', 'brick', 'table-runner', 'ashtray', 'street-box', \n",
    "    'stick', 'hangers', 'cells', 'urinal', 'centerpiece', 'portable-fridge', 'dvds', \n",
    "    'golf-club', 'skirting-board', 'water-cooler', 'clipboard', 'camera', \n",
    "    'pigeonhole', 'chips', 'food-processor', 'post-box', 'lid', 'drum', 'blender', \n",
    "    'cave-entrance', 'dental-chair', 'obelisk', 'canoe', 'mobile', 'monitors', \n",
    "    'pool-ball', 'cue-rack', 'baggage-carts', 'shore', 'fork', 'paper-filer', \n",
    "    'bicycle-rack', 'coat-rack', 'garland', 'sports-bag', 'fish-tank', \n",
    "    'towel-dispenser', 'carriage', 'brochure', 'plaque', 'stringer', 'iron', \n",
    "    'spoon', 'flag-pole', 'toilet-brush', 'book-stand', 'water-faucet', \n",
    "    'ticket-office', 'broom', 'dvd', 'ice-bucket', 'carapace', 'tureen', 'folders', \n",
    "    'chess', 'root', 'sewing-machine', 'model', 'pen', 'violin', 'sweatshirt', \n",
    "    'recycling-materials', 'mitten', 'chopping-board', 'mask', 'log', 'mouse', \n",
    "    'grill', 'hole', 'target', 'trash-bag', 'chalk', 'sticks', 'balloon', 'score', \n",
    "    'hair-spray', 'roll', 'runner', 'engine', 'inflatable-glove', 'games', \n",
    "    'pallets', 'baskets', 'coop', 'dvd-player', 'rocking-horse', 'buckets', \n",
    "    'bread-rolls', 'shawl', 'watering-can', 'spotlights', 'post-it', 'bowls', \n",
    "    'security-camera', 'runner-cloth', 'lock', 'alarm', 'side', 'roulette', 'bone', \n",
    "    'cutlery', 'pool-balls', 'wheels', 'spice-rack', 'plant-pots', 'towel-ring', \n",
    "    'bread-box', 'video', 'funfair', 'breads', 'tripod', 'ironing-board', 'skimmer', \n",
    "    'hollow', 'scratching-post', 'tricycle', 'file-box', 'mountain-pass', \n",
    "    'tombstones', 'cooker', 'card-game', 'golf-bag', 'towel-paper', 'chaise-lounge', \n",
    "    'sun', 'toilet-paper-holder', 'rake', 'key', 'umbrella-stand', 'dartboard', \n",
    "    'transformer', 'fireplace-utensils', 'sweatshirts', 'cellular-telephone', \n",
    "    'tallboy', 'stapler', 'sauna', 'test-tube', 'palette', 'shopping-carts', 'tools', \n",
    "    'push-button', 'star', 'roof-rack', 'barbed-wire', 'spray', 'ear', 'sponge', \n",
    "    'racket', 'tins', 'eyeglasses', 'file', 'scarfs', 'sugar-bowl', 'flip-flop', \n",
    "    'headstones', 'laptop-bag', 'leash', 'climbing-frame', 'suit-hanger', \n",
    "    'floor-spotlight', 'plate-rack', 'sewer', 'hard-drive', 'sprinkler', 'tools-box', \n",
    "    'necklace', 'bulbs', 'steel-industry', 'club', 'jack', 'door-bars', \n",
    "    'control-panel', 'hairbrush', 'napkin-holder', 'office', 'smoke-detector', \n",
    "    'utensils', 'apron', 'scissors', 'terminal', 'grinder', 'entry-phone', \n",
    "    'newspaper-stand', 'pepper-shaker', 'onions', 'central-processing-unit', 'tape', \n",
    "    'bat', 'coaster', 'calculator', 'potatoes', 'luggage-rack', 'salt', \n",
    "    'street-number', 'viewpoint', 'sword', 'cd', 'rowing-machine', 'plug', 'andiron', \n",
    "    'pepper', 'tongs', 'bonfire', 'dog-dish', 'belt', 'dumbbells', \n",
    "    'videocassette-recorder', 'hook', 'envelopes', 'shower-faucet', 'watch', \n",
    "    'padlock', 'swimming-pool-ladder', 'spanners', 'gravy-boat', 'notice-board', \n",
    "    'trash-bags', 'fire-alarm', 'ladle', 'stethoscope', 'rocket', 'funnel', \n",
    "    'bowling-pins', 'valve', 'thermometer', 'cups', 'spice-jar', 'night-light', \n",
    "    'soaps', 'games-table', 'slotted-spoon', 'reel', 'scourer', 'sleeping-robe', \n",
    "    'desk-mat', 'dumbbell', 'hammer', 'tie', 'typewriter', 'shaker', 'cheese-dish', \n",
    "    'sea-star', 'racquet', 'butane-gas-cylinder', 'paper-weight', 'shaving-brush', \n",
    "    'sunglasses', 'gear-shift', 'towel-rail', 'adding-machine'\n",
    "]\n",
    "COCO = [\n",
    "    'person', 'bicycle', 'car', 'motorcycle', 'airplane', 'bus', 'train',\n",
    "    'truck', 'boat', 'traffic light', 'fire hydrant', 'stop sign',\n",
    "    'parking meter', 'bench', 'bird', 'cat', 'dog', 'horse', 'sheep',\n",
    "    'cow', 'elephant', 'bear', 'zebra', 'giraffe', 'backpack', 'umbrella',\n",
    "    'handbag', 'tie', 'suitcase', 'frisbee', 'skis', 'snowboard',\n",
    "    'sports ball', 'kite', 'baseball bat', 'baseball glove', 'skateboard',\n",
    "    'surfboard', 'tennis racket', 'bottle', 'wine glass', 'cup', 'fork',\n",
    "    'knife', 'spoon', 'bowl', 'banana', 'apple', 'sandwich', 'orange',\n",
    "    'broccoli', 'carrot', 'hot dog', 'pizza', 'donut', 'cake', 'chair',\n",
    "    'couch', 'potted plant', 'bed', 'dining table', 'toilet', 'tv',\n",
    "    'laptop', 'mouse', 'remote', 'keyboard', 'cell phone', 'microwave',\n",
    "    'oven', 'toaster', 'sink', 'refrigerator', 'book', 'clock', 'vase',\n",
    "    'scissors', 'teddy bear', 'hair drier', 'toothbrush', 'banner',\n",
    "    'blanket', 'branch', 'bridge', 'building-other', 'bush', 'cabinet',\n",
    "    'cage', 'cardboard', 'carpet', 'ceiling-other', 'ceiling-tile',\n",
    "    'cloth', 'clothes', 'clouds', 'counter', 'cupboard', 'curtain',\n",
    "    'desk-stuff', 'dirt', 'door-stuff', 'fence', 'floor-marble',\n",
    "    'floor-other', 'floor-stone', 'floor-tile', 'floor-wood',\n",
    "    'flower', 'fog', 'food-other', 'fruit', 'furniture-other', 'grass',\n",
    "    'gravel', 'ground-other', 'hill', 'house', 'leaves', 'light', 'mat',\n",
    "    'metal', 'mirror-stuff', 'moss', 'mountain', 'mud', 'napkin', 'net',\n",
    "    'paper', 'pavement', 'pillow', 'plant-other', 'plastic', 'platform',\n",
    "    'playingfield', 'railing', 'railroad', 'river', 'road', 'rock', 'roof',\n",
    "    'rug', 'salad', 'sand', 'sea', 'shelf', 'sky-other', 'skyscraper',\n",
    "    'snow', 'solid-other', 'stairs', 'stone', 'straw', 'structural-other',\n",
    "    'table', 'tent', 'textile-other', 'towel', 'tree', 'vegetable',\n",
    "    'wall-brick', 'wall-concrete', 'wall-other', 'wall-panel',\n",
    "    'wall-stone', 'wall-tile', 'wall-wood', 'water-other', 'waterdrops',\n",
    "    'window-blind', 'window-other', 'wood'\n",
    "]\n",
    "all_cls = list(set(ADEFull) | set(COCO))\n",
    "base_cls = list(set(ADEFull) & set(COCO))\n",
    "novel_cls = list(set(ADEFull) - set(COCO))\n",
    "len(ADEFull), len(COCO), len(base_cls), len(novel_cls), len(all_cls)"
   ]
  },
  {
   "cell_type": "code",
   "execution_count": 11,
   "metadata": {},
   "outputs": [],
   "source": [
    "def _log(files):\n",
    "    import numpy as np\n",
    "    seen_mious, seen_maccs = [], []\n",
    "    unseen_mious, unseen_maccs = [], []\n",
    "    for file in files:\n",
    "        with open(file) as f:\n",
    "            metrics = f.readlines()\n",
    "        metrics = [x.strip() for x in metrics]\n",
    "        st = metrics.index(\"|          Class          |  IoU  |  Acc  |\")\n",
    "        metrics = metrics[st+2:st+849]\n",
    "        ious = {}\n",
    "        accs = {}\n",
    "        for i in range(len(metrics)):\n",
    "            k, iou, acc = metrics[i].split(\"|\")[1:-1]\n",
    "            ious[k.strip()] = float(iou.strip())\n",
    "            accs[k.strip()] = float(acc.strip())\n",
    "        ious_base = {k: v for k, v in ious.items() if k in base_cls}\n",
    "        ious_novel = {k: v for k, v in ious.items() if k in novel_cls}\n",
    "        accs_base = {k: v for k, v in accs.items() if k in base_cls}\n",
    "        accs_novel = {k: v for k, v in accs.items() if k in novel_cls}\n",
    "        seen_mious.append(np.mean(list(ious_base.values())))\n",
    "        unseen_mious.append(np.mean(list(ious_novel.values())))\n",
    "        seen_maccs.append(np.mean(list(accs_base.values())))\n",
    "        unseen_maccs.append(np.mean(list(accs_novel.values())))\n",
    "    print(f\"seen: mIoU {np.mean(seen_mious):.2f} {np.std(seen_mious):.2f}, mAcc {np.mean(seen_maccs):.2f} {np.std(seen_maccs):.2f}\")\n",
    "    print(f\"unseen: mIoU {np.mean(unseen_mious):.2f} {np.std(unseen_mious):.2f}, mAcc {np.mean(unseen_maccs):.2f} {np.std(unseen_maccs):.2f}\")"
   ]
  },
  {
   "cell_type": "code",
   "execution_count": 14,
   "metadata": {},
   "outputs": [
    {
     "name": "stdout",
     "output_type": "stream",
     "text": [
      "seen: mIoU 62.66 0.30, mAcc 89.99 0.45\n",
      "unseen: mIoU 53.52 0.10, mAcc 90.44 0.13\n"
     ]
    }
   ],
   "source": [
    "files = [\n",
    "    \"/mnt/haojun/itpsea4data/mmseg/11ade847_prior_structure_point10_v0.txt\",\n",
    "    \"/mnt/haojun/itpsea4data/mmseg/11ade847_prior_structure_point10_v1.txt\",\n",
    "    \"/mnt/haojun/itpsea4data/mmseg/11ade847_prior_structure_point10_v2.txt\",\n",
    "    \"/mnt/haojun/itpsea4data/mmseg/11ade847_prior_structure_point10_v3.txt\",\n",
    "    \"/mnt/haojun/itpsea4data/mmseg/11ade847_prior_structure_point10_v4.txt\"\n",
    "]\n",
    "_log(files)"
   ]
  },
  {
   "cell_type": "markdown",
   "metadata": {},
   "source": [
    "### COCO171"
   ]
  },
  {
   "cell_type": "code",
   "execution_count": 1,
   "metadata": {},
   "outputs": [],
   "source": [
    "def _log(files):\n",
    "    mious, maccs = [], []\n",
    "    for file in files:\n",
    "        with open(file) as f:\n",
    "            metrics = f.readlines()\n",
    "        metrics = [x.strip() for x in metrics]\n",
    "        metrics = metrics[-2]\n",
    "        _, miou, macc = metrics.split(\"|\")[1:-1]\n",
    "        mious.append(float(miou))\n",
    "        maccs.append(float(macc))\n",
    "    import numpy as np\n",
    "    print(f\"base: mIoU {np.mean(mious):.2f} {np.std(mious):.2f}, mAcc {np.mean(maccs):.2f} {np.std(maccs):.2f}\")"
   ]
  },
  {
   "cell_type": "code",
   "execution_count": 4,
   "metadata": {},
   "outputs": [
    {
     "name": "stdout",
     "output_type": "stream",
     "text": [
      "base: mIoU 71.42 0.03, mAcc 88.52 0.04\n"
     ]
    }
   ],
   "source": [
    "_log([\n",
    "    \"/mnt/haojun/itpsea4data/mmseg/11coco171_prior_structure_point10_v0.txt\",\n",
    "    \"/mnt/haojun/itpsea4data/mmseg/11coco171_prior_structure_point10_v1.txt\",\n",
    "    \"/mnt/haojun/itpsea4data/mmseg/11coco171_prior_structure_point10_v2.txt\",\n",
    "    \"/mnt/haojun/itpsea4data/mmseg/11coco171_prior_structure_point10_v3.txt\",\n",
    "    \"/mnt/haojun/itpsea4data/mmseg/11coco171_prior_structure_point10_v4.txt\"\n",
    "])"
   ]
  },
  {
   "cell_type": "code",
   "execution_count": 23,
   "metadata": {},
   "outputs": [
    {
     "data": {
      "text/plain": [
       "'work_dirs/20221006_large_voc_vitb16_linear_80k_bs16_cocostuff_prior_structure_loss'"
      ]
     },
     "execution_count": 23,
     "metadata": {},
     "output_type": "execute_result"
    }
   ],
   "source": [
    "# \"work_dirs/20221006_large_voc_vitb16_cosine_80k_bs16_ade150_prior_loss\",\n",
    "# \"work_dirs/20221006_large_voc_vitb16_cosine_80k_bs16_ade150_structure_loss\",\n",
    "# \"work_dirs/20221006_large_voc_vitb16_cosine_80k_bs16_ade847_prior_loss\",\n",
    "# \"work_dirs/20221006_large_voc_vitb16_cosine_80k_bs16_ade847_prior_structure_loss\",\n",
    "# \"work_dirs/20221006_large_voc_vitb16_cosine_80k_bs16_ade847_structure_loss\",\n",
    "# \"work_dirs/20221006_large_voc_vitb16_linear_80k_bs16_ade847_prior_loss\",\n",
    "# \"work_dirs/20221006_large_voc_vitb16_linear_80k_bs16_ade847_prior_structure_loss\",\n",
    "# \"work_dirs/20221006_large_voc_vitb16_linear_80k_bs16_cocostuff_prior_loss\",\n",
    "# \"work_dirs/20221006_large_voc_vitb16_linear_80k_bs16_cocostuff_prior_structure_loss\",\n",
    "# \"work_dirs/20221006_large_voc_vitb16_linear_80k_bs16_ade150_prior_loss\",\n",
    "# \"work_dirs/20221006_large_voc_vitb16_linear_80k_bs16_ade150_prior_structure_loss\""
   ]
  },
  {
   "cell_type": "code",
   "execution_count": null,
   "metadata": {},
   "outputs": [],
   "source": []
  },
  {
   "cell_type": "code",
   "execution_count": null,
   "metadata": {},
   "outputs": [],
   "source": []
  }
 ],
 "metadata": {
  "kernelspec": {
   "display_name": "Python 3.8.13 ('openseg')",
   "language": "python",
   "name": "python3"
  },
  "language_info": {
   "codemirror_mode": {
    "name": "ipython",
    "version": 3
   },
   "file_extension": ".py",
   "mimetype": "text/x-python",
   "name": "python",
   "nbconvert_exporter": "python",
   "pygments_lexer": "ipython3",
   "version": "3.8.13 (default, Mar 28 2022, 11:38:47) \n[GCC 7.5.0]"
  },
  "orig_nbformat": 4,
  "vscode": {
   "interpreter": {
    "hash": "eb1b0331be7fe2a4d3bed66587d9247426bb7c92ddb75f50ff73b13b9866312b"
   }
  }
 },
 "nbformat": 4,
 "nbformat_minor": 2
}
