{
 "cells": [
  {
   "cell_type": "markdown",
   "metadata": {},
   "source": [
    "# Oracle Experiment"
   ]
  },
  {
   "cell_type": "code",
   "execution_count": 2,
   "metadata": {},
   "outputs": [
    {
     "data": {
      "text/plain": [
       "(92, 58)"
      ]
     },
     "execution_count": 2,
     "metadata": {},
     "output_type": "execute_result"
    }
   ],
   "source": [
    "unseen = \"crt screen, bar, kitchen island, barrel, poster, windowpane, cradle, washer, conveyer belt, tank, plate, tray, earth, wardrobe, ashcan, land, buffet, seat, ship, lake, bag, lamp, awning, screen, fountain, hood, bannister, arcade machine, stairway, waterfall, trade name, grandstand, blind, swimming pool, step, pool table, stool, monitor, path, countertop, booth, bathtub, radiator, tower, escalator, signboard, coffee table, swivel chair, sconce, sculpture, fan, stove, fireplace, bulletin board, television receiver, field, box, pole, cushion, flag, basket, van, column, chandelier, stage, case, sofa, chest of drawers, shower, painting, streetlight, dishwasher, plaything, armchair, bookcase, screen door, runway, base, ottoman, dirt track, computer, pier, pot, minibike, palm, glass, ball, sidewalk, apparel, animal, canopy, hovel\".split(\",\")\n",
    "\n",
    "seen = \"cabinet, mirror, oven, tent, person, table, fence, grass, book, shelf, house, water, airplane, refrigerator, desk, sand, bottle, chair, pillow, bridge, towel, bed, clock, ceiling, wall, plant, stairs, bus, road, blanket, mountain, railing, light, food, bicycle, car, door, bench, boat, curtain, skyscraper, truck, sky, river, sea, traffic light, tree, building, vase, rug, counter, flower, floor, hill, rock, toilet, sink, microwave\".split(\",\")\n",
    "\n",
    "unseen = [x.strip() for x in unseen]\n",
    "seen = [x.strip() for x in seen]\n",
    "len(unseen), len(seen)"
   ]
  },
  {
   "cell_type": "code",
   "execution_count": 3,
   "metadata": {},
   "outputs": [],
   "source": [
    "def _log(file):\n",
    "    with open(file) as f:\n",
    "        metrics = f.readlines()\n",
    "    metrics = [x.strip() for x in metrics]\n",
    "    st = metrics.index(\"|        Class        |  IoU  |  Acc  |\")\n",
    "    metrics = metrics[st+2:st+152]\n",
    "    ious = {}\n",
    "    accs = {}\n",
    "    for i in range(len(metrics)):\n",
    "        k, iou, acc = metrics[i].split(\"|\")[1:-1]\n",
    "        ious[k.strip()] = float(iou.strip())\n",
    "        accs[k.strip()] = float(acc.strip())\n",
    "    ious_seen = {k: v for k, v in ious.items() if k in seen}\n",
    "    ious_unseen = {k: v for k, v in ious.items() if k in unseen}\n",
    "    accs_seen = {k: v for k, v in accs.items() if k in seen}\n",
    "    accs_unseen = {k: v for k, v in accs.items() if k in unseen}\n",
    "    import numpy as np\n",
    "    print(file.split(\"/\")[-1].rstrip(\".txt\"))\n",
    "    print(f\"seen: mIoU {np.mean(list(ious_seen.values())):.2f}, mAcc {np.mean(list(accs_seen.values())):.2f}\")\n",
    "    print(f\"unseen: mIoU {np.mean(list(ious_unseen.values())):.2f}, mAcc {np.mean(list(accs_unseen.values())):.2f}\")\n",
    "    "
   ]
  },
  {
   "cell_type": "code",
   "execution_count": 4,
   "metadata": {},
   "outputs": [
    {
     "name": "stdout",
     "output_type": "stream",
     "text": [
      "linear1\n",
      "seen: mIoU 55.82, mAcc 79.78\n",
      "unseen: mIoU 48.05, mAcc 78.70\n",
      "linear3\n",
      "seen: mIoU 64.64, mAcc 85.96\n",
      "unseen: mIoU 58.09, mAcc 85.48\n",
      "linear10\n",
      "seen: mIoU 71.48, mAcc 89.93\n",
      "unseen: mIoU 66.98, mAcc 90.11\n"
     ]
    }
   ],
   "source": [
    "for file in [\n",
    "    # \"clip1\", \"clip3\", \"clip10\", \n",
    "    # \"cos1v2\", \"cos3v2\", \"cos10v2\", \n",
    "    \"linear1\", \"linear3\", \"linear10\"\n",
    "]:\n",
    "    _log(f\"/mnt/haojun/itpsea4data/mmseg/{file}.txt\")"
   ]
  },
  {
   "cell_type": "code",
   "execution_count": null,
   "metadata": {},
   "outputs": [],
   "source": [
    "# bash tools/dist_test.sh \\\n",
    "# configs/segmenter/evaluation/baseline_no_attn_eval_ade_oracle1.py \\\n",
    "# work_dirs/202209228_baseline_no_attn_cosine_160k_bs16_coco/iter_160000.pth \\\n",
    "# 4 \\\n",
    "# --eval mIoU > cos1.txt"
   ]
  },
  {
   "cell_type": "code",
   "execution_count": null,
   "metadata": {},
   "outputs": [],
   "source": []
  }
 ],
 "metadata": {
  "kernelspec": {
   "display_name": "Python 3.8.13 ('openseg')",
   "language": "python",
   "name": "python3"
  },
  "language_info": {
   "codemirror_mode": {
    "name": "ipython",
    "version": 3
   },
   "file_extension": ".py",
   "mimetype": "text/x-python",
   "name": "python",
   "nbconvert_exporter": "python",
   "pygments_lexer": "ipython3",
   "version": "3.8.13"
  },
  "orig_nbformat": 4,
  "vscode": {
   "interpreter": {
    "hash": "eb1b0331be7fe2a4d3bed66587d9247426bb7c92ddb75f50ff73b13b9866312b"
   }
  }
 },
 "nbformat": 4,
 "nbformat_minor": 2
}
