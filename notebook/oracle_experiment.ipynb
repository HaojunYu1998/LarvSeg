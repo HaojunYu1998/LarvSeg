{
 "cells": [
  {
   "cell_type": "markdown",
   "metadata": {},
   "source": [
    "# Oracle Experiment"
   ]
  },
  {
   "cell_type": "code",
   "execution_count": 1,
   "metadata": {},
   "outputs": [],
   "source": [
    "unseen = \"crt screen, bar, kitchen island, barrel, poster, windowpane, cradle, washer, conveyer belt, tank, plate, tray, earth, wardrobe, ashcan, land, buffet, seat, ship, lake, bag, lamp, awning, screen, fountain, hood, bannister, arcade machine, stairway, waterfall, trade name, grandstand, blind, swimming pool, step, pool table, stool, monitor, path, countertop, booth, bathtub, radiator, tower, escalator, signboard, coffee table, swivel chair, sconce, sculpture, fan, stove, fireplace, bulletin board, television receiver, field, box, pole, cushion, flag, basket, van, column, chandelier, stage, case, sofa, chest of drawers, shower, painting, streetlight, dishwasher, plaything, armchair, bookcase, screen door, runway, base, ottoman, dirt track, computer, pier, pot, minibike, palm, glass, ball, sidewalk, apparel, animal, canopy, hovel\".split(\",\")\n",
    "\n",
    "seen = \"cabinet, mirror, oven, tent, person, table, fence, grass, book, shelf, house, water, airplane, refrigerator, desk, sand, bottle, chair, pillow, bridge, towel, bed, clock, ceiling, wall, plant, stairs, bus, road, blanket, mountain, railing, light, food, bicycle, car, door, bench, boat, curtain, skyscraper, truck, sky, river, sea, traffic light, tree, building, vase, rug, counter, flower, floor, hill, rock, toilet, sink, microwave\".split(\",\")\n",
    "\n",
    "unseen = [x.strip() for x in unseen]\n",
    "seen = [x.strip() for x in seen]\n",
    "len(unseen), len(seen)"
   ]
  },
  {
   "cell_type": "code",
   "execution_count": 35,
   "metadata": {},
   "outputs": [],
   "source": [
    "def _log(file):\n",
    "    with open(file) as f:\n",
    "        metrics = f.readlines()\n",
    "    metrics = [x.strip() for x in metrics]\n",
    "    st = metrics.index(\"|        Class        |  IoU  |  Acc  |\")\n",
    "    metrics = metrics[st+2:st+152]\n",
    "    ious = {}\n",
    "    accs = {}\n",
    "    for i in range(len(metrics)):\n",
    "        k, iou, acc = metrics[i].split(\"|\")[1:-1]\n",
    "        ious[k.strip()] = float(iou.strip())\n",
    "        accs[k.strip()] = float(acc.strip())\n",
    "    ious_seen = {k: v for k, v in ious.items() if k in seen}\n",
    "    ious_unseen = {k: v for k, v in ious.items() if k in unseen}\n",
    "    accs_seen = {k: v for k, v in accs.items() if k in seen}\n",
    "    accs_unseen = {k: v for k, v in accs.items() if k in unseen}\n",
    "    import numpy as np\n",
    "    print(file.split(\"/\")[-1].rstrip(\".txt\"))\n",
    "    print(f\"seen: mIoU {np.mean(list(ious_seen.values())):.2f}, mAcc {np.mean(list(accs_seen.values())):.2f}\")\n",
    "    print(f\"unseen: mIoU {np.mean(list(ious_unseen.values())):.2f}, mAcc {np.mean(list(accs_unseen.values())):.2f}\")\n",
    "    "
   ]
  },
  {
   "cell_type": "code",
   "execution_count": 36,
   "metadata": {},
   "outputs": [
    {
     "name": "stdout",
     "output_type": "stream",
     "text": [
      "clip3\n",
      "seen: mIoU 61.08, mAcc 83.36\n",
      "unseen: mIoU 55.26, mAcc 83.69\n",
      "clip10\n",
      "seen: mIoU 69.17, mAcc 88.53\n",
      "unseen: mIoU 63.64, mAcc 88.77\n",
      "cos1\n",
      "seen: mIoU 52.80, mAcc 78.04\n",
      "unseen: mIoU 46.19, mAcc 76.80\n",
      "cos3\n",
      "seen: mIoU 61.36, mAcc 83.94\n",
      "unseen: mIoU 54.69, mAcc 83.19\n",
      "cos10\n",
      "seen: mIoU 68.96, mAcc 88.72\n",
      "unseen: mIoU 63.80, mAcc 88.69\n",
      "linear1\n",
      "seen: mIoU 52.30, mAcc 77.51\n",
      "unseen: mIoU 45.12, mAcc 76.30\n",
      "linear3\n",
      "seen: mIoU 61.55, mAcc 83.92\n",
      "unseen: mIoU 54.93, mAcc 84.02\n",
      "linear10\n",
      "seen: mIoU 68.75, mAcc 88.79\n",
      "unseen: mIoU 63.32, mAcc 88.40\n"
     ]
    }
   ],
   "source": [
    "for file in [\n",
    "    # \"clip1\"\n",
    "    \"clip3\", \"clip10\", \"cos1\", \"cos3\", \"cos10\", \"linear1\", \"linear3\", \"linear10\"\n",
    "]:\n",
    "    _log(f\"/mnt/haojun/itpsea4data/mmseg/{file}.txt\")"
   ]
  },
  {
   "cell_type": "code",
   "execution_count": null,
   "metadata": {},
   "outputs": [],
   "source": [
    "# bash tools/dist_test.sh \\\n",
    "# configs/segmenter/evaluation/baseline_no_attn_eval_ade_oracle1.py \\\n",
    "# work_dirs/202209228_baseline_no_attn_cosine_160k_bs16_coco/iter_160000.pth \\\n",
    "# 4 \\\n",
    "# --eval mIoU > cos1.txt"
   ]
  },
  {
   "cell_type": "code",
   "execution_count": null,
   "metadata": {},
   "outputs": [],
   "source": []
  }
 ],
 "metadata": {
  "kernelspec": {
   "display_name": "Python 3.8.13 ('openseg')",
   "language": "python",
   "name": "python3"
  },
  "language_info": {
   "codemirror_mode": {
    "name": "ipython",
    "version": 3
   },
   "file_extension": ".py",
   "mimetype": "text/x-python",
   "name": "python",
   "nbconvert_exporter": "python",
   "pygments_lexer": "ipython3",
   "version": "3.8.13"
  },
  "orig_nbformat": 4,
  "vscode": {
   "interpreter": {
    "hash": "eb1b0331be7fe2a4d3bed66587d9247426bb7c92ddb75f50ff73b13b9866312b"
   }
  }
 },
 "nbformat": 4,
 "nbformat_minor": 2
}
