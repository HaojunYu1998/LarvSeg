{
 "cells": [
  {
   "cell_type": "markdown",
   "metadata": {},
   "source": [
    "## ADE150 ∩ COCO"
   ]
  },
  {
   "cell_type": "code",
   "execution_count": 11,
   "metadata": {},
   "outputs": [
    {
     "data": {
      "text/plain": [
       "(171, 150)"
      ]
     },
     "execution_count": 11,
     "metadata": {},
     "output_type": "execute_result"
    }
   ],
   "source": [
    "COCO = [\n",
    "    'person', 'bicycle', 'car', 'motorcycle', 'airplane', 'bus', 'train',\n",
    "    'truck', 'boat', 'traffic light', 'fire hydrant', 'stop sign',\n",
    "    'parking meter', 'bench', 'bird', 'cat', 'dog', 'horse', 'sheep',\n",
    "    'cow', 'elephant', 'bear', 'zebra', 'giraffe', 'backpack', 'umbrella',\n",
    "    'handbag', 'tie', 'suitcase', 'frisbee', 'skis', 'snowboard',\n",
    "    'sports ball', 'kite', 'baseball bat', 'baseball glove', 'skateboard',\n",
    "    'surfboard', 'tennis racket', 'bottle', 'wine glass', 'cup', 'fork',\n",
    "    'knife', 'spoon', 'bowl', 'banana', 'apple', 'sandwich', 'orange',\n",
    "    'broccoli', 'carrot', 'hot dog', 'pizza', 'donut', 'cake', 'chair',\n",
    "    'couch', 'potted plant', 'bed', 'dining table', 'toilet', 'tv',\n",
    "    'laptop', 'mouse', 'remote', 'keyboard', 'cell phone', 'microwave',\n",
    "    'oven', 'toaster', 'sink', 'refrigerator', 'book', 'clock', 'vase',\n",
    "    'scissors', 'teddy bear', 'hair drier', 'toothbrush', 'banner',\n",
    "    'blanket', 'branch', 'bridge', 'building-other', 'bush', 'cabinet',\n",
    "    'cage', 'cardboard', 'carpet', 'ceiling-other', 'ceiling-tile',\n",
    "    'cloth', 'clothes', 'clouds', 'counter', 'cupboard', 'curtain',\n",
    "    'desk-stuff', 'dirt', 'door-stuff', 'fence', 'floor-marble',\n",
    "    'floor-other', 'floor-stone', 'floor-tile', 'floor-wood',\n",
    "    'flower', 'fog', 'food-other', 'fruit', 'furniture-other', 'grass',\n",
    "    'gravel', 'ground-other', 'hill', 'house', 'leaves', 'light', 'mat',\n",
    "    'metal', 'mirror-stuff', 'moss', 'mountain', 'mud', 'napkin', 'net',\n",
    "    'paper', 'pavement', 'pillow', 'plant-other', 'plastic', 'platform',\n",
    "    'playingfield', 'railing', 'railroad', 'river', 'road', 'rock', 'roof',\n",
    "    'rug', 'salad', 'sand', 'sea', 'shelf', 'sky-other', 'skyscraper',\n",
    "    'snow', 'solid-other', 'stairs', 'stone', 'straw', 'structural-other',\n",
    "    'table', 'tent', 'textile-other', 'towel', 'tree', 'vegetable',\n",
    "    'wall-brick', 'wall-concrete', 'wall-other', 'wall-panel',\n",
    "    'wall-stone', 'wall-tile', 'wall-wood', 'water-other', 'waterdrops',\n",
    "    'window-blind', 'window-other', 'wood'\n",
    "]\n",
    "ADE = [\n",
    "    'wall', 'building', 'sky', 'floor', 'tree', 'ceiling', 'road', 'bed',\n",
    "    'windowpane', 'grass', 'cabinet', 'sidewalk', 'person', 'earth',\n",
    "    'door', 'table', 'mountain', 'plant', 'curtain', 'chair', 'car',\n",
    "    'water', 'painting', 'sofa', 'shelf', 'house', 'sea', 'mirror', 'rug',\n",
    "    'field', 'armchair', 'seat', 'fence', 'desk', 'rock', 'wardrobe',\n",
    "    'lamp', 'bathtub', 'railing', 'cushion', 'base', 'box', 'column',\n",
    "    'signboard', 'chest of drawers', 'counter', 'sand', 'sink',\n",
    "    'skyscraper', 'fireplace', 'refrigerator', 'grandstand', 'path',\n",
    "    'stairs', 'runway', 'case', 'pool table', 'pillow', 'screen door',\n",
    "    'stairway', 'river', 'bridge', 'bookcase', 'blind', 'coffee table',\n",
    "    'toilet', 'flower', 'book', 'hill', 'bench', 'countertop', 'stove',\n",
    "    'palm', 'kitchen island', 'computer', 'swivel chair', 'boat', 'bar',\n",
    "    'arcade machine', 'hovel', 'bus', 'towel', 'light', 'truck', 'tower',\n",
    "    'chandelier', 'awning', 'streetlight', 'booth', 'television receiver',\n",
    "    'airplane', 'dirt track', 'apparel', 'pole', 'land', 'bannister',\n",
    "    'escalator', 'ottoman', 'bottle', 'buffet', 'poster', 'stage', 'van',\n",
    "    'ship', 'fountain', 'conveyer belt', 'canopy', 'washer', 'plaything',\n",
    "    'swimming pool', 'stool', 'barrel', 'basket', 'waterfall', 'tent',\n",
    "    'bag', 'minibike', 'cradle', 'oven', 'ball', 'food', 'step', 'tank',\n",
    "    'trade name', 'microwave', 'pot', 'animal', 'bicycle', 'lake',\n",
    "    'dishwasher', 'screen', 'blanket', 'sculpture', 'hood', 'sconce',\n",
    "    'vase', 'traffic light', 'tray', 'ashcan', 'fan', 'pier', 'crt screen',\n",
    "    'plate', 'monitor', 'bulletin board', 'shower', 'radiator', 'glass',\n",
    "    'clock', 'flag'\n",
    "]\n",
    "len(COCO), len(ADE)"
   ]
  },
  {
   "cell_type": "code",
   "execution_count": 12,
   "metadata": {},
   "outputs": [
    {
     "data": {
      "text/plain": [
       "159"
      ]
     },
     "execution_count": 12,
     "metadata": {},
     "output_type": "execute_result"
    }
   ],
   "source": [
    "COCO = set([x.split(\"-\")[0] for x in COCO])\n",
    "len(COCO)"
   ]
  },
  {
   "cell_type": "code",
   "execution_count": 13,
   "metadata": {},
   "outputs": [
    {
     "data": {
      "text/plain": [
       "92"
      ]
     },
     "execution_count": 13,
     "metadata": {},
     "output_type": "execute_result"
    }
   ],
   "source": [
    "unseen = set(ADE) - set(COCO)\n",
    "len(unseen)"
   ]
  },
  {
   "cell_type": "code",
   "execution_count": 14,
   "metadata": {},
   "outputs": [
    {
     "data": {
      "text/plain": [
       "58"
      ]
     },
     "execution_count": 14,
     "metadata": {},
     "output_type": "execute_result"
    }
   ],
   "source": [
    "seen = set(ADE) & set(COCO)\n",
    "len(seen)"
   ]
  },
  {
   "cell_type": "code",
   "execution_count": 15,
   "metadata": {},
   "outputs": [
    {
     "name": "stdout",
     "output_type": "stream",
     "text": [
      "crt screen, bar, kitchen island, barrel, poster, windowpane, cradle, washer, conveyer belt, tank, plate, tray, earth, wardrobe, ashcan, land, buffet, seat, ship, lake, bag, lamp, awning, screen, fountain, hood, bannister, arcade machine, stairway, waterfall, trade name, grandstand, blind, swimming pool, step, pool table, stool, monitor, path, countertop, booth, bathtub, radiator, tower, escalator, signboard, coffee table, swivel chair, sconce, sculpture, fan, stove, fireplace, bulletin board, television receiver, field, box, pole, cushion, flag, basket, van, column, chandelier, stage, case, sofa, chest of drawers, shower, painting, streetlight, dishwasher, plaything, armchair, bookcase, screen door, runway, base, ottoman, dirt track, computer, pier, pot, minibike, palm, glass, ball, sidewalk, apparel, animal, canopy, hovel, "
     ]
    }
   ],
   "source": [
    "for x in unseen:\n",
    "    print(x, end=\", \")"
   ]
  },
  {
   "cell_type": "code",
   "execution_count": 16,
   "metadata": {},
   "outputs": [
    {
     "name": "stdout",
     "output_type": "stream",
     "text": [
      "cabinet, mirror, oven, tent, person, table, fence, grass, book, shelf, house, water, airplane, refrigerator, desk, sand, bottle, chair, pillow, bridge, towel, bed, clock, ceiling, wall, plant, stairs, bus, road, blanket, mountain, railing, light, food, bicycle, car, door, bench, boat, curtain, skyscraper, truck, sky, river, sea, traffic light, tree, building, vase, rug, counter, flower, floor, hill, rock, toilet, sink, microwave, "
     ]
    }
   ],
   "source": [
    "for x in seen:\n",
    "    print(x, end=\", \")"
   ]
  },
  {
   "cell_type": "code",
   "execution_count": 17,
   "metadata": {},
   "outputs": [
    {
     "name": "stdout",
     "output_type": "stream",
     "text": [
      "141, 77, 73, 111, 100, 8, 117, 107, 105, 122, 142, 137, 13, 35, 138, 94, 99, 31, 103, 128, 115, 36, 86, 130, 104, 133, 95, 78, 59, 113, 123, 51, 63, 109, 121, 56, 110, 143, 52, 70, 88, 37, 146, 84, 96, 43, 64, 75, 134, 132, 139, 71, 49, 144, 89, 29, 41, 93, 39, 149, 112, 102, 42, 85, 101, 55, 23, 44, 145, 22, 87, 129, 108, 30, 62, 58, 54, 40, 97, 91, 74, 140, 125, 116, 72, 147, 119, 11, 92, 126, 106, 79, "
     ]
    }
   ],
   "source": [
    "for x in unseen:\n",
    "    print(ADE.index(x), end=\", \")"
   ]
  },
  {
   "cell_type": "code",
   "execution_count": 18,
   "metadata": {},
   "outputs": [
    {
     "name": "stdout",
     "output_type": "stream",
     "text": [
      "10, 27, 118, 114, 12, 15, 32, 9, 67, 24, 25, 21, 90, 50, 33, 46, 98, 19, 57, 61, 81, 7, 148, 5, 0, 17, 53, 80, 6, 131, 16, 38, 82, 120, 127, 20, 14, 69, 76, 18, 48, 83, 2, 60, 26, 136, 4, 1, 135, 28, 45, 66, 3, 68, 34, 65, 47, 124, "
     ]
    }
   ],
   "source": [
    "for x in seen:\n",
    "    print(ADE.index(x), end=\", \")"
   ]
  },
  {
   "cell_type": "markdown",
   "metadata": {},
   "source": [
    "## ADE847 ∩ COCO"
   ]
  },
  {
   "cell_type": "code",
   "execution_count": 1,
   "metadata": {},
   "outputs": [
    {
     "data": {
      "text/plain": [
       "(847, 171)"
      ]
     },
     "execution_count": 1,
     "metadata": {},
     "output_type": "execute_result"
    }
   ],
   "source": [
    "ADEFull = [\n",
    "    'wall', 'building', 'sky', 'tree', 'road', 'floor', 'ceiling', 'bed', \n",
    "    'sidewalk', 'earth', 'cabinet', 'person', 'grass', 'windowpane', 'car', \n",
    "    'mountain', 'plant', 'table', 'chair', 'curtain', 'door', 'sofa', 'sea', \n",
    "    'painting', 'water', 'mirror', 'house', 'rug', 'shelf', 'armchair', \n",
    "    'fence', 'field', 'lamp', 'rock', 'seat', 'river', 'desk', 'bathtub', \n",
    "    'railing', 'signboard', 'cushion', 'path', 'work-surface', 'stairs', \n",
    "    'column', 'sink', 'wardrobe', 'snow', 'refrigerator', 'base', 'bridge', \n",
    "    'blind', 'runway', 'cliff', 'sand', 'fireplace', 'pillow', 'screen-door', \n",
    "    'toilet', 'skyscraper', 'grandstand', 'box', 'pool-table', 'palm', \n",
    "    'double-door', 'coffee-table', 'counter', 'countertop', 'chest-of-drawers', \n",
    "    'kitchen-island', 'boat', 'waterfall', 'stove', 'flower', 'bookcase', \n",
    "    'controls', 'book', 'stairway', 'streetlight', 'computer', 'bus', \n",
    "    'swivel-chair', 'light', 'bench', 'case', 'towel', 'fountain', 'embankment', \n",
    "    'television-receiver', 'van', 'hill', 'awning', 'poster', 'truck', \n",
    "    'airplane', 'pole', 'tower', 'court', 'ball', 'aircraft-carrier', 'buffet', \n",
    "    'hovel', 'apparel', 'minibike', 'animal', 'chandelier', 'step', 'booth', \n",
    "    'bicycle', 'doorframe', 'sconce', 'pond', 'trade-name', 'bannister', 'bag', \n",
    "    'traffic-light', 'gazebo', 'escalator', 'land', 'board', 'arcade-machine', \n",
    "    'eiderdown', 'bar', 'stall', 'playground', 'ship', 'ottoman', 'ashcan', \n",
    "    'bottle', 'cradle', 'pot', 'conveyer-belt', 'train', 'stool', 'lake', \n",
    "    'tank', 'ice', 'basket', 'manhole', 'tent', 'canopy', 'microwave', 'barrel', \n",
    "    'dirt-track', 'beam', 'dishwasher', 'plate', 'screen', 'ruins', 'washer', \n",
    "    'blanket', 'plaything', 'food', 'screen', 'oven', 'stage', 'beacon', \n",
    "    'umbrella', 'sculpture', 'aqueduct', 'container', 'scaffolding', 'hood', \n",
    "    'curb', 'roller-coaster', 'horse', 'catwalk', 'glass', 'vase', \n",
    "    'central-reservation', 'carousel', 'radiator', 'closet', 'machine', 'pier', \n",
    "    'fan', 'inflatable-bounce-game', 'pitch', 'paper', 'arcade', 'hot-tub', \n",
    "    'helicopter', 'tray', 'partition', 'vineyard', 'bowl', 'bullring', 'flag', \n",
    "    'pot', 'footbridge', 'shower', 'bag', 'bulletin-board', 'confessional-booth', \n",
    "    'trunk', 'forest', 'elevator-door', 'laptop', 'instrument-panel', 'bucket', \n",
    "    'tapestry', 'platform', 'jacket', 'gate', 'monitor', 'telephone-booth', \n",
    "    'spotlight', 'ring', 'control-panel', 'blackboard', 'air-conditioner', \n",
    "    'chest', 'clock', 'sand-dune', 'pipe', 'vault', 'table-football', 'cannon', \n",
    "    'swimming-pool', 'fluorescent', 'statue', 'loudspeaker', 'exhibitor', \n",
    "    'ladder', 'carport', 'dam', 'pulpit', 'skylight', 'water-tower', 'grill', \n",
    "    'display-board', 'pane', 'rubbish', 'ice-rink', 'fruit', 'patio', \n",
    "    'vending-machine', 'telephone', 'net', 'backpack', 'jar', 'track', \n",
    "    'magazine', 'shutter', 'roof', 'banner', 'landfill', 'post', 'altarpiece', \n",
    "    'hat', 'arch', 'table-game', 'bag', 'document', 'dome', 'pier', 'shanties', \n",
    "    'forecourt', 'crane', 'dog', 'piano', 'drawing', 'cabin', 'ad', 'amphitheater', \n",
    "    'monument', 'henhouse', 'cockpit', 'heater', 'windmill', 'pool', 'elevator', \n",
    "    'decoration', 'labyrinth', 'text', 'printer', 'mezzanine', 'mattress', 'straw', \n",
    "    'stalls', 'patio', 'billboard', 'bus-stop', 'trouser', 'console-table', 'rack', \n",
    "    'notebook', 'shrine', 'pantry', 'cart', 'steam-shovel', 'porch', 'postbox', \n",
    "    'figurine', 'recycling-bin', 'folding-screen', 'telescope', 'deck-chair', \n",
    "    'kennel', 'coffee-maker', 'altar', 'fish', 'easel', 'artificial-golf-green', \n",
    "    'iceberg', 'candlestick', 'shower-stall', 'television-stand', 'wall-socket', \n",
    "    'skeleton', 'grand-piano', 'candy', 'grille-door', 'pedestal', 'jersey', \n",
    "    'shoe', 'gravestone', 'shanty', 'structure', 'rocking-chair', 'bird', \n",
    "    'place-mat', 'tomb', 'big-top', 'gas-pump', 'lockers', 'cage', 'finger', \n",
    "    'bleachers', 'ferris-wheel', 'hairdresser-chair', 'mat', 'stands', 'aquarium', \n",
    "    'streetcar', 'napkin', 'dummy', 'booklet', 'sand-trap', 'shop', 'table-cloth', \n",
    "    'service-station', 'coffin', 'drawer', 'cages', 'slot-machine', 'balcony', \n",
    "    'volleyball-court', 'table-tennis', 'control-table', 'shirt', 'merchandise', \n",
    "    'railway', 'parterre', 'chimney', 'can', 'tanks', 'fabric', 'alga', 'system', \n",
    "    'map', 'greenhouse', 'mug', 'barbecue', 'trailer', 'toilet-tissue', 'organ', \n",
    "    'dishrag', 'island', 'keyboard', 'trench', 'basket', 'steering-wheel', 'pitcher', \n",
    "    'goal', 'bread', 'beds', 'wood', 'file-cabinet', 'newspaper', 'motorboat', \n",
    "    'rope', 'guitar', 'rubble', 'scarf', 'barrels', 'cap', 'leaves', 'control-tower', \n",
    "    'dashboard', 'bandstand', 'lectern', 'switch', 'baseboard', 'shower-room', \n",
    "    'smoke', 'faucet', 'bulldozer', 'saucepan', 'shops', 'meter', 'crevasse', 'gear', \n",
    "    'candelabrum', 'sofa-bed', 'tunnel', 'pallet', 'wire', 'kettle', 'bidet', \n",
    "    'baby-buggy', 'music-stand', 'pipe', 'cup', 'parking-meter', 'ice-hockey-rink', \n",
    "    'shelter', 'weeds', 'temple', 'patty', 'ski-slope', 'panel', 'wallet', 'wheel', \n",
    "    'towel-rack', 'roundabout', 'canister', 'rod', 'soap-dispenser', 'bell', \n",
    "    'canvas', 'box-office', 'teacup', 'trellis', 'workbench', 'valley', 'toaster', \n",
    "    'knife', 'podium', 'ramp', 'tumble-dryer', 'fireplug', 'gym-shoe', 'lab-bench', \n",
    "    'equipment', 'rocky-formation', 'plastic', 'calendar', 'caravan', \n",
    "    'check-in-desk', 'ticket-counter', 'brush', 'mill', 'covered-bridge', \n",
    "    'bowling-alley', 'hanger', 'excavator', 'trestle', 'revolving-door', \n",
    "    'blast-furnace', 'scale', 'projector', 'soap', 'locker', 'tractor', 'stretcher', \n",
    "    'frame', 'grating', 'alembic', 'candle', 'barrier', 'cardboard', 'cave', 'puddle', \n",
    "    'tarp', 'price-tag', 'watchtower', 'meters', 'light-bulb', 'tracks', 'hair-dryer', \n",
    "    'skirt', 'viaduct', 'paper-towel', 'coat', 'sheet', 'fire-extinguisher', \n",
    "    'water-wheel', 'pottery', 'magazine-rack', 'teapot', 'microphone', 'support', \n",
    "    'forklift', 'canyon', 'cash-register', 'leaf', 'remote-control', 'soap-dish', \n",
    "    'windshield', 'cat', 'cue', 'vent', 'videos', 'shovel', 'eaves', 'antenna', \n",
    "    'shipyard', 'hen', 'traffic-cone', 'washing-machines', 'truck-crane', 'cds', \n",
    "    'niche', 'scoreboard', 'briefcase', 'boot', 'sweater', 'hay', 'pack', \n",
    "    'bottle-rack', 'glacier', 'pergola', 'building-materials', 'television-camera', \n",
    "    'first-floor', 'rifle', 'tennis-table', 'stadium', 'safety-belt', 'cover', \n",
    "    'dish-rack', 'synthesizer', 'pumpkin', 'gutter', 'fruit-stand', 'ice-floe', \n",
    "    'handle', 'wheelchair', 'mousepad', 'diploma', 'fairground-ride', 'radio', \n",
    "    'hotplate', 'junk', 'wheelbarrow', 'stream', 'toll-plaza', 'punching-bag', \n",
    "    'trough', 'throne', 'chair-desk', 'weighbridge', 'extractor-fan', \n",
    "    'hanging-clothes', 'dish', 'alarm-clock', 'ski-lift', 'chain', 'garage', \n",
    "    'mechanical-shovel', 'wine-rack', 'tramway', 'treadmill', 'menu', 'block', 'well', \n",
    "    'witness-stand', 'branch', 'duck', 'casserole', 'frying-pan', 'desk-organizer', \n",
    "    'mast', 'spectacles', 'service-elevator', 'dollhouse', 'hammock', \n",
    "    'clothes-hanging', 'photocopier', 'notepad', 'golf-cart', 'footpath', 'cross', \n",
    "    'baptismal-font', 'boiler', 'skip', 'rotisserie', 'tables', 'water-mill', \n",
    "    'helmet', 'cover-curtain', 'brick', 'table-runner', 'ashtray', 'street-box', \n",
    "    'stick', 'hangers', 'cells', 'urinal', 'centerpiece', 'portable-fridge', 'dvds', \n",
    "    'golf-club', 'skirting-board', 'water-cooler', 'clipboard', 'camera', \n",
    "    'pigeonhole', 'chips', 'food-processor', 'post-box', 'lid', 'drum', 'blender', \n",
    "    'cave-entrance', 'dental-chair', 'obelisk', 'canoe', 'mobile', 'monitors', \n",
    "    'pool-ball', 'cue-rack', 'baggage-carts', 'shore', 'fork', 'paper-filer', \n",
    "    'bicycle-rack', 'coat-rack', 'garland', 'sports-bag', 'fish-tank', \n",
    "    'towel-dispenser', 'carriage', 'brochure', 'plaque', 'stringer', 'iron', \n",
    "    'spoon', 'flag-pole', 'toilet-brush', 'book-stand', 'water-faucet', \n",
    "    'ticket-office', 'broom', 'dvd', 'ice-bucket', 'carapace', 'tureen', 'folders', \n",
    "    'chess', 'root', 'sewing-machine', 'model', 'pen', 'violin', 'sweatshirt', \n",
    "    'recycling-materials', 'mitten', 'chopping-board', 'mask', 'log', 'mouse', \n",
    "    'grill', 'hole', 'target', 'trash-bag', 'chalk', 'sticks', 'balloon', 'score', \n",
    "    'hair-spray', 'roll', 'runner', 'engine', 'inflatable-glove', 'games', \n",
    "    'pallets', 'baskets', 'coop', 'dvd-player', 'rocking-horse', 'buckets', \n",
    "    'bread-rolls', 'shawl', 'watering-can', 'spotlights', 'post-it', 'bowls', \n",
    "    'security-camera', 'runner-cloth', 'lock', 'alarm', 'side', 'roulette', 'bone', \n",
    "    'cutlery', 'pool-balls', 'wheels', 'spice-rack', 'plant-pots', 'towel-ring', \n",
    "    'bread-box', 'video', 'funfair', 'breads', 'tripod', 'ironing-board', 'skimmer', \n",
    "    'hollow', 'scratching-post', 'tricycle', 'file-box', 'mountain-pass', \n",
    "    'tombstones', 'cooker', 'card-game', 'golf-bag', 'towel-paper', 'chaise-lounge', \n",
    "    'sun', 'toilet-paper-holder', 'rake', 'key', 'umbrella-stand', 'dartboard', \n",
    "    'transformer', 'fireplace-utensils', 'sweatshirts', 'cellular-telephone', \n",
    "    'tallboy', 'stapler', 'sauna', 'test-tube', 'palette', 'shopping-carts', 'tools', \n",
    "    'push-button', 'star', 'roof-rack', 'barbed-wire', 'spray', 'ear', 'sponge', \n",
    "    'racket', 'tins', 'eyeglasses', 'file', 'scarfs', 'sugar-bowl', 'flip-flop', \n",
    "    'headstones', 'laptop-bag', 'leash', 'climbing-frame', 'suit-hanger', \n",
    "    'floor-spotlight', 'plate-rack', 'sewer', 'hard-drive', 'sprinkler', 'tools-box', \n",
    "    'necklace', 'bulbs', 'steel-industry', 'club', 'jack', 'door-bars', \n",
    "    'control-panel', 'hairbrush', 'napkin-holder', 'office', 'smoke-detector', \n",
    "    'utensils', 'apron', 'scissors', 'terminal', 'grinder', 'entry-phone', \n",
    "    'newspaper-stand', 'pepper-shaker', 'onions', 'central-processing-unit', 'tape', \n",
    "    'bat', 'coaster', 'calculator', 'potatoes', 'luggage-rack', 'salt', \n",
    "    'street-number', 'viewpoint', 'sword', 'cd', 'rowing-machine', 'plug', 'andiron', \n",
    "    'pepper', 'tongs', 'bonfire', 'dog-dish', 'belt', 'dumbbells', \n",
    "    'videocassette-recorder', 'hook', 'envelopes', 'shower-faucet', 'watch', \n",
    "    'padlock', 'swimming-pool-ladder', 'spanners', 'gravy-boat', 'notice-board', \n",
    "    'trash-bags', 'fire-alarm', 'ladle', 'stethoscope', 'rocket', 'funnel', \n",
    "    'bowling-pins', 'valve', 'thermometer', 'cups', 'spice-jar', 'night-light', \n",
    "    'soaps', 'games-table', 'slotted-spoon', 'reel', 'scourer', 'sleeping-robe', \n",
    "    'desk-mat', 'dumbbell', 'hammer', 'tie', 'typewriter', 'shaker', 'cheese-dish', \n",
    "    'sea-star', 'racquet', 'butane-gas-cylinder', 'paper-weight', 'shaving-brush', \n",
    "    'sunglasses', 'gear-shift', 'towel-rail', 'adding-machine'\n",
    "]\n",
    "COCO = [\n",
    "    'person', 'bicycle', 'car', 'motorcycle', 'airplane', 'bus', 'train',\n",
    "    'truck', 'boat', 'traffic light', 'fire hydrant', 'stop sign',\n",
    "    'parking meter', 'bench', 'bird', 'cat', 'dog', 'horse', 'sheep',\n",
    "    'cow', 'elephant', 'bear', 'zebra', 'giraffe', 'backpack', 'umbrella',\n",
    "    'handbag', 'tie', 'suitcase', 'frisbee', 'skis', 'snowboard',\n",
    "    'sports ball', 'kite', 'baseball bat', 'baseball glove', 'skateboard',\n",
    "    'surfboard', 'tennis racket', 'bottle', 'wine glass', 'cup', 'fork',\n",
    "    'knife', 'spoon', 'bowl', 'banana', 'apple', 'sandwich', 'orange',\n",
    "    'broccoli', 'carrot', 'hot dog', 'pizza', 'donut', 'cake', 'chair',\n",
    "    'couch', 'potted plant', 'bed', 'dining table', 'toilet', 'tv',\n",
    "    'laptop', 'mouse', 'remote', 'keyboard', 'cell phone', 'microwave',\n",
    "    'oven', 'toaster', 'sink', 'refrigerator', 'book', 'clock', 'vase',\n",
    "    'scissors', 'teddy bear', 'hair drier', 'toothbrush', 'banner',\n",
    "    'blanket', 'branch', 'bridge', 'building-other', 'bush', 'cabinet',\n",
    "    'cage', 'cardboard', 'carpet', 'ceiling-other', 'ceiling-tile',\n",
    "    'cloth', 'clothes', 'clouds', 'counter', 'cupboard', 'curtain',\n",
    "    'desk-stuff', 'dirt', 'door-stuff', 'fence', 'floor-marble',\n",
    "    'floor-other', 'floor-stone', 'floor-tile', 'floor-wood',\n",
    "    'flower', 'fog', 'food-other', 'fruit', 'furniture-other', 'grass',\n",
    "    'gravel', 'ground-other', 'hill', 'house', 'leaves', 'light', 'mat',\n",
    "    'metal', 'mirror-stuff', 'moss', 'mountain', 'mud', 'napkin', 'net',\n",
    "    'paper', 'pavement', 'pillow', 'plant-other', 'plastic', 'platform',\n",
    "    'playingfield', 'railing', 'railroad', 'river', 'road', 'rock', 'roof',\n",
    "    'rug', 'salad', 'sand', 'sea', 'shelf', 'sky-other', 'skyscraper',\n",
    "    'snow', 'solid-other', 'stairs', 'stone', 'straw', 'structural-other',\n",
    "    'table', 'tent', 'textile-other', 'towel', 'tree', 'vegetable',\n",
    "    'wall-brick', 'wall-concrete', 'wall-other', 'wall-panel',\n",
    "    'wall-stone', 'wall-tile', 'wall-wood', 'water-other', 'waterdrops',\n",
    "    'window-blind', 'window-other', 'wood'\n",
    "]\n",
    "all_cls = list(set(ADEFull) | set(COCO))\n",
    "base_cls = list(set(ADEFull) & set(COCO))\n",
    "novel_cls = list(set(ADEFull) - set(COCO))\n",
    "len(ADEFull), len(COCO), len(base_cls), len(novel_cls), len(all_cls)"
   ]
  },
  {
   "cell_type": "code",
   "execution_count": 2,
   "metadata": {},
   "outputs": [
    {
     "data": {
      "text/plain": [
       "928"
      ]
     },
     "execution_count": 2,
     "metadata": {},
     "output_type": "execute_result"
    }
   ],
   "source": [
    "import json\n",
    "\n",
    "json.dump(all_cls, open(\"ade847ucoco.json\", \"w\"))"
   ]
  },
  {
   "cell_type": "code",
   "execution_count": 10,
   "metadata": {},
   "outputs": [],
   "source": [
    "\n"
   ]
  },
  {
   "cell_type": "code",
   "execution_count": 2,
   "metadata": {},
   "outputs": [],
   "source": []
  },
  {
   "cell_type": "code",
   "execution_count": 3,
   "metadata": {},
   "outputs": [
    {
     "data": {
      "text/plain": [
       "(80, 757)"
      ]
     },
     "execution_count": 3,
     "metadata": {},
     "output_type": "execute_result"
    }
   ],
   "source": []
  },
  {
   "cell_type": "code",
   "execution_count": null,
   "metadata": {},
   "outputs": [],
   "source": []
  }
 ],
 "metadata": {
  "kernelspec": {
   "display_name": "Python 3.8.13 ('openseg')",
   "language": "python",
   "name": "python3"
  },
  "language_info": {
   "codemirror_mode": {
    "name": "ipython",
    "version": 3
   },
   "file_extension": ".py",
   "mimetype": "text/x-python",
   "name": "python",
   "nbconvert_exporter": "python",
   "pygments_lexer": "ipython3",
   "version": "3.8.13"
  },
  "orig_nbformat": 4,
  "vscode": {
   "interpreter": {
    "hash": "eb1b0331be7fe2a4d3bed66587d9247426bb7c92ddb75f50ff73b13b9866312b"
   }
  }
 },
 "nbformat": 4,
 "nbformat_minor": 2
}
