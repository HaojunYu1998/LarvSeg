{
 "cells": [
  {
   "cell_type": "markdown",
   "metadata": {},
   "source": [
    "## ADE150 ∩ COCO"
   ]
  },
  {
   "cell_type": "code",
   "execution_count": 11,
   "metadata": {},
   "outputs": [
    {
     "data": {
      "text/plain": [
       "(171, 150)"
      ]
     },
     "execution_count": 11,
     "metadata": {},
     "output_type": "execute_result"
    }
   ],
   "source": [
    "COCO = [\n",
    "    'person', 'bicycle', 'car', 'motorcycle', 'airplane', 'bus', 'train',\n",
    "    'truck', 'boat', 'traffic light', 'fire hydrant', 'stop sign',\n",
    "    'parking meter', 'bench', 'bird', 'cat', 'dog', 'horse', 'sheep',\n",
    "    'cow', 'elephant', 'bear', 'zebra', 'giraffe', 'backpack', 'umbrella',\n",
    "    'handbag', 'tie', 'suitcase', 'frisbee', 'skis', 'snowboard',\n",
    "    'sports ball', 'kite', 'baseball bat', 'baseball glove', 'skateboard',\n",
    "    'surfboard', 'tennis racket', 'bottle', 'wine glass', 'cup', 'fork',\n",
    "    'knife', 'spoon', 'bowl', 'banana', 'apple', 'sandwich', 'orange',\n",
    "    'broccoli', 'carrot', 'hot dog', 'pizza', 'donut', 'cake', 'chair',\n",
    "    'couch', 'potted plant', 'bed', 'dining table', 'toilet', 'tv',\n",
    "    'laptop', 'mouse', 'remote', 'keyboard', 'cell phone', 'microwave',\n",
    "    'oven', 'toaster', 'sink', 'refrigerator', 'book', 'clock', 'vase',\n",
    "    'scissors', 'teddy bear', 'hair drier', 'toothbrush', 'banner',\n",
    "    'blanket', 'branch', 'bridge', 'building-other', 'bush', 'cabinet',\n",
    "    'cage', 'cardboard', 'carpet', 'ceiling-other', 'ceiling-tile',\n",
    "    'cloth', 'clothes', 'clouds', 'counter', 'cupboard', 'curtain',\n",
    "    'desk-stuff', 'dirt', 'door-stuff', 'fence', 'floor-marble',\n",
    "    'floor-other', 'floor-stone', 'floor-tile', 'floor-wood',\n",
    "    'flower', 'fog', 'food-other', 'fruit', 'furniture-other', 'grass',\n",
    "    'gravel', 'ground-other', 'hill', 'house', 'leaves', 'light', 'mat',\n",
    "    'metal', 'mirror-stuff', 'moss', 'mountain', 'mud', 'napkin', 'net',\n",
    "    'paper', 'pavement', 'pillow', 'plant-other', 'plastic', 'platform',\n",
    "    'playingfield', 'railing', 'railroad', 'river', 'road', 'rock', 'roof',\n",
    "    'rug', 'salad', 'sand', 'sea', 'shelf', 'sky-other', 'skyscraper',\n",
    "    'snow', 'solid-other', 'stairs', 'stone', 'straw', 'structural-other',\n",
    "    'table', 'tent', 'textile-other', 'towel', 'tree', 'vegetable',\n",
    "    'wall-brick', 'wall-concrete', 'wall-other', 'wall-panel',\n",
    "    'wall-stone', 'wall-tile', 'wall-wood', 'water-other', 'waterdrops',\n",
    "    'window-blind', 'window-other', 'wood'\n",
    "]\n",
    "ADE = [\n",
    "    'wall', 'building', 'sky', 'floor', 'tree', 'ceiling', 'road', 'bed',\n",
    "    'windowpane', 'grass', 'cabinet', 'sidewalk', 'person', 'earth',\n",
    "    'door', 'table', 'mountain', 'plant', 'curtain', 'chair', 'car',\n",
    "    'water', 'painting', 'sofa', 'shelf', 'house', 'sea', 'mirror', 'rug',\n",
    "    'field', 'armchair', 'seat', 'fence', 'desk', 'rock', 'wardrobe',\n",
    "    'lamp', 'bathtub', 'railing', 'cushion', 'base', 'box', 'column',\n",
    "    'signboard', 'chest of drawers', 'counter', 'sand', 'sink',\n",
    "    'skyscraper', 'fireplace', 'refrigerator', 'grandstand', 'path',\n",
    "    'stairs', 'runway', 'case', 'pool table', 'pillow', 'screen door',\n",
    "    'stairway', 'river', 'bridge', 'bookcase', 'blind', 'coffee table',\n",
    "    'toilet', 'flower', 'book', 'hill', 'bench', 'countertop', 'stove',\n",
    "    'palm', 'kitchen island', 'computer', 'swivel chair', 'boat', 'bar',\n",
    "    'arcade machine', 'hovel', 'bus', 'towel', 'light', 'truck', 'tower',\n",
    "    'chandelier', 'awning', 'streetlight', 'booth', 'television receiver',\n",
    "    'airplane', 'dirt track', 'apparel', 'pole', 'land', 'bannister',\n",
    "    'escalator', 'ottoman', 'bottle', 'buffet', 'poster', 'stage', 'van',\n",
    "    'ship', 'fountain', 'conveyer belt', 'canopy', 'washer', 'plaything',\n",
    "    'swimming pool', 'stool', 'barrel', 'basket', 'waterfall', 'tent',\n",
    "    'bag', 'minibike', 'cradle', 'oven', 'ball', 'food', 'step', 'tank',\n",
    "    'trade name', 'microwave', 'pot', 'animal', 'bicycle', 'lake',\n",
    "    'dishwasher', 'screen', 'blanket', 'sculpture', 'hood', 'sconce',\n",
    "    'vase', 'traffic light', 'tray', 'ashcan', 'fan', 'pier', 'crt screen',\n",
    "    'plate', 'monitor', 'bulletin board', 'shower', 'radiator', 'glass',\n",
    "    'clock', 'flag'\n",
    "]\n",
    "len(COCO), len(ADE)"
   ]
  },
  {
   "cell_type": "code",
   "execution_count": 12,
   "metadata": {},
   "outputs": [
    {
     "data": {
      "text/plain": [
       "159"
      ]
     },
     "execution_count": 12,
     "metadata": {},
     "output_type": "execute_result"
    }
   ],
   "source": [
    "COCO = set([x.split(\"-\")[0] for x in COCO])\n",
    "len(COCO)"
   ]
  },
  {
   "cell_type": "code",
   "execution_count": 13,
   "metadata": {},
   "outputs": [
    {
     "data": {
      "text/plain": [
       "92"
      ]
     },
     "execution_count": 13,
     "metadata": {},
     "output_type": "execute_result"
    }
   ],
   "source": [
    "unseen = set(ADE) - set(COCO)\n",
    "len(unseen)"
   ]
  },
  {
   "cell_type": "code",
   "execution_count": 14,
   "metadata": {},
   "outputs": [
    {
     "data": {
      "text/plain": [
       "58"
      ]
     },
     "execution_count": 14,
     "metadata": {},
     "output_type": "execute_result"
    }
   ],
   "source": [
    "seen = set(ADE) & set(COCO)\n",
    "len(seen)"
   ]
  },
  {
   "cell_type": "code",
   "execution_count": 15,
   "metadata": {},
   "outputs": [
    {
     "name": "stdout",
     "output_type": "stream",
     "text": [
      "crt screen, bar, kitchen island, barrel, poster, windowpane, cradle, washer, conveyer belt, tank, plate, tray, earth, wardrobe, ashcan, land, buffet, seat, ship, lake, bag, lamp, awning, screen, fountain, hood, bannister, arcade machine, stairway, waterfall, trade name, grandstand, blind, swimming pool, step, pool table, stool, monitor, path, countertop, booth, bathtub, radiator, tower, escalator, signboard, coffee table, swivel chair, sconce, sculpture, fan, stove, fireplace, bulletin board, television receiver, field, box, pole, cushion, flag, basket, van, column, chandelier, stage, case, sofa, chest of drawers, shower, painting, streetlight, dishwasher, plaything, armchair, bookcase, screen door, runway, base, ottoman, dirt track, computer, pier, pot, minibike, palm, glass, ball, sidewalk, apparel, animal, canopy, hovel, "
     ]
    }
   ],
   "source": [
    "for x in unseen:\n",
    "    print(x, end=\", \")"
   ]
  },
  {
   "cell_type": "code",
   "execution_count": 16,
   "metadata": {},
   "outputs": [
    {
     "name": "stdout",
     "output_type": "stream",
     "text": [
      "cabinet, mirror, oven, tent, person, table, fence, grass, book, shelf, house, water, airplane, refrigerator, desk, sand, bottle, chair, pillow, bridge, towel, bed, clock, ceiling, wall, plant, stairs, bus, road, blanket, mountain, railing, light, food, bicycle, car, door, bench, boat, curtain, skyscraper, truck, sky, river, sea, traffic light, tree, building, vase, rug, counter, flower, floor, hill, rock, toilet, sink, microwave, "
     ]
    }
   ],
   "source": [
    "for x in seen:\n",
    "    print(x, end=\", \")"
   ]
  },
  {
   "cell_type": "code",
   "execution_count": 17,
   "metadata": {},
   "outputs": [
    {
     "name": "stdout",
     "output_type": "stream",
     "text": [
      "141, 77, 73, 111, 100, 8, 117, 107, 105, 122, 142, 137, 13, 35, 138, 94, 99, 31, 103, 128, 115, 36, 86, 130, 104, 133, 95, 78, 59, 113, 123, 51, 63, 109, 121, 56, 110, 143, 52, 70, 88, 37, 146, 84, 96, 43, 64, 75, 134, 132, 139, 71, 49, 144, 89, 29, 41, 93, 39, 149, 112, 102, 42, 85, 101, 55, 23, 44, 145, 22, 87, 129, 108, 30, 62, 58, 54, 40, 97, 91, 74, 140, 125, 116, 72, 147, 119, 11, 92, 126, 106, 79, "
     ]
    }
   ],
   "source": [
    "for x in unseen:\n",
    "    print(ADE.index(x), end=\", \")"
   ]
  },
  {
   "cell_type": "code",
   "execution_count": 18,
   "metadata": {},
   "outputs": [
    {
     "name": "stdout",
     "output_type": "stream",
     "text": [
      "10, 27, 118, 114, 12, 15, 32, 9, 67, 24, 25, 21, 90, 50, 33, 46, 98, 19, 57, 61, 81, 7, 148, 5, 0, 17, 53, 80, 6, 131, 16, 38, 82, 120, 127, 20, 14, 69, 76, 18, 48, 83, 2, 60, 26, 136, 4, 1, 135, 28, 45, 66, 3, 68, 34, 65, 47, 124, "
     ]
    }
   ],
   "source": [
    "for x in seen:\n",
    "    print(ADE.index(x), end=\", \")"
   ]
  },
  {
   "cell_type": "code",
   "execution_count": null,
   "metadata": {},
   "outputs": [],
   "source": []
  }
 ],
 "metadata": {
  "kernelspec": {
   "display_name": "Python 3.8.13 ('openseg')",
   "language": "python",
   "name": "python3"
  },
  "language_info": {
   "codemirror_mode": {
    "name": "ipython",
    "version": 3
   },
   "file_extension": ".py",
   "mimetype": "text/x-python",
   "name": "python",
   "nbconvert_exporter": "python",
   "pygments_lexer": "ipython3",
   "version": "3.8.13"
  },
  "orig_nbformat": 4,
  "vscode": {
   "interpreter": {
    "hash": "eb1b0331be7fe2a4d3bed66587d9247426bb7c92ddb75f50ff73b13b9866312b"
   }
  }
 },
 "nbformat": 4,
 "nbformat_minor": 2
}
